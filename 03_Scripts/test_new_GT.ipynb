{
 "cells": [
  {
   "cell_type": "code",
   "execution_count": null,
   "metadata": {},
   "outputs": [],
   "source": [
    "import os, sys\n",
    "\n",
    "import numpy as np\n",
    "import pandas as pd\n",
    "import geopandas as gpd\n",
    "\n",
    "import fct_misc\n",
    "\n",
    "from tqdm import tqdm\n"
   ]
  },
  {
   "attachments": {},
   "cell_type": "markdown",
   "metadata": {},
   "source": [
    "# Official cadastral survey\n"
   ]
  },
  {
   "attachments": {},
   "cell_type": "markdown",
   "metadata": {},
   "source": [
    "## Read data\n"
   ]
  },
  {
   "cell_type": "code",
   "execution_count": null,
   "metadata": {},
   "outputs": [],
   "source": [
    "INITIAL_FOLDER = \"/mnt/data-01/gsalamin/proj-roadsurf-b/02_Data/initial\"\n",
    "PROCESSED_FOLDER = \"/mnt/data-01/gsalamin/proj-roadsurf-b/02_Data/processed\"\n",
    "\n",
    "ROADS_CS = \"MO/cleaned_roads_MO.gpkg\"\n",
    "ROADS_LINES = \"TLM/Strassen/corrected_roads_inside_AOI.shp\"\n",
    "# ROADS_TLM = \"shapefiles_gpkg/roads_for_OD.shp\"\n",
    "GT_ROADS=\"json/ground_truth_labels.geojson\"\n",
    "OTH_ROADS=\"json/other_labels.geojson\"\n",
    "FOREST = \"TLM/Clip_Wald_Bodenbedeckung/forests.shp\"\n",
    "\n",
    "ROADS_PARAM = \"TLM/Strassen/Objektarten_to_keep.xlsx\"\n",
    "\n",
    "NOT_ROAD = [12, 13, 14, 19, 22, 23]\n",
    "KUNSTBAUTE_TO_KEEP = [100, 200]\n"
   ]
  },
  {
   "cell_type": "code",
   "execution_count": null,
   "metadata": {},
   "outputs": [],
   "source": [
    "roads_cs_good = gpd.read_file(os.path.join(\n",
    "    INITIAL_FOLDER, ROADS_CS), layer=\"good_roads_cleaned\")\n",
    "roads_cs_bad = gpd.read_file(os.path.join(\n",
    "    INITIAL_FOLDER, ROADS_CS), layer=\"bad_roads_cleaned\")\n",
    "# roads_tlm = gpd.read_file(os.path.join(PROCESSED_FOLDER, ROADS_TLM))\n",
    "gt_roads=gpd.read_file(os.path.join(PROCESSED_FOLDER, GT_ROADS))\n",
    "oth_roads=gpd.read_file(os.path.join(PROCESSED_FOLDER, OTH_ROADS))\n",
    "\n",
    "roads_lines = gpd.read_file(os.path.join(INITIAL_FOLDER, ROADS_LINES))\n",
    "forest = gpd.read_file(os.path.join(INITIAL_FOLDER, FOREST))\n",
    "\n",
    "roads_param = pd.read_excel(os.path.join(INITIAL_FOLDER, ROADS_PARAM))\n"
   ]
  },
  {
   "cell_type": "code",
   "execution_count": null,
   "metadata": {},
   "outputs": [],
   "source": [
    "roads_cs = pd.concat([roads_cs_good, roads_cs_bad])\n",
    "roads_tlm = pd.concat([gt_roads, oth_roads])\n"
   ]
  },
  {
   "attachments": {},
   "cell_type": "markdown",
   "metadata": {},
   "source": [
    "## Treat data\n"
   ]
  },
  {
   "attachments": {},
   "cell_type": "markdown",
   "metadata": {},
   "source": [
    "Make the joined domain\n"
   ]
  },
  {
   "cell_type": "code",
   "execution_count": null,
   "metadata": {},
   "outputs": [],
   "source": [
    "roads_cs=roads_cs.to_crs(crs=roads_tlm.crs)\n",
    "roads_cs = fct_misc.test_valid_geom(roads_cs, correct=True, gdf_obj_name='roads from the cadastral survey')\n",
    "\n",
    "# roads_cs = fct_misc.test_valid_geom(roads_cs, correct=False, gdf_obj_name='roads from the cadastral survey')\n"
   ]
  },
  {
   "cell_type": "code",
   "execution_count": null,
   "metadata": {},
   "outputs": [],
   "source": [
    "roads_tlm=fct_misc.test_valid_geom(roads_tlm, correct=False, gdf_obj_name='roads from the TLM')"
   ]
  },
  {
   "cell_type": "code",
   "execution_count": null,
   "metadata": {},
   "outputs": [],
   "source": [
    "fct_misc.test_crs(roads_cs.crs, roads_tlm.crs)\n",
    "roads_domain = gpd.overlay(roads_tlm, roads_cs, how=\"union\")\n"
   ]
  },
  {
   "cell_type": "code",
   "execution_count": null,
   "metadata": {},
   "outputs": [],
   "source": [
    "temp = roads_domain.unary_union\n",
    "roads_domain_union = gpd.GeoDataFrame({'id': [k for k in range(len(temp.geoms))], 'geometry': [geom for geom in temp.geoms]},\n",
    "                                      crs=roads_domain.crs)\n"
   ]
  },
  {
   "cell_type": "code",
   "execution_count": null,
   "metadata": {},
   "outputs": [],
   "source": [
    "roads_domain_union.to_file(os.path.join(\n",
    "    PROCESSED_FOLDER, \"shapefiles_gpkg/test_MO_TLM.shp\"))\n"
   ]
  },
  {
   "attachments": {},
   "cell_type": "markdown",
   "metadata": {},
   "source": [
    "Get roads parts\n"
   ]
  },
  {
   "cell_type": "code",
   "execution_count": null,
   "metadata": {},
   "outputs": [],
   "source": [
    "roads_of_interest = roads_lines[~roads_lines['OBJEKTART'].isin(NOT_ROAD)]\n",
    "uncovered_roads = roads_of_interest[roads_of_interest['KUNSTBAUTE'].isin(\n",
    "    KUNSTBAUTE_TO_KEEP)]\n",
    "\n",
    "roads_param_filtered = roads_param[~roads_param['Width'].isna()].copy()\n",
    "\n",
    "# From observation, adjusting the road with to keep as much as the cadastral survey as possible\n",
    "roads_param_filtered.loc[roads_param_filtered['GDB-Code'] == 0, 'Width'] = 7\n",
    "roads_param_filtered.loc[roads_param_filtered['GDB-Code'] == 1, 'Width'] = 7\n",
    "roads_param_filtered.loc[roads_param_filtered['GDB-Code'] == 2, 'Width'] = 10\n",
    "roads_param_filtered.loc[roads_param_filtered['GDB-Code'] == 11, 'Width'] = 5\n",
    "roads_param_filtered.loc[roads_param_filtered['GDB-Code'] == 15, 'Width'] = 3\n",
    "roads_param_filtered.loc[roads_param_filtered['GDB-Code'] == 21, 'Width'] = 8\n",
    "\n",
    "\n",
    "roads_param_filtered.drop_duplicates(\n",
    "    subset='GDB-Code', inplace=True)       # Keep first by default\n",
    "\n",
    "uncovered_roads = uncovered_roads.merge(roads_param_filtered[[\n",
    "                                        'GDB-Code', 'Width']], how='inner', left_on='OBJEKTART', right_on='GDB-Code')\n",
    "\n",
    "uncovered_roads.drop(columns=[\n",
    "    'DATUM_AEND', 'DATUM_ERST', 'ERSTELLUNG', 'ERSTELLU_1', 'UUID',\n",
    "    'REVISION_J', 'REVISION_M', 'GRUND_AEND', 'HERKUNFT', 'HERKUNFT_J',\n",
    "    'HERKUNFT_M', 'REVISION_Q', 'WANDERWEGE', 'VERKEHRSBE',\n",
    "    'BEFAHRBARK', 'EROEFFNUNG', 'STUFE', 'RICHTUNGSG',\n",
    "    'KREISEL', 'EIGENTUEME', 'VERKEHRS_1', 'NAME',\n",
    "    'TLM_STRASS', 'STRASSENNA', 'SHAPE_Leng'], inplace=True)\n",
    "\n",
    "buffered_roads = uncovered_roads.copy()\n",
    "buffered_roads['geometry'] = uncovered_roads.buffer(\n",
    "    uncovered_roads['Width'], cap_style=2)\n",
    "\n",
    "# Do not let roundabout parts make artifacts\n",
    "buff_geometries = []\n",
    "for geom in buffered_roads['geometry'].values:\n",
    "    if geom.geom_type == 'MultiPolygon':\n",
    "        buff_geometries.append(max(geom.geoms, key=lambda a: a.area))\n",
    "    else:\n",
    "        buff_geometries.append(geom)\n",
    "\n",
    "buffered_roads['geometry'] = buff_geometries\n",
    "\n",
    "# Erase overlapping zones of roads buffer\n",
    "buffered_roads['saved_geom'] = buffered_roads.geometry\n",
    "joined_roads_in_aoi = gpd.sjoin(buffered_roads, buffered_roads[[\n",
    "                                'OBJECTID', 'OBJEKTART', 'saved_geom', 'geometry']], how='left', lsuffix='1', rsuffix='2')\n",
    "\n",
    "# Drop excessive rows\n",
    "intersected = joined_roads_in_aoi[joined_roads_in_aoi['OBJECTID_2'].notna(\n",
    ")].copy()\n",
    "intersected_not_itself = intersected[intersected['OBJECTID_1']\n",
    "                                     != intersected['OBJECTID_2']].copy()\n",
    "intersected_roads = intersected_not_itself.drop_duplicates(\n",
    "    subset=['OBJECTID_1', 'OBJECTID_2'])\n",
    "\n",
    "intersected_roads.reset_index(inplace=True, drop=True)\n",
    "\n",
    "# Sort the roads so that the widest ones come first\n",
    "intersected_roads.loc[intersected_roads['OBJEKTART_1']\n",
    "                      == 0, 'OBJEKTART_1'] = 5.5\n",
    "intersected_roads.loc[intersected_roads['OBJEKTART_1']\n",
    "                      == 1, 'OBJEKTART_1'] = 5.6\n",
    "intersected_roads.loc[intersected_roads['OBJEKTART_1']\n",
    "                      == 20, 'OBJEKTART_1'] = 8.5\n",
    "intersected_roads.loc[intersected_roads['OBJEKTART_1']\n",
    "                      == 21, 'OBJEKTART_1'] = 2.5\n",
    "\n",
    "intersect_other_width = intersected_roads[intersected_roads['OBJEKTART_1']\n",
    "                                          < intersected_roads['OBJEKTART_2']].copy()\n",
    "\n",
    "# WARNING: order set to descending to promote the roads 3m which are a low class. -> otherwise, give a high number to this class...\n",
    "intersect_other_width.sort_values(\n",
    "    by=['OBJEKTART_1'], inplace=True, ascending=True)\n",
    "intersected_roads.loc[intersected_roads['OBJEKTART_1']\n",
    "                      == 5.5, 'OBJEKTART_1'] = 0\n",
    "intersected_roads.loc[intersected_roads['OBJEKTART_1']\n",
    "                      == 5.6, 'OBJEKTART_1'] = 1\n",
    "intersect_other_width.loc[intersect_other_width['OBJEKTART_1']\n",
    "                          == 8.5, 'OBJEKTART_1'] = 20\n",
    "intersect_other_width.loc[intersect_other_width['OBJEKTART_1']\n",
    "                          == 2.5, 'OBJEKTART_1'] = 21\n",
    "\n",
    "intersect_other_width.sort_values(\n",
    "    by=['KUNSTBAUTE'], ascending=False, inplace=True, ignore_index=True)\n",
    "\n",
    "# Suppress the overlapping intersection\n",
    "corr_overlap = buffered_roads.copy()\n",
    "\n",
    "for idx in tqdm(intersect_other_width.index, total=intersect_other_width.shape[0],\n",
    "                desc='Suppressing the overlap of roads with different width'):\n",
    "\n",
    "    poly1_id = corr_overlap.index[corr_overlap['OBJECTID'] ==\n",
    "                                  intersect_other_width.loc[idx, 'OBJECTID_1']].values.astype(int)[0]\n",
    "    poly2_id = corr_overlap.index[corr_overlap['OBJECTID'] ==\n",
    "                                  intersect_other_width.loc[idx, 'OBJECTID_2']].values.astype(int)[0]\n",
    "\n",
    "    corr_overlap = fct_misc.polygons_diff_without_artifacts(\n",
    "        corr_overlap, poly1_id, poly2_id, keep_everything=True)\n",
    "\n",
    "corr_overlap.drop(columns=['saved_geom'], inplace=True)\n",
    "corr_overlap.set_crs(epsg=2056, inplace=True)\n",
    "\n",
    "# Exclude the roads potentially under forest canopy\n",
    "print('Suppressing roads under the forest canopy...')\n",
    "fct_misc.test_crs(corr_overlap.crs, forest.crs)\n",
    "\n",
    "forest['buffered_geom'] = forest.buffer(3)\n",
    "forest.drop(columns=['geometry'], inplace=True)\n",
    "forest.rename(columns={'buffered_geom': 'geometry'}, inplace=True)\n",
    "\n",
    "non_forest_roads = corr_overlap.copy()\n",
    "roads_parts = non_forest_roads.overlay(\n",
    "    forest[['UUID', 'geometry']], how='difference')\n",
    "\n",
    "roads_parts.drop(columns=['GDB-Code'], inplace=True)\n",
    "roads_parts.rename(columns={'Width': 'road_width'}, inplace=True)\n"
   ]
  },
  {
   "cell_type": "code",
   "execution_count": null,
   "metadata": {},
   "outputs": [],
   "source": [
    "roads_parts.to_file(os.path.join(\n",
    "    PROCESSED_FOLDER, \"shapefiles_gpkg/test_clip_MO_TLM.shp\"))\n"
   ]
  },
  {
   "cell_type": "code",
   "execution_count": null,
   "metadata": {},
   "outputs": [],
   "source": [
    "roads_parts.to_crs(crs=roads_domain_union.crs, inplace=True)\n",
    "fct_misc.test_crs(roads_domain_union, roads_parts)\n"
   ]
  },
  {
   "cell_type": "code",
   "execution_count": null,
   "metadata": {},
   "outputs": [],
   "source": [
    "roads_parts = fct_misc.test_valid_geom(roads_parts, True, 'road parts')\n"
   ]
  },
  {
   "attachments": {},
   "cell_type": "markdown",
   "metadata": {},
   "source": [
    "Cut the roads at intersections\n"
   ]
  },
  {
   "cell_type": "code",
   "execution_count": null,
   "metadata": {},
   "outputs": [],
   "source": [
    "sectionned_roads = gpd.overlay(\n",
    "    roads_domain_union, roads_parts, how=\"intersection\")\n",
    "print(sectionned_roads.columns)\n"
   ]
  },
  {
   "cell_type": "code",
   "execution_count": null,
   "metadata": {},
   "outputs": [],
   "source": [
    "# sectionned_roads.to_file(os.path.join(PROCESSED_FOLDER, \"shapefiles_gpkg/test_sectionned_roads.shp\"))\n",
    "\n",
    "# sectionned_roads_4326 = sectionned_roads.to_crs(epsg=4326)\n",
    "# sectionned_roads_4326.to_file(os.path.join(PROCESSED_FOLDER, \"json/roads_MO_TLM_sectionned.geojson\"))\n",
    "\n",
    "sectionned_roads.to_file(os.path.join(PROCESSED_FOLDER, 'shapefiles_gpkg/roads_MO_TLM.gpkg'), layer=\"sectionned_roads\")\n"
   ]
  },
  {
   "cell_type": "code",
   "execution_count": null,
   "metadata": {},
   "outputs": [],
   "source": [
    "# added_parts=gpd.overlay(roads_domain_union, roads_parts, how=\"difference\")\n",
    "# print(added_parts.columns)\n",
    "# labels=pd.concat([sectionned_roads, added_parts])\n"
   ]
  },
  {
   "cell_type": "code",
   "execution_count": null,
   "metadata": {},
   "outputs": [],
   "source": []
  },
  {
   "attachments": {},
   "cell_type": "markdown",
   "metadata": {},
   "source": [
    "Cut the roads by surface type\n"
   ]
  },
  {
   "cell_type": "code",
   "execution_count": null,
   "metadata": {},
   "outputs": [],
   "source": [
    "roads_parts_surface = gpd.GeoDataFrame()\n",
    "for surface_type in [100, 200]:\n",
    "    roads_by_surface = roads_parts[roads_parts['BELAGSART'] == surface_type]\n",
    "\n",
    "    surface_union_geom = roads_by_surface.unary_union\n",
    "    surface_union = gpd.GeoDataFrame({'id_suface': [k for k in range(len(surface_union_geom.geoms))],\n",
    "                                     'geometry': [geom for geom in surface_union_geom.geoms],\n",
    "                                      'BELAGSART': [surface_type for k in range(len(surface_union_geom.geoms))]},\n",
    "                                     crs=roads_parts.crs)\n",
    "\n",
    "    roads_parts_surface = pd.concat(\n",
    "        [roads_parts_surface, surface_union], ignore_index=True)\n"
   ]
  },
  {
   "cell_type": "code",
   "execution_count": null,
   "metadata": {},
   "outputs": [],
   "source": [
    "fct_misc.test_crs(roads_domain_union, roads_parts_surface)\n",
    "sectionned_roads_surface = gpd.overlay(\n",
    "    roads_domain_union, roads_parts_surface, how=\"intersection\")\n",
    "print(sectionned_roads_surface.columns)\n"
   ]
  },
  {
   "cell_type": "code",
   "execution_count": null,
   "metadata": {},
   "outputs": [],
   "source": [
    "# sectionned_roads_surface.to_file(os.path.join(PROCESSED_FOLDER, \"shapefiles_gpkg/test_fusionned_surface.shp\"))\n",
    "\n",
    "# sectionned_roads_surface_4326 = sectionned_roads_surface.to_crs(epsg=4326)\n",
    "# sectionned_roads_surface_4326.to_file(os.path.join(PROCESSED_FOLDER, \"json/roads_MO_TLM_sec_by_surface.geojson\"))\n",
    "\n",
    "sectionned_roads_surface.to_file(os.path.join(PROCESSED_FOLDER, 'shapefiles_gpkg/roads_MO_TLM.gpkg'), layer=\"sectionned_roads_by_surface\")\n"
   ]
  },
  {
   "attachments": {},
   "cell_type": "markdown",
   "metadata": {},
   "source": [
    "Cut the roads by object type\n"
   ]
  },
  {
   "cell_type": "code",
   "execution_count": null,
   "metadata": {},
   "outputs": [],
   "source": [
    "roads_parts_type = gpd.GeoDataFrame()\n",
    "for surface_type in [100, 200]:\n",
    "    roads_by_surface = roads_parts[roads_parts['BELAGSART'] == surface_type]\n",
    "\n",
    "    for road_type in roads_by_surface['OBJEKTART'].unique().tolist():\n",
    "        roads_by_type = roads_by_surface[roads_by_surface['OBJEKTART'] == road_type]\n",
    "\n",
    "        type_union_geom = roads_by_type.unary_union\n",
    "        try:\n",
    "            type_union = gpd.GeoDataFrame({'id_type': [k for k in range(len(type_union_geom.geoms))],\n",
    "                                          'geometry': [geom for geom in type_union_geom.geoms],\n",
    "                                           'OBJEKTART': [road_type for k in range(len(type_union_geom.geoms))],\n",
    "                                           'BELAGSART': [surface_type for k in range(len(type_union_geom.geoms))]},\n",
    "                                          crs=roads_parts.crs)\n",
    "        except AttributeError as e:\n",
    "            if type_union_geom.geom_type == 'Polygon':\n",
    "                type_union = gpd.GeoDataFrame({'id_type': [0], 'geometry': [type_union_geom],\n",
    "                                              'OBJEKTART': [road_type], 'BELAGSART': [surface_type]},\n",
    "                                              crs=roads_parts.crs)\n",
    "            else:\n",
    "                print(e)\n",
    "                sys.exit(1)\n",
    "\n",
    "        roads_parts_type = pd.concat([roads_parts_type, type_union], ignore_index=True)\n"
   ]
  },
  {
   "cell_type": "code",
   "execution_count": null,
   "metadata": {},
   "outputs": [],
   "source": [
    "fct_misc.test_crs(roads_domain_union, roads_parts_type)\n",
    "sectionned_roads_type = gpd.overlay(roads_domain_union, roads_parts_type, how=\"intersection\")\n",
    "print(sectionned_roads_type.columns)\n"
   ]
  },
  {
   "cell_type": "code",
   "execution_count": null,
   "metadata": {},
   "outputs": [],
   "source": [
    "# sectionned_roads_type.to_file(os.path.join(PROCESSED_FOLDER, \"shapefiles_gpkg/test_fusionned_type.shp\"))\n",
    "\n",
    "# sectionned_roads_type_4326 = sectionned_roads_type.to_crs(epsg=4326)\n",
    "# sectionned_roads_type_4326.to_file(os.path.join(PROCESSED_FOLDER, \"json/roads_MO_TLM_sec_by_type.geojson\"))\n",
    "\n",
    "sectionned_roads_type.to_file(os.path.join(PROCESSED_FOLDER, 'shapefiles_gpkg/roads_MO_TLM.gpkg'), layer=\"sectionned_roads_by_type\")\n",
    "\n"
   ]
  },
  {
   "cell_type": "code",
   "execution_count": null,
   "metadata": {},
   "outputs": [],
   "source": []
  }
 ],
 "metadata": {
  "kernelspec": {
   "display_name": "road_surfaces",
   "language": "python",
   "name": "python3"
  },
  "language_info": {
   "codemirror_mode": {
    "name": "ipython",
    "version": 3
   },
   "file_extension": ".py",
   "mimetype": "text/x-python",
   "name": "python",
   "nbconvert_exporter": "python",
   "pygments_lexer": "ipython3",
   "version": "3.8.10"
  },
  "orig_nbformat": 4,
  "vscode": {
   "interpreter": {
    "hash": "0d832f3481d940cc3bb935f7c66bfbdcf68066e3553491dd3c1b68c49468b7cc"
   }
  }
 },
 "nbformat": 4,
 "nbformat_minor": 2
}
