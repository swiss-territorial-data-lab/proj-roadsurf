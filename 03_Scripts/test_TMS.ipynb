{
 "cells": [
  {
   "cell_type": "code",
   "execution_count": 204,
   "id": "b3d1dd83-edb9-4e3a-af03-13bbb3d3b553",
   "metadata": {},
   "outputs": [],
   "source": [
    "import os\n",
    "import rasterio as rio\n",
    "import pandas as pd\n",
    "import geopandas as gpd\n",
    "import morecantile\n",
    "import pyproj\n",
    "import requests\n",
    "import lxml\n",
    "\n",
    "from shapely.geometry import box"
   ]
  },
  {
   "cell_type": "code",
   "execution_count": 2,
   "id": "fa8959b3-cfde-4714-97bc-6b2ebfb5cc2f",
   "metadata": {},
   "outputs": [],
   "source": [
    "DATA_DIR = \"/mnt/s3/proj-roadsurf/02_Data/initial/images_RS/\"\n",
    "SIRS_TK_SHPZIP = \"zip:///mnt/s3/proj-roadsurf/02_Data/initial/images_RS/SIRS_TK.zip\"\n"
   ]
  },
  {
   "cell_type": "code",
   "execution_count": 3,
   "id": "419188c0-e587-488e-a287-b2bb8eb3e88d",
   "metadata": {},
   "outputs": [
    {
     "name": "stdout",
     "output_type": "stream",
     "text": [
      "20180427_1430_12504_0_32.tfw\n",
      "20180427_1430_12504_0_32.tif\n",
      "20180427_1430_12504_0_33.tfw\n",
      "20180427_1430_12504_0_33.tif\n",
      "20180427_1430_12504_0_34.tfw\n",
      "20180427_1430_12504_0_34.tif\n",
      "20180427_1430_12504_0_35.tfw\n",
      "20180427_1430_12504_0_35.tif\n",
      "20180427_1430_12504_0_36.tfw\n",
      "20180427_1430_12504_0_36.tif\n",
      "SIRS_TK.zip\n"
     ]
    }
   ],
   "source": [
    "for f in os.listdir(DATA_DIR):\n",
    "    print(f)"
   ]
  },
  {
   "cell_type": "code",
   "execution_count": 372,
   "id": "d3bccce0-20db-4507-a91c-9408346d48a2",
   "metadata": {},
   "outputs": [
    {
     "name": "stdout",
     "output_type": "stream",
     "text": [
      "12800 16806\n",
      "BoundingBox(left=2619471.5, bottom=1192519.3, right=2620751.5, top=1194199.9000000001)\n",
      "['__class__', '__delattr__', '__dict__', '__dir__', '__doc__', '__enter__', '__eq__', '__exit__', '__format__', '__ge__', '__getattribute__', '__gt__', '__hash__', '__init__', '__init_subclass__', '__le__', '__lt__', '__module__', '__ne__', '__new__', '__pyx_vtable__', '__reduce__', '__reduce_ex__', '__repr__', '__setattr__', '__setstate__', '__sizeof__', '__str__', '__subclasshook__', '__weakref__', '_block_shapes', '_closed', '_count', '_crs', '_crs_wkt', '_descriptions', '_dtypes', '_env', '_gcps', '_get_crs', '_get_rpcs', '_handle_crswkt', '_has_band', '_has_gcps_or_rpcs', '_mask_flags', '_nodatavals', '_offsets', '_read', '_rpcs', '_scales', '_set_all_descriptions', '_set_all_offsets', '_set_all_scales', '_set_all_units', '_set_attrs_from_dataset_handle', '_set_crs', '_set_gcps', '_set_nodatavals', '_set_rpcs', '_transform', '_units', 'block_shapes', 'block_size', 'block_window', 'block_windows', 'bounds', 'checksum', 'close', 'closed', 'colorinterp', 'colormap', 'compression', 'count', 'crs', 'dataset_mask', 'descriptions', 'driver', 'dtypes', 'files', 'gcps', 'get_gcps', 'get_nodatavals', 'get_tag_item', 'get_transform', 'height', 'index', 'indexes', 'interleaving', 'is_tiled', 'lnglat', 'mask_flag_enums', 'meta', 'mode', 'name', 'nodata', 'nodatavals', 'offsets', 'options', 'overviews', 'photometric', 'profile', 'read', 'read_crs', 'read_masks', 'read_transform', 'res', 'rpcs', 'sample', 'scales', 'shape', 'start', 'statistics', 'stop', 'subdatasets', 'tag_namespaces', 'tags', 'transform', 'units', 'width', 'window', 'window_bounds', 'window_transform', 'write_transform', 'xy']\n",
      "None\n",
      "Statistics(min=0.0, max=7741.0, mean=2940.214320215686, std=1506.1492688943085)\n"
     ]
    }
   ],
   "source": [
    "with rio.open(os.path.join(DATA_DIR, \"20180427_1430_12504_0_32.tif\")) as ds:\n",
    "    print(ds.width, ds.height)\n",
    "    print(ds.bounds)\n",
    "    print(dir(ds))\n",
    "    print(ds.crs)\n",
    "    \n",
    "    #print(ds.statistics(bidx=1, approx=True, clear_cache=True))"
   ]
  },
  {
   "cell_type": "code",
   "execution_count": 357,
   "id": "80f7404b-92b8-4a86-bcf6-7e703e7fcf74",
   "metadata": {},
   "outputs": [
    {
     "data": {
      "text/plain": [
       "\u001b[0;31mDocstring:\u001b[0m\n",
       "Get min, max, mean, and standard deviation of a raster band.\n",
       "\n",
       "Parameters\n",
       "----------\n",
       "bidx : int\n",
       "    The band's index (1-indexed).\n",
       "approx : bool, optional\n",
       "    If True, statistics will be calculated from reduced\n",
       "    resolution data.\n",
       "clear_cache : bool, optional\n",
       "    If True, saved stats will be deleted and statistics will be\n",
       "    recomputed. Requires GDAL version >= 3.2.\n",
       "\n",
       "Returns\n",
       "-------\n",
       "Statistics\n",
       "\n",
       "Notes\n",
       "-----\n",
       "GDAL will preferentially use statistics kept in raster metadata\n",
       "like images tags or an XML sidecar. If that metadata is out of\n",
       "date, the statistics may not correspond to the actual data.\n",
       "\n",
       "Additionally, GDAL will save statistics to file metadata as a\n",
       "side effect if that metadata does not already exist.\n",
       "\u001b[0;31mType:\u001b[0m      builtin_function_or_method\n"
      ]
     },
     "metadata": {},
     "output_type": "display_data"
    }
   ],
   "source": [
    "? ds.statistics"
   ]
  },
  {
   "cell_type": "code",
   "execution_count": 359,
   "id": "7652cbdb-9bda-46de-bb2e-49489857db45",
   "metadata": {},
   "outputs": [
    {
     "ename": "RasterioIOError",
     "evalue": "Dataset is closed: /mnt/s3/proj-roadsurf/02_Data/initial/images_RS/20180427_1430_12504_0_32.tif",
     "output_type": "error",
     "traceback": [
      "\u001b[0;31m---------------------------------------------------------------------------\u001b[0m",
      "\u001b[0;31mRasterioIOError\u001b[0m                           Traceback (most recent call last)",
      "Input \u001b[0;32mIn [359]\u001b[0m, in \u001b[0;36m<cell line: 1>\u001b[0;34m()\u001b[0m\n\u001b[0;32m----> 1\u001b[0m \u001b[43mds\u001b[49m\u001b[38;5;241;43m.\u001b[39;49m\u001b[43mstatistics\u001b[49m\u001b[43m(\u001b[49m\u001b[43mbidx\u001b[49m\u001b[38;5;241;43m=\u001b[39;49m\u001b[38;5;241;43m1\u001b[39;49m\u001b[43m,\u001b[49m\u001b[43m \u001b[49m\u001b[43mapprox\u001b[49m\u001b[38;5;241;43m=\u001b[39;49m\u001b[38;5;28;43;01mTrue\u001b[39;49;00m\u001b[43m)\u001b[49m\n",
      "File \u001b[0;32mrasterio/_io.pyx:1096\u001b[0m, in \u001b[0;36mrasterio._io.DatasetReaderBase.statistics\u001b[0;34m()\u001b[0m\n",
      "File \u001b[0;32mrasterio/_base.pyx:359\u001b[0m, in \u001b[0;36mrasterio._base.DatasetBase.band\u001b[0;34m()\u001b[0m\n",
      "File \u001b[0;32mrasterio/_base.pyx:352\u001b[0m, in \u001b[0;36mrasterio._base.DatasetBase.handle\u001b[0;34m()\u001b[0m\n",
      "\u001b[0;31mRasterioIOError\u001b[0m: Dataset is closed: /mnt/s3/proj-roadsurf/02_Data/initial/images_RS/20180427_1430_12504_0_32.tif"
     ]
    }
   ],
   "source": [
    "ds.statistics(bidx=1, approx=True)"
   ]
  },
  {
   "cell_type": "code",
   "execution_count": 5,
   "id": "e3551665-ae0c-440d-bd00-78c32a2fdfb4",
   "metadata": {},
   "outputs": [],
   "source": [
    "sirs_tk_df = gpd.read_file(SIRS_TK_SHPZIP)"
   ]
  },
  {
   "cell_type": "code",
   "execution_count": 6,
   "id": "87e500c6-6014-41d4-a6eb-78eeb5dbfe81",
   "metadata": {},
   "outputs": [
    {
     "data": {
      "text/plain": [
       "ID                                   20180427_1430_12504_0_32\n",
       "LINE_ID                                   20180427_1430_12504\n",
       "geometry    POLYGON ((2619471.5 1192519.3, 2619471.5 11941...\n",
       "Name: 153, dtype: object"
      ]
     },
     "execution_count": 6,
     "metadata": {},
     "output_type": "execute_result"
    }
   ],
   "source": [
    "sirs_tk_df.sort_values(by='ID').iloc[0]"
   ]
  },
  {
   "cell_type": "code",
   "execution_count": 7,
   "id": "98c6b8ed-d9b3-4e8c-83c3-2e67771d3357",
   "metadata": {},
   "outputs": [
    {
     "data": {
      "text/plain": [
       "2151168.000000119"
      ]
     },
     "execution_count": 7,
     "metadata": {},
     "output_type": "execute_result"
    }
   ],
   "source": [
    "sirs_tk_df.sort_values(by='ID').iloc[0].geometry.area"
   ]
  },
  {
   "cell_type": "code",
   "execution_count": 8,
   "id": "ddd5a298-e71c-4592-bf43-06103f721971",
   "metadata": {},
   "outputs": [
    {
     "data": {
      "text/html": [
       "<div>\n",
       "<style scoped>\n",
       "    .dataframe tbody tr th:only-of-type {\n",
       "        vertical-align: middle;\n",
       "    }\n",
       "\n",
       "    .dataframe tbody tr th {\n",
       "        vertical-align: top;\n",
       "    }\n",
       "\n",
       "    .dataframe thead th {\n",
       "        text-align: right;\n",
       "    }\n",
       "</style>\n",
       "<table border=\"1\" class=\"dataframe\">\n",
       "  <thead>\n",
       "    <tr style=\"text-align: right;\">\n",
       "      <th></th>\n",
       "      <th>file</th>\n",
       "      <th>geometry</th>\n",
       "    </tr>\n",
       "  </thead>\n",
       "  <tbody>\n",
       "    <tr>\n",
       "      <th>0</th>\n",
       "      <td>20180427_1430_12504_0_32.tif</td>\n",
       "      <td>POLYGON ((2620751.500 1192519.300, 2620751.500...</td>\n",
       "    </tr>\n",
       "    <tr>\n",
       "      <th>0</th>\n",
       "      <td>20180427_1430_12504_0_33.tif</td>\n",
       "      <td>POLYGON ((2622031.500 1192535.600, 2622031.500...</td>\n",
       "    </tr>\n",
       "    <tr>\n",
       "      <th>0</th>\n",
       "      <td>20180427_1430_12504_0_34.tif</td>\n",
       "      <td>POLYGON ((2623311.500 1192534.300, 2623311.500...</td>\n",
       "    </tr>\n",
       "    <tr>\n",
       "      <th>0</th>\n",
       "      <td>20180427_1430_12504_0_35.tif</td>\n",
       "      <td>POLYGON ((2624591.500 1192564.100, 2624591.500...</td>\n",
       "    </tr>\n",
       "    <tr>\n",
       "      <th>0</th>\n",
       "      <td>20180427_1430_12504_0_36.tif</td>\n",
       "      <td>POLYGON ((2625871.500 1192510.800, 2625871.500...</td>\n",
       "    </tr>\n",
       "  </tbody>\n",
       "</table>\n",
       "</div>"
      ],
      "text/plain": [
       "                           file  \\\n",
       "0  20180427_1430_12504_0_32.tif   \n",
       "0  20180427_1430_12504_0_33.tif   \n",
       "0  20180427_1430_12504_0_34.tif   \n",
       "0  20180427_1430_12504_0_35.tif   \n",
       "0  20180427_1430_12504_0_36.tif   \n",
       "\n",
       "                                            geometry  \n",
       "0  POLYGON ((2620751.500 1192519.300, 2620751.500...  \n",
       "0  POLYGON ((2622031.500 1192535.600, 2622031.500...  \n",
       "0  POLYGON ((2623311.500 1192534.300, 2623311.500...  \n",
       "0  POLYGON ((2624591.500 1192564.100, 2624591.500...  \n",
       "0  POLYGON ((2625871.500 1192510.800, 2625871.500...  "
      ]
     },
     "execution_count": 8,
     "metadata": {},
     "output_type": "execute_result"
    }
   ],
   "source": [
    "bboxes_gdf = gpd.GeoDataFrame()\n",
    "\n",
    "for f in os.listdir(DATA_DIR):\n",
    "    #print(f)\n",
    "    if f.endswith('tif'):\n",
    "        with rio.open(os.path.join(DATA_DIR, f), 'r') as ds:\n",
    "            _geom = box(ds.bounds.left, ds.bounds.bottom, ds.bounds.right, ds.bounds.top)\n",
    "            _df = pd.DataFrame.from_records([{\"file\": f}])\n",
    "            _gdf = gpd.GeoDataFrame(_df, geometry=[_geom])\n",
    "            #display(_gdf)\n",
    "            bboxes_gdf = pd.concat([bboxes_gdf, _gdf])\n",
    "            \n",
    "bboxes_gdf.set_crs(epsg=2056, inplace=True)"
   ]
  },
  {
   "cell_type": "code",
   "execution_count": 9,
   "id": "a7123d58-737b-446f-8c81-1977a82c0651",
   "metadata": {},
   "outputs": [
    {
     "data": {
      "text/html": [
       "<div>\n",
       "<style scoped>\n",
       "    .dataframe tbody tr th:only-of-type {\n",
       "        vertical-align: middle;\n",
       "    }\n",
       "\n",
       "    .dataframe tbody tr th {\n",
       "        vertical-align: top;\n",
       "    }\n",
       "\n",
       "    .dataframe thead th {\n",
       "        text-align: right;\n",
       "    }\n",
       "</style>\n",
       "<table border=\"1\" class=\"dataframe\">\n",
       "  <thead>\n",
       "    <tr style=\"text-align: right;\">\n",
       "      <th></th>\n",
       "      <th>file</th>\n",
       "      <th>geometry</th>\n",
       "    </tr>\n",
       "  </thead>\n",
       "  <tbody>\n",
       "    <tr>\n",
       "      <th>0</th>\n",
       "      <td>20180427_1430_12504_0_32.tif</td>\n",
       "      <td>POLYGON ((2620751.500 1192519.300, 2620751.500...</td>\n",
       "    </tr>\n",
       "    <tr>\n",
       "      <th>0</th>\n",
       "      <td>20180427_1430_12504_0_33.tif</td>\n",
       "      <td>POLYGON ((2622031.500 1192535.600, 2622031.500...</td>\n",
       "    </tr>\n",
       "    <tr>\n",
       "      <th>0</th>\n",
       "      <td>20180427_1430_12504_0_34.tif</td>\n",
       "      <td>POLYGON ((2623311.500 1192534.300, 2623311.500...</td>\n",
       "    </tr>\n",
       "    <tr>\n",
       "      <th>0</th>\n",
       "      <td>20180427_1430_12504_0_35.tif</td>\n",
       "      <td>POLYGON ((2624591.500 1192564.100, 2624591.500...</td>\n",
       "    </tr>\n",
       "    <tr>\n",
       "      <th>0</th>\n",
       "      <td>20180427_1430_12504_0_36.tif</td>\n",
       "      <td>POLYGON ((2625871.500 1192510.800, 2625871.500...</td>\n",
       "    </tr>\n",
       "  </tbody>\n",
       "</table>\n",
       "</div>"
      ],
      "text/plain": [
       "                           file  \\\n",
       "0  20180427_1430_12504_0_32.tif   \n",
       "0  20180427_1430_12504_0_33.tif   \n",
       "0  20180427_1430_12504_0_34.tif   \n",
       "0  20180427_1430_12504_0_35.tif   \n",
       "0  20180427_1430_12504_0_36.tif   \n",
       "\n",
       "                                            geometry  \n",
       "0  POLYGON ((2620751.500 1192519.300, 2620751.500...  \n",
       "0  POLYGON ((2622031.500 1192535.600, 2622031.500...  \n",
       "0  POLYGON ((2623311.500 1192534.300, 2623311.500...  \n",
       "0  POLYGON ((2624591.500 1192564.100, 2624591.500...  \n",
       "0  POLYGON ((2625871.500 1192510.800, 2625871.500...  "
      ]
     },
     "execution_count": 9,
     "metadata": {},
     "output_type": "execute_result"
    }
   ],
   "source": [
    "bboxes_gdf"
   ]
  },
  {
   "cell_type": "code",
   "execution_count": 10,
   "id": "b531c78d-7a6f-4975-ab1f-d159ca902189",
   "metadata": {},
   "outputs": [
    {
     "data": {
      "image/svg+xml": [
       "<svg xmlns=\"http://www.w3.org/2000/svg\" xmlns:xlink=\"http://www.w3.org/1999/xlink\" width=\"300\" height=\"300\" viewBox=\"2619215.5 1192254.8 6912.0 2201.100000000093\" preserveAspectRatio=\"xMinYMin meet\"><g transform=\"matrix(1,0,0,-1,0,2386710.7)\"><path fill-rule=\"evenodd\" fill=\"#66cc99\" stroke=\"#555555\" stroke-width=\"46.08\" opacity=\"0.6\" d=\"M 2625871.5,1194193.9000000001 L 2625871.5,1192510.8 L 2624591.5,1192510.8 L 2624591.5,1192564.0999999999 L 2623311.5,1192564.0999999999 L 2623311.5,1192534.3 L 2622031.5,1192534.3 L 2622031.5,1192535.6 L 2620751.5,1192535.6 L 2620751.5,1192519.3 L 2619471.5,1192519.3 L 2619471.5,1194199.9000000001 L 2620751.5,1194199.9000000001 L 2620751.5,1194196.5 L 2622031.5,1194196.5 L 2622031.5,1194182.0 L 2623311.5,1194182.0 L 2623311.5,1194150.7 L 2624591.5,1194150.7 L 2624591.5,1194193.9000000001 L 2625871.5,1194193.9000000001 z\" /></g></svg>"
      ],
      "text/plain": [
       "<shapely.geometry.polygon.Polygon at 0x7f4ad61d99d0>"
      ]
     },
     "execution_count": 10,
     "metadata": {},
     "output_type": "execute_result"
    }
   ],
   "source": [
    "bboxes_gdf.unary_union"
   ]
  },
  {
   "cell_type": "code",
   "execution_count": 11,
   "id": "92a40bdc-4308-45a8-8639-5412e1c2be6b",
   "metadata": {},
   "outputs": [
    {
     "data": {
      "text/plain": [
       "(2619471.5, 1192510.8, 2625871.5, 1194199.9000000001)"
      ]
     },
     "execution_count": 11,
     "metadata": {},
     "output_type": "execute_result"
    }
   ],
   "source": [
    "bboxes_gdf.unary_union.bounds"
   ]
  },
  {
   "cell_type": "code",
   "execution_count": 12,
   "id": "9a33c77d-beb5-4751-8de4-aa54eb4213df",
   "metadata": {},
   "outputs": [],
   "source": [
    "bboxes_extent_2056 = bboxes_gdf.unary_union.bounds\n",
    "bboxes_extent_4326 = bboxes_gdf.to_crs(epsg=4326).unary_union.bounds"
   ]
  },
  {
   "cell_type": "code",
   "execution_count": 434,
   "id": "23a666cd-2122-4764-9859-e298576004b4",
   "metadata": {},
   "outputs": [
    {
     "name": "stderr",
     "output_type": "stream",
     "text": [
      "/home/acerioni/venv/lib/python3.8/site-packages/morecantile/models.py:849: UserWarning: CRS is no longer part of the GeoJSON specification.Other projection than EPSG:4326 might not be supported.\n",
      "  warnings.warn(\n",
      "/home/acerioni/venv/lib/python3.8/site-packages/geopandas/io/file.py:234: FutureWarning: pandas.Int64Index is deprecated and will be removed from pandas in a future version. Use pandas.Index with the appropriate dtype instead.\n",
      "  pd.Int64Index,\n",
      "/home/acerioni/venv/lib/python3.8/site-packages/morecantile/models.py:849: UserWarning: CRS is no longer part of the GeoJSON specification.Other projection than EPSG:4326 might not be supported.\n",
      "  warnings.warn(\n",
      "/home/acerioni/venv/lib/python3.8/site-packages/geopandas/io/file.py:234: FutureWarning: pandas.Int64Index is deprecated and will be removed from pandas in a future version. Use pandas.Index with the appropriate dtype instead.\n",
      "  pd.Int64Index,\n",
      "/home/acerioni/venv/lib/python3.8/site-packages/morecantile/models.py:849: UserWarning: CRS is no longer part of the GeoJSON specification.Other projection than EPSG:4326 might not be supported.\n",
      "  warnings.warn(\n",
      "/home/acerioni/venv/lib/python3.8/site-packages/geopandas/io/file.py:234: FutureWarning: pandas.Int64Index is deprecated and will be removed from pandas in a future version. Use pandas.Index with the appropriate dtype instead.\n",
      "  pd.Int64Index,\n",
      "/home/acerioni/venv/lib/python3.8/site-packages/morecantile/models.py:849: UserWarning: CRS is no longer part of the GeoJSON specification.Other projection than EPSG:4326 might not be supported.\n",
      "  warnings.warn(\n",
      "/home/acerioni/venv/lib/python3.8/site-packages/geopandas/io/file.py:234: FutureWarning: pandas.Int64Index is deprecated and will be removed from pandas in a future version. Use pandas.Index with the appropriate dtype instead.\n",
      "  pd.Int64Index,\n"
     ]
    }
   ],
   "source": [
    "# cf. https://developmentseed.org/morecantile/usage/\n",
    "\n",
    "crs_2056 = pyproj.CRS.from_epsg(2056)\n",
    "crs_4326 = pyproj.CRS.from_epsg(4326)\n",
    "crs_3857 = pyproj.CRS.from_epsg(3857)\n",
    "\n",
    "\n",
    "# la bonne manière de générer un TMS pour la projection 2056:\n",
    "extent_2056 = [2485071.58, 1075346.31, 2828515.82, 1299941.79] # cf. https://epsg.io/2056\n",
    "tms = morecantile.TileMatrixSet.custom(extent=extent_2056, crs=crs_2056, identifier=\"My_custom_TMS\")\n",
    "\n",
    "epsg2056_z14_tiles_gdf = gpd.GeoDataFrame.from_features([tms.feature(x, projected=True) for x in tms.tiles(*bboxes_extent_4326, zooms=[14])])\n",
    "epsg2056_z14_tiles_gdf.set_crs(epsg=2056, inplace=True)\n",
    "epsg2056_z14_tiles_gdf.to_file(\"output/epsg2056_z14_tiles.gpkg\", driver=\"GPKG\")\n",
    "\n",
    "\n",
    "\n",
    "### \n",
    "tms = morecantile.tms.get(\"WebMercatorQuad\")\n",
    "\n",
    "epsg3857_z17_tiles_gdf = gpd.GeoDataFrame.from_features([tms.feature(x, projected=True) for x in tms.tiles(*bboxes_extent_4326, zooms=[17])])\n",
    "epsg3857_z17_tiles_gdf.set_crs(epsg=3857, inplace=True)\n",
    "epsg3857_z17_tiles_gdf.to_file(\"output/epsg3857_z17_tiles.gpkg\", driver=\"GPKG\")\n",
    "\n",
    "epsg3857_z18_tiles_gdf = gpd.GeoDataFrame.from_features([tms.feature(x, projected=True) for x in tms.tiles(*bboxes_extent_4326, zooms=[18])])\n",
    "epsg3857_z18_tiles_gdf.set_crs(epsg=3857, inplace=True)\n",
    "epsg3857_z18_tiles_gdf.to_file(\"output/epsg3857_z18_tiles.gpkg\", driver=\"GPKG\")\n",
    "\n",
    "# epsg3857_test_tiles_gdf = gpd.GeoDataFrame.from_features([tms.feature(x, projected=True) for x in tms.tiles(*bboxes_extent_4326, zooms=[17, 18])])\n",
    "# epsg3857_test_tiles_gdf.set_crs(epsg=3857, inplace=True)\n",
    "# epsg3857_test_tiles_gdf.to_file(\"output/epsg3857_test_tiles.gpkg\", driver=\"GPKG\")\n",
    "\n",
    "# geo.admin.ch fait différement..."
   ]
  },
  {
   "cell_type": "code",
   "execution_count": 435,
   "id": "5ec3c455-8926-449e-8aa4-4e97fba01186",
   "metadata": {},
   "outputs": [
    {
     "data": {
      "text/plain": [
       "['WorldCRS84Quad',\n",
       " 'UPSAntarcticWGS84Quad',\n",
       " 'NZTM2000',\n",
       " 'WGS1984Quad',\n",
       " 'NZTM2000Quad',\n",
       " 'EuropeanETRS89_LAEAQuad',\n",
       " 'CanadianNAD83_LCC',\n",
       " 'WebMercatorQuad',\n",
       " 'WorldMercatorWGS84Quad',\n",
       " 'LINZAntarticaMapTilegrid',\n",
       " 'UTM31WGS84Quad',\n",
       " 'UPSArcticWGS84Quad']"
      ]
     },
     "execution_count": 435,
     "metadata": {},
     "output_type": "execute_result"
    }
   ],
   "source": [
    "morecantile.tms.list()"
   ]
  },
  {
   "cell_type": "code",
   "execution_count": 390,
   "id": "9d99abe5-b426-4902-a32a-c54596e6ac8e",
   "metadata": {},
   "outputs": [
    {
     "data": {
      "text/plain": [
       "(7.6940925048526845, 46.88321481597479, 7.778152103876776, 46.89862634008234)"
      ]
     },
     "execution_count": 390,
     "metadata": {},
     "output_type": "execute_result"
    }
   ],
   "source": [
    "bboxes_extent_4326"
   ]
  },
  {
   "cell_type": "code",
   "execution_count": 433,
   "id": "6160ed0c-bc1a-4c79-a2be-3ad28fb01acd",
   "metadata": {},
   "outputs": [
    {
     "name": "stdout",
     "output_type": "stream",
     "text": [
      "Tile(x=4271, y=2884, z=13)\n",
      "Tile(x=4271, y=2885, z=13)\n",
      "Tile(x=4272, y=2884, z=13)\n",
      "Tile(x=4272, y=2885, z=13)\n",
      "Tile(x=8542, y=5769, z=14)\n",
      "Tile(x=8542, y=5770, z=14)\n",
      "Tile(x=8543, y=5769, z=14)\n",
      "Tile(x=8543, y=5770, z=14)\n",
      "Tile(x=8544, y=5769, z=14)\n",
      "Tile(x=8544, y=5770, z=14)\n",
      "Tile(x=8545, y=5769, z=14)\n",
      "Tile(x=8545, y=5770, z=14)\n"
     ]
    }
   ],
   "source": [
    "tms = morecantile.tms.get(\"WebMercatorQuad\")\n",
    "\n",
    "for tile in tms.tiles(*bboxes_extent_4326, zooms=[13, 14] ):\n",
    "    #print(json.dumps(tms.feature(tile, projected=True), indent=4))\n",
    "    print(tile)\n",
    "    #break\n",
    "    \n",
    "#print(len(list(tms.tiles(*bboxes_extent_4326, zooms=[13, 14] ))))"
   ]
  },
  {
   "cell_type": "code",
   "execution_count": 436,
   "id": "f660ca75-c9ff-4843-950c-56c12a94aa8e",
   "metadata": {},
   "outputs": [
    {
     "data": {
      "text/plain": [
       "(2420000.0, 326000.0, 3444000.0, 1350000.0)"
      ]
     },
     "execution_count": 436,
     "metadata": {},
     "output_type": "execute_result"
    }
   ],
   "source": [
    "# TileMatrixSet \"2056_28\" - https://wmts.geo.admin.ch/EPSG/2056/1.0.0/WMTSCapabilities.xml\n",
    "\n",
    "PIXEL_TO_M = 0.00028 # (cf. https://gis.stackexchange.com/questions/315881/what-is-wmts-scaledenominator)\n",
    "\n",
    "xmin, ymax = (2420000.0, 1350000.0)\n",
    "scale_denominator = 14285714.285714287\n",
    "tile_width = 256\n",
    "tile_height = 256\n",
    "\n",
    "xmax = xmin + scale_denominator * PIXEL_TO_M * tile_width\n",
    "ymin = ymax - scale_denominator * PIXEL_TO_M * tile_height\n",
    "\n",
    "xmin, ymin, xmax, ymax"
   ]
  },
  {
   "cell_type": "code",
   "execution_count": 437,
   "id": "bcc0ce9e-6cde-4a20-a6dc-0fe3ffa833d6",
   "metadata": {},
   "outputs": [
    {
     "data": {
      "text/plain": [
       "<Derived Projected CRS: EPSG:2056>\n",
       "Name: CH1903+ / LV95\n",
       "Axis Info [cartesian]:\n",
       "- E[east]: Easting (metre)\n",
       "- N[north]: Northing (metre)\n",
       "Area of Use:\n",
       "- name: Liechtenstein; Switzerland.\n",
       "- bounds: (5.96, 45.82, 10.49, 47.81)\n",
       "Coordinate Operation:\n",
       "- name: Swiss Oblique Mercator 1995\n",
       "- method: Hotine Oblique Mercator (variant B)\n",
       "Datum: CH1903+\n",
       "- Ellipsoid: Bessel 1841\n",
       "- Prime Meridian: Greenwich"
      ]
     },
     "execution_count": 437,
     "metadata": {},
     "output_type": "execute_result"
    }
   ],
   "source": [
    "crs_2056"
   ]
  },
  {
   "cell_type": "code",
   "execution_count": 175,
   "id": "ea12eb7c-726c-45de-8544-6c3addd141b5",
   "metadata": {},
   "outputs": [],
   "source": [
    "extent_geo_admin_ch_2056 = [xmin, ymin, xmax, ymax]\n",
    "tms = morecantile.TileMatrixSet.custom(extent=extent_geo_admin_ch_2056, extent_crs=crs_2056, crs=crs_2056, identifier=\"My_custom_TMS\")"
   ]
  },
  {
   "cell_type": "code",
   "execution_count": 177,
   "id": "83ce8cec-93e1-4e2f-ba31-19f43a3f22ef",
   "metadata": {},
   "outputs": [],
   "source": [
    "#crs_2056.area_of_use.bounds"
   ]
  },
  {
   "cell_type": "code",
   "execution_count": 182,
   "id": "c31b9517-73e0-40e5-812c-0ecfe40c8f7d",
   "metadata": {},
   "outputs": [
    {
     "data": {
      "text/plain": [
       "{'type': 'TileMatrixType',\n",
       " 'identifier': '0',\n",
       " 'scaleDenominator': 14285714.285714287,\n",
       " 'topLeftCorner': (2420000.0, 1350000.0),\n",
       " 'tileWidth': 256,\n",
       " 'tileHeight': 256,\n",
       " 'matrixWidth': 1,\n",
       " 'matrixHeight': 1}"
      ]
     },
     "execution_count": 182,
     "metadata": {},
     "output_type": "execute_result"
    }
   ],
   "source": [
    "tms.matrix(0).dict(exclude_none=True)"
   ]
  },
  {
   "cell_type": "code",
   "execution_count": null,
   "id": "c9a49ae6-2f1a-45b3-bb8c-87227c208dc9",
   "metadata": {},
   "outputs": [],
   "source": [
    "# OK, c'est conforme à ce qui est renvoyé par https://wmts.geo.admin.ch/EPSG/2056/1.0.0/WMTSCapabilities.xml"
   ]
  },
  {
   "cell_type": "code",
   "execution_count": 197,
   "id": "bdae2b61-91f4-4d4d-9530-fc1e6fe5f935",
   "metadata": {},
   "outputs": [
    {
     "data": {
      "text/plain": [
       "{'type': 'TileMatrixType',\n",
       " 'identifier': '1',\n",
       " 'scaleDenominator': 7142857.142857144,\n",
       " 'topLeftCorner': (2420000.0, 1350000.0),\n",
       " 'tileWidth': 256,\n",
       " 'tileHeight': 256,\n",
       " 'matrixWidth': 2,\n",
       " 'matrixHeight': 2}"
      ]
     },
     "execution_count": 197,
     "metadata": {},
     "output_type": "execute_result"
    }
   ],
   "source": [
    "tms.matrix(1).dict(exclude_none=True)"
   ]
  },
  {
   "cell_type": "code",
   "execution_count": 183,
   "id": "544b6c0c-e350-45c4-b134-49fbe514a9c1",
   "metadata": {},
   "outputs": [],
   "source": [
    "# KO, ce n'est PAS conforme à ce qui est renvoyé par https://wmts.geo.admin.ch/EPSG/2056/1.0.0/WMTSCapabilities.xml !"
   ]
  },
  {
   "cell_type": "code",
   "execution_count": 184,
   "id": "ee857556-c3ad-465b-8ff2-e1f82c4871e2",
   "metadata": {},
   "outputs": [
    {
     "name": "stdout",
     "output_type": "stream",
     "text": [
      "Tile(x=1, y=1, z=3)\n",
      "{'type': 'Feature', 'bbox': [6.753041083885727, 45.9932897589024, 8.440613175139863, 47.14897266650572], 'id': 'Tile(x=1, y=1, z=3)', 'geometry': {'type': 'Polygon', 'coordinates': [[[6.753041083885727, 45.9932897589024], [6.753041083885727, 47.14897266650572], [8.440613175139863, 47.14897266650572], [8.440613175139863, 45.9932897589024], [6.753041083885727, 45.9932897589024]]]}, 'properties': {'title': 'XYZ tile Tile(x=1, y=1, z=3)', 'grid_name': 'My_custom_TMS', 'grid_crs': 'EPSG:2056'}}\n",
      "\n"
     ]
    }
   ],
   "source": [
    "for tile in tms.tiles(*bboxes_extent_4326, zooms=[3]):\n",
    "    print(tile)\n",
    "    print(tms.feature(tile))\n",
    "    print()"
   ]
  },
  {
   "cell_type": "code",
   "execution_count": 185,
   "id": "14c8141f-d60c-479a-ab02-6d4285ed64a5",
   "metadata": {},
   "outputs": [
    {
     "name": "stderr",
     "output_type": "stream",
     "text": [
      "/home/acerioni/venv/lib/python3.8/site-packages/morecantile/models.py:849: UserWarning: CRS is no longer part of the GeoJSON specification.Other projection than EPSG:4326 might not be supported.\n",
      "  warnings.warn(\n",
      "/home/acerioni/venv/lib/python3.8/site-packages/geopandas/io/file.py:234: FutureWarning: pandas.Int64Index is deprecated and will be removed from pandas in a future version. Use pandas.Index with the appropriate dtype instead.\n",
      "  pd.Int64Index,\n"
     ]
    }
   ],
   "source": [
    "#z0_tiles_gdf = gpd.GeoDataFrame.from_features([tms.feature(x, projected=True) for x in tms.tiles(*bboxes_extent_4326, zooms=[0])])\n",
    "#z0_tiles_gdf.set_crs(epsg=2056, inplace=True)\n",
    "#z0_tiles_gdf.to_file(\"output/z0_tiles.gpkg\", driver=\"GPKG\")"
   ]
  },
  {
   "cell_type": "code",
   "execution_count": 186,
   "id": "3f229b99-c703-47d7-b96f-2280be9221d4",
   "metadata": {},
   "outputs": [
    {
     "name": "stderr",
     "output_type": "stream",
     "text": [
      "/home/acerioni/venv/lib/python3.8/site-packages/morecantile/models.py:849: UserWarning: CRS is no longer part of the GeoJSON specification.Other projection than EPSG:4326 might not be supported.\n",
      "  warnings.warn(\n",
      "/home/acerioni/venv/lib/python3.8/site-packages/geopandas/io/file.py:234: FutureWarning: pandas.Int64Index is deprecated and will be removed from pandas in a future version. Use pandas.Index with the appropriate dtype instead.\n",
      "  pd.Int64Index,\n"
     ]
    }
   ],
   "source": [
    "#z3_tiles_gdf = gpd.GeoDataFrame.from_features([tms.feature(x, projected=True) for x in tms.tiles(*bboxes_extent_4326, zooms=[3])])\n",
    "#z3_tiles_gdf.set_crs(epsg=2056, inplace=True)\n",
    "#z3_tiles_gdf.to_file(\"output/z3_tiles.gpkg\", driver=\"GPKG\")"
   ]
  },
  {
   "cell_type": "code",
   "execution_count": 187,
   "id": "b7f6c96d-419d-4357-92cc-7cc0e0630c65",
   "metadata": {},
   "outputs": [
    {
     "name": "stderr",
     "output_type": "stream",
     "text": [
      "/home/acerioni/venv/lib/python3.8/site-packages/morecantile/models.py:849: UserWarning: CRS is no longer part of the GeoJSON specification.Other projection than EPSG:4326 might not be supported.\n",
      "  warnings.warn(\n",
      "/home/acerioni/venv/lib/python3.8/site-packages/geopandas/io/file.py:234: FutureWarning: pandas.Int64Index is deprecated and will be removed from pandas in a future version. Use pandas.Index with the appropriate dtype instead.\n",
      "  pd.Int64Index,\n"
     ]
    }
   ],
   "source": [
    "#z2_tiles_gdf = gpd.GeoDataFrame.from_features([tms.feature(x, projected=True) for x in tms.tiles(*bboxes_extent_4326, zooms=[2])])\n",
    "#z2_tiles_gdf.set_crs(epsg=2056, inplace=True)\n",
    "#z2_tiles_gdf.to_file(\"output/z2_tiles.gpkg\", driver=\"GPKG\")"
   ]
  },
  {
   "cell_type": "code",
   "execution_count": 325,
   "id": "74b16191-c2fd-483e-8cbb-2786d5871bd8",
   "metadata": {},
   "outputs": [],
   "source": [
    "#z12_tiles_gdf = gpd.GeoDataFrame.from_features([tms.feature(x, projected=True) for x in tms.tiles(*bboxes_extent_4326, zooms=[12])])\n",
    "#z12_tiles_gdf.set_crs(epsg=2056, inplace=True)\n",
    "#z12_tiles_gdf.to_file(\"output/z12_tiles.gpkg\", driver=\"GPKG\")"
   ]
  },
  {
   "cell_type": "code",
   "execution_count": 326,
   "id": "c41c18d0-fdcc-4657-834d-d6a1d579b44e",
   "metadata": {},
   "outputs": [
    {
     "name": "stdout",
     "output_type": "stream",
     "text": [
      "1\n"
     ]
    },
    {
     "name": "stderr",
     "output_type": "stream",
     "text": [
      "/home/acerioni/venv/lib/python3.8/site-packages/morecantile/models.py:849: UserWarning: CRS is no longer part of the GeoJSON specification.Other projection than EPSG:4326 might not be supported.\n",
      "  warnings.warn(\n"
     ]
    }
   ],
   "source": [
    "cnt = 0\n",
    "for tile in tms.tiles(*bboxes_extent_4326, zooms=[12]):\n",
    "    feat = tms.feature(tile, projected=True) \n",
    "    cnt += 1\n",
    "    if cnt > 10000:\n",
    "        break\n",
    "\n",
    "print(cnt)"
   ]
  },
  {
   "cell_type": "code",
   "execution_count": 327,
   "id": "e394879b-1bf8-415c-94b1-d29af0539eb0",
   "metadata": {},
   "outputs": [
    {
     "data": {
      "text/plain": [
       "TMSBoundingBox(type='BoundingBoxType', crs=<Derived Projected CRS: EPSG:2056>\n",
       "Name: CH1903+ / LV95\n",
       "Axis Info [cartesian]:\n",
       "- E[east]: Easting (metre)\n",
       "- N[north]: Northing (metre)\n",
       "Area of Use:\n",
       "- name: Liechtenstein; Switzerland.\n",
       "- bounds: (5.96, 45.82, 10.49, 47.81)\n",
       "Coordinate Operation:\n",
       "- name: Swiss Oblique Mercator 1995\n",
       "- method: Hotine Oblique Mercator (variant B)\n",
       "Datum: CH1903+\n",
       "- Ellipsoid: Bessel 1841\n",
       "- Prime Meridian: Greenwich\n",
       ", lowerCorner=(2420000.0, 326000.0), upperCorner=(3444000.0, 1350000.0))"
      ]
     },
     "execution_count": 327,
     "metadata": {},
     "output_type": "execute_result"
    }
   ],
   "source": [
    "tms.boundingBox"
   ]
  },
  {
   "cell_type": "code",
   "execution_count": 328,
   "id": "1dab95a1-3356-4603-8dcb-fd78b62cbec8",
   "metadata": {},
   "outputs": [
    {
     "data": {
      "text/plain": [
       "BoundingBox(left=2420000.0, bottom=326000.0, right=3444000.0, top=1350000.0)"
      ]
     },
     "execution_count": 328,
     "metadata": {},
     "output_type": "execute_result"
    }
   ],
   "source": [
    "tms.xy_bbox"
   ]
  },
  {
   "cell_type": "code",
   "execution_count": 376,
   "id": "db540177-dff8-480f-89da-e58a2c5cb36c",
   "metadata": {},
   "outputs": [
    {
     "data": {
      "text/plain": [
       "(2420000.0, 326000.0, 3444000.0, 1350000.0)"
      ]
     },
     "execution_count": 376,
     "metadata": {},
     "output_type": "execute_result"
    }
   ],
   "source": [
    "xmin, ymin, xmax, ymax"
   ]
  },
  {
   "cell_type": "code",
   "execution_count": 330,
   "id": "7d115d8a-4ede-41de-9914-332755648590",
   "metadata": {},
   "outputs": [],
   "source": [
    "res = requests.get(\"https://wmts.geo.admin.ch/EPSG/2056/1.0.0/WMTSCapabilities.xml\")\n",
    "wmts_capabilities_str = res.content\n",
    "\n",
    "#wmts_capabilities\n",
    "wmts_capabilities_parsed = lxml.etree.fromstring(wmts_capabilities_str)"
   ]
  },
  {
   "cell_type": "code",
   "execution_count": 331,
   "id": "d11f1382-59dd-4886-affc-6b17e264ff0f",
   "metadata": {},
   "outputs": [
    {
     "data": {
      "text/plain": [
       "<Element {http://www.opengis.net/wmts/1.0}Capabilities at 0x7f4ad34e0100>"
      ]
     },
     "execution_count": 331,
     "metadata": {},
     "output_type": "execute_result"
    }
   ],
   "source": [
    "wmts_capabilities_parsed"
   ]
  },
  {
   "cell_type": "code",
   "execution_count": 332,
   "id": "aa12cd48-09e2-4a93-b6d7-b55f890f7b3f",
   "metadata": {},
   "outputs": [],
   "source": [
    "#wmts_capabilities_parsed.findall(\".//{http://www.opengis.net/wmts/1.0}TileMatrixSet\")"
   ]
  },
  {
   "cell_type": "code",
   "execution_count": 333,
   "id": "45d97902-bc86-4bcc-953b-be7bc0784412",
   "metadata": {},
   "outputs": [],
   "source": [
    "#wmts_capabilities_parsed.findall(\".//ows:Identifier\", namespaces={'ows': 'http://www.opengis.net/ows/1.1'})"
   ]
  },
  {
   "cell_type": "code",
   "execution_count": 335,
   "id": "ba686a2e-87c7-499c-bd82-fd022925074a",
   "metadata": {},
   "outputs": [],
   "source": [
    "res = wmts_capabilities_parsed.findall('.//*[ows:Identifier=\"2056_28\"]/ows:Identifier', namespaces={'ows': 'http://www.opengis.net/ows/1.1'})\n",
    "assert len(res) == 1\n",
    "\n",
    "sel_tms = res[0].getparent()"
   ]
  },
  {
   "cell_type": "code",
   "execution_count": 336,
   "id": "43183ee5-4c58-4519-8248-ce91b8771949",
   "metadata": {},
   "outputs": [
    {
     "data": {
      "text/plain": [
       "<Element {http://www.opengis.net/wmts/1.0}TileMatrixSet at 0x7f4ad3386e80>"
      ]
     },
     "execution_count": 336,
     "metadata": {},
     "output_type": "execute_result"
    }
   ],
   "source": [
    "sel_tms"
   ]
  },
  {
   "cell_type": "code",
   "execution_count": 337,
   "id": "8cdabd0e-3191-4735-9e7b-09dba8d242f1",
   "metadata": {},
   "outputs": [],
   "source": [
    "my_dict = {\n",
    "    '{http://www.opengis.net/ows/1.1}Identifier': 'identifier',\n",
    "    '{http://www.opengis.net/wmts/1.0}ScaleDenominator': 'scaleDenominator',\n",
    "    '{http://www.opengis.net/wmts/1.0}TopLeftCorner': 'topLeftCorner',\n",
    "    '{http://www.opengis.net/wmts/1.0}TileWidth': 'tileWidth',\n",
    "    '{http://www.opengis.net/wmts/1.0}TileHeight': 'tileHeight',\n",
    "    '{http://www.opengis.net/wmts/1.0}MatrixWidth': 'matrixWidth',\n",
    "    '{http://www.opengis.net/wmts/1.0}MatrixHeight': 'matrixHeight'\n",
    "}"
   ]
  },
  {
   "cell_type": "code",
   "execution_count": 338,
   "id": "78c09d6e-43c1-4612-a369-fc5a0d5c41a7",
   "metadata": {},
   "outputs": [],
   "source": [
    "def type_fixer(tm_dict):\n",
    "    \n",
    "    out_tm_dict = {}\n",
    "    \n",
    "    for k, v in tm_dict.items():\n",
    "        \n",
    "        if k == 'scaleDenominator':\n",
    "            out_tm_dict[k] = float(tm_dict[k])\n",
    "        elif k == 'topLeftCorner':\n",
    "            out_tm_dict[k] = [float(x) for x in tm_dict[k].split(' ')]\n",
    "        elif k in ['tileWidth', 'tileHeight', 'matrixWidth', 'matrixHeight']:\n",
    "            out_tm_dict[k] = int(tm_dict[k])\n",
    "        else:\n",
    "            out_tm_dict[k] = tm_dict[k]\n",
    "    \n",
    "    return out_tm_dict\n",
    "    "
   ]
  },
  {
   "cell_type": "code",
   "execution_count": null,
   "id": "81f7f1f9-e2f6-4c23-9247-0becfffb2172",
   "metadata": {},
   "outputs": [],
   "source": []
  },
  {
   "cell_type": "code",
   "execution_count": 339,
   "id": "772b3f36-277f-4240-af45-a5b5a78de12c",
   "metadata": {},
   "outputs": [],
   "source": [
    "tm_list = []\n",
    "\n",
    "for tm in sel_tms.findall(\"{http://www.opengis.net/wmts/1.0}TileMatrix\"):\n",
    "    _tm_dict = {}\n",
    "    _tm_dict['type'] = \"TileMatrixType\"\n",
    "    for child in tm:\n",
    "        #print(child.tag, child.text)\n",
    "        _tm_dict[my_dict[child.tag]] = child.text\n",
    "        \n",
    "    tm_list.append(type_fixer(_tm_dict))"
   ]
  },
  {
   "cell_type": "code",
   "execution_count": 340,
   "id": "3906152c-9898-4257-95c4-123bc7490b73",
   "metadata": {},
   "outputs": [],
   "source": [
    "#tm_list"
   ]
  },
  {
   "cell_type": "code",
   "execution_count": 341,
   "id": "faa0d516-c958-4d20-9823-825249b69313",
   "metadata": {},
   "outputs": [],
   "source": [
    "def get_bbox_corners(tile_matrix_list):\n",
    "    \n",
    "    res = list(filter(lambda x: x['identifier'] == '0', tile_matrix_list))\n",
    "    assert len(res) == 1\n",
    "    \n",
    "    relevant_tile_matrix = res[0]\n",
    "    print(relevant_tile_matrix)\n",
    "    \n",
    "    PIXEL_TO_M = 0.00028 # (cf. https://gis.stackexchange.com/questions/315881/what-is-wmts-scaledenominator)\n",
    "\n",
    "    xmin, ymax = relevant_tile_matrix['topLeftCorner']\n",
    "    scale_denominator = relevant_tile_matrix['scaleDenominator']\n",
    "    tile_width = relevant_tile_matrix['tileWidth']\n",
    "    tile_height = relevant_tile_matrix['tileHeight']\n",
    "\n",
    "    xmax = xmin + scale_denominator * PIXEL_TO_M * tile_width\n",
    "    ymin = ymax - scale_denominator * PIXEL_TO_M * tile_height\n",
    "    \n",
    "    return {'lowerCorner': [xmin, ymin], 'upperCorner': [xmax, ymax]}"
   ]
  },
  {
   "cell_type": "code",
   "execution_count": 342,
   "id": "4936f9a7-eecc-4346-9b5d-a9357c086ca9",
   "metadata": {},
   "outputs": [
    {
     "name": "stdout",
     "output_type": "stream",
     "text": [
      "{'type': 'TileMatrixType', 'identifier': '0', 'scaleDenominator': 14285714.285714287, 'topLeftCorner': [2420000.0, 1350000.0], 'tileWidth': 256, 'tileHeight': 256, 'matrixWidth': 1, 'matrixHeight': 1}\n"
     ]
    },
    {
     "data": {
      "text/plain": [
       "{'lowerCorner': [2420000.0, 326000.0], 'upperCorner': [3444000.0, 1350000.0]}"
      ]
     },
     "execution_count": 342,
     "metadata": {},
     "output_type": "execute_result"
    }
   ],
   "source": [
    "get_bbox_corners(tm_list)"
   ]
  },
  {
   "cell_type": "code",
   "execution_count": 343,
   "id": "a5acd680-e53d-4b0c-a4b1-659fce9873a1",
   "metadata": {},
   "outputs": [
    {
     "name": "stdout",
     "output_type": "stream",
     "text": [
      "{'type': 'TileMatrixType', 'identifier': '0', 'scaleDenominator': 14285714.285714287, 'topLeftCorner': [2420000.0, 1350000.0], 'tileWidth': 256, 'tileHeight': 256, 'matrixWidth': 1, 'matrixHeight': 1}\n"
     ]
    }
   ],
   "source": [
    "tms_dict = {\n",
    "    \"type\": \"TileMatrixSetType\",\n",
    "    \"title\": \"My TMS\",\n",
    "    \"identifier\": \"My_TMS\",\n",
    "    \"boundingBox\": {\n",
    "        \"type\": \"BoundingBoxType\",\n",
    "        \"crs\": \"urn:ogc:def:crs:EPSG::2056\",\n",
    "        **get_bbox_corners(tm_list)\n",
    "    },\n",
    "    \"supportedCRS\": \"urn:ogc:def:crs:EPSG::2056\",\n",
    "    \"tileMatrix\": tm_list\n",
    "}"
   ]
  },
  {
   "cell_type": "code",
   "execution_count": 344,
   "id": "bb51339a-4bd8-4818-84f4-a41a0ca506de",
   "metadata": {},
   "outputs": [],
   "source": [
    "import json\n",
    "\n",
    "with open('output/2056_58.json', 'w') as fp:\n",
    "    json.dump(tms_dict, fp)"
   ]
  },
  {
   "cell_type": "code",
   "execution_count": 350,
   "id": "1824a929-ebad-4f50-8441-fe33010cd55c",
   "metadata": {},
   "outputs": [
    {
     "data": {
      "text/plain": [
       "{'type': 'TileMatrixSetType',\n",
       " 'title': 'My TMS',\n",
       " 'identifier': 'My_TMS',\n",
       " 'boundingBox': {'type': 'BoundingBoxType',\n",
       "  'crs': 'urn:ogc:def:crs:EPSG::2056',\n",
       "  'lowerCorner': [2420000.0, 326000.0],\n",
       "  'upperCorner': [3444000.0, 1350000.0]},\n",
       " 'supportedCRS': 'urn:ogc:def:crs:EPSG::2056',\n",
       " 'tileMatrix': [{'type': 'TileMatrixType',\n",
       "   'identifier': '0',\n",
       "   'scaleDenominator': 14285714.285714287,\n",
       "   'topLeftCorner': [2420000.0, 1350000.0],\n",
       "   'tileWidth': 256,\n",
       "   'tileHeight': 256,\n",
       "   'matrixWidth': 1,\n",
       "   'matrixHeight': 1},\n",
       "  {'type': 'TileMatrixType',\n",
       "   'identifier': '1',\n",
       "   'scaleDenominator': 13392857.142857144,\n",
       "   'topLeftCorner': [2420000.0, 1350000.0],\n",
       "   'tileWidth': 256,\n",
       "   'tileHeight': 256,\n",
       "   'matrixWidth': 1,\n",
       "   'matrixHeight': 1},\n",
       "  {'type': 'TileMatrixType',\n",
       "   'identifier': '2',\n",
       "   'scaleDenominator': 12500000.000000002,\n",
       "   'topLeftCorner': [2420000.0, 1350000.0],\n",
       "   'tileWidth': 256,\n",
       "   'tileHeight': 256,\n",
       "   'matrixWidth': 1,\n",
       "   'matrixHeight': 1},\n",
       "  {'type': 'TileMatrixType',\n",
       "   'identifier': '3',\n",
       "   'scaleDenominator': 11607142.857142858,\n",
       "   'topLeftCorner': [2420000.0, 1350000.0],\n",
       "   'tileWidth': 256,\n",
       "   'tileHeight': 256,\n",
       "   'matrixWidth': 1,\n",
       "   'matrixHeight': 1},\n",
       "  {'type': 'TileMatrixType',\n",
       "   'identifier': '4',\n",
       "   'scaleDenominator': 10714285.714285715,\n",
       "   'topLeftCorner': [2420000.0, 1350000.0],\n",
       "   'tileWidth': 256,\n",
       "   'tileHeight': 256,\n",
       "   'matrixWidth': 1,\n",
       "   'matrixHeight': 1},\n",
       "  {'type': 'TileMatrixType',\n",
       "   'identifier': '5',\n",
       "   'scaleDenominator': 9821428.571428573,\n",
       "   'topLeftCorner': [2420000.0, 1350000.0],\n",
       "   'tileWidth': 256,\n",
       "   'tileHeight': 256,\n",
       "   'matrixWidth': 1,\n",
       "   'matrixHeight': 1},\n",
       "  {'type': 'TileMatrixType',\n",
       "   'identifier': '6',\n",
       "   'scaleDenominator': 8928571.42857143,\n",
       "   'topLeftCorner': [2420000.0, 1350000.0],\n",
       "   'tileWidth': 256,\n",
       "   'tileHeight': 256,\n",
       "   'matrixWidth': 1,\n",
       "   'matrixHeight': 1},\n",
       "  {'type': 'TileMatrixType',\n",
       "   'identifier': '7',\n",
       "   'scaleDenominator': 8035714.285714286,\n",
       "   'topLeftCorner': [2420000.0, 1350000.0],\n",
       "   'tileWidth': 256,\n",
       "   'tileHeight': 256,\n",
       "   'matrixWidth': 1,\n",
       "   'matrixHeight': 1},\n",
       "  {'type': 'TileMatrixType',\n",
       "   'identifier': '8',\n",
       "   'scaleDenominator': 7142857.142857144,\n",
       "   'topLeftCorner': [2420000.0, 1350000.0],\n",
       "   'tileWidth': 256,\n",
       "   'tileHeight': 256,\n",
       "   'matrixWidth': 1,\n",
       "   'matrixHeight': 1},\n",
       "  {'type': 'TileMatrixType',\n",
       "   'identifier': '9',\n",
       "   'scaleDenominator': 6250000.000000001,\n",
       "   'topLeftCorner': [2420000.0, 1350000.0],\n",
       "   'tileWidth': 256,\n",
       "   'tileHeight': 256,\n",
       "   'matrixWidth': 2,\n",
       "   'matrixHeight': 1},\n",
       "  {'type': 'TileMatrixType',\n",
       "   'identifier': '10',\n",
       "   'scaleDenominator': 5357142.857142857,\n",
       "   'topLeftCorner': [2420000.0, 1350000.0],\n",
       "   'tileWidth': 256,\n",
       "   'tileHeight': 256,\n",
       "   'matrixWidth': 2,\n",
       "   'matrixHeight': 1},\n",
       "  {'type': 'TileMatrixType',\n",
       "   'identifier': '11',\n",
       "   'scaleDenominator': 4464285.714285715,\n",
       "   'topLeftCorner': [2420000.0, 1350000.0],\n",
       "   'tileWidth': 256,\n",
       "   'tileHeight': 256,\n",
       "   'matrixWidth': 2,\n",
       "   'matrixHeight': 1},\n",
       "  {'type': 'TileMatrixType',\n",
       "   'identifier': '12',\n",
       "   'scaleDenominator': 3571428.571428572,\n",
       "   'topLeftCorner': [2420000.0, 1350000.0],\n",
       "   'tileWidth': 256,\n",
       "   'tileHeight': 256,\n",
       "   'matrixWidth': 2,\n",
       "   'matrixHeight': 2},\n",
       "  {'type': 'TileMatrixType',\n",
       "   'identifier': '13',\n",
       "   'scaleDenominator': 2678571.4285714286,\n",
       "   'topLeftCorner': [2420000.0, 1350000.0],\n",
       "   'tileWidth': 256,\n",
       "   'tileHeight': 256,\n",
       "   'matrixWidth': 3,\n",
       "   'matrixHeight': 2},\n",
       "  {'type': 'TileMatrixType',\n",
       "   'identifier': '14',\n",
       "   'scaleDenominator': 2321428.571428572,\n",
       "   'topLeftCorner': [2420000.0, 1350000.0],\n",
       "   'tileWidth': 256,\n",
       "   'tileHeight': 256,\n",
       "   'matrixWidth': 3,\n",
       "   'matrixHeight': 2},\n",
       "  {'type': 'TileMatrixType',\n",
       "   'identifier': '15',\n",
       "   'scaleDenominator': 1785714.285714286,\n",
       "   'topLeftCorner': [2420000.0, 1350000.0],\n",
       "   'tileWidth': 256,\n",
       "   'tileHeight': 256,\n",
       "   'matrixWidth': 4,\n",
       "   'matrixHeight': 3},\n",
       "  {'type': 'TileMatrixType',\n",
       "   'identifier': '16',\n",
       "   'scaleDenominator': 892857.142857143,\n",
       "   'topLeftCorner': [2420000.0, 1350000.0],\n",
       "   'tileWidth': 256,\n",
       "   'tileHeight': 256,\n",
       "   'matrixWidth': 8,\n",
       "   'matrixHeight': 5},\n",
       "  {'type': 'TileMatrixType',\n",
       "   'identifier': '17',\n",
       "   'scaleDenominator': 357142.85714285716,\n",
       "   'topLeftCorner': [2420000.0, 1350000.0],\n",
       "   'tileWidth': 256,\n",
       "   'tileHeight': 256,\n",
       "   'matrixWidth': 19,\n",
       "   'matrixHeight': 13},\n",
       "  {'type': 'TileMatrixType',\n",
       "   'identifier': '18',\n",
       "   'scaleDenominator': 178571.42857142858,\n",
       "   'topLeftCorner': [2420000.0, 1350000.0],\n",
       "   'tileWidth': 256,\n",
       "   'tileHeight': 256,\n",
       "   'matrixWidth': 38,\n",
       "   'matrixHeight': 25},\n",
       "  {'type': 'TileMatrixType',\n",
       "   'identifier': '19',\n",
       "   'scaleDenominator': 71428.57142857143,\n",
       "   'topLeftCorner': [2420000.0, 1350000.0],\n",
       "   'tileWidth': 256,\n",
       "   'tileHeight': 256,\n",
       "   'matrixWidth': 94,\n",
       "   'matrixHeight': 63},\n",
       "  {'type': 'TileMatrixType',\n",
       "   'identifier': '20',\n",
       "   'scaleDenominator': 35714.28571428572,\n",
       "   'topLeftCorner': [2420000.0, 1350000.0],\n",
       "   'tileWidth': 256,\n",
       "   'tileHeight': 256,\n",
       "   'matrixWidth': 188,\n",
       "   'matrixHeight': 125},\n",
       "  {'type': 'TileMatrixType',\n",
       "   'identifier': '21',\n",
       "   'scaleDenominator': 17857.14285714286,\n",
       "   'topLeftCorner': [2420000.0, 1350000.0],\n",
       "   'tileWidth': 256,\n",
       "   'tileHeight': 256,\n",
       "   'matrixWidth': 375,\n",
       "   'matrixHeight': 250},\n",
       "  {'type': 'TileMatrixType',\n",
       "   'identifier': '22',\n",
       "   'scaleDenominator': 8928.57142857143,\n",
       "   'topLeftCorner': [2420000.0, 1350000.0],\n",
       "   'tileWidth': 256,\n",
       "   'tileHeight': 256,\n",
       "   'matrixWidth': 750,\n",
       "   'matrixHeight': 500},\n",
       "  {'type': 'TileMatrixType',\n",
       "   'identifier': '23',\n",
       "   'scaleDenominator': 7142.857142857143,\n",
       "   'topLeftCorner': [2420000.0, 1350000.0],\n",
       "   'tileWidth': 256,\n",
       "   'tileHeight': 256,\n",
       "   'matrixWidth': 938,\n",
       "   'matrixHeight': 625},\n",
       "  {'type': 'TileMatrixType',\n",
       "   'identifier': '24',\n",
       "   'scaleDenominator': 5357.142857142858,\n",
       "   'topLeftCorner': [2420000.0, 1350000.0],\n",
       "   'tileWidth': 256,\n",
       "   'tileHeight': 256,\n",
       "   'matrixWidth': 1250,\n",
       "   'matrixHeight': 834},\n",
       "  {'type': 'TileMatrixType',\n",
       "   'identifier': '25',\n",
       "   'scaleDenominator': 3571.4285714285716,\n",
       "   'topLeftCorner': [2420000.0, 1350000.0],\n",
       "   'tileWidth': 256,\n",
       "   'tileHeight': 256,\n",
       "   'matrixWidth': 1875,\n",
       "   'matrixHeight': 1250},\n",
       "  {'type': 'TileMatrixType',\n",
       "   'identifier': '26',\n",
       "   'scaleDenominator': 1785.7142857142858,\n",
       "   'topLeftCorner': [2420000.0, 1350000.0],\n",
       "   'tileWidth': 256,\n",
       "   'tileHeight': 256,\n",
       "   'matrixWidth': 3750,\n",
       "   'matrixHeight': 2500},\n",
       "  {'type': 'TileMatrixType',\n",
       "   'identifier': '27',\n",
       "   'scaleDenominator': 892.8571428571429,\n",
       "   'topLeftCorner': [2420000.0, 1350000.0],\n",
       "   'tileWidth': 256,\n",
       "   'tileHeight': 256,\n",
       "   'matrixWidth': 7500,\n",
       "   'matrixHeight': 5000},\n",
       "  {'type': 'TileMatrixType',\n",
       "   'identifier': '28',\n",
       "   'scaleDenominator': 357.14285714285717,\n",
       "   'topLeftCorner': [2420000.0, 1350000.0],\n",
       "   'tileWidth': 256,\n",
       "   'tileHeight': 256,\n",
       "   'matrixWidth': 18750,\n",
       "   'matrixHeight': 12500}]}"
      ]
     },
     "execution_count": 350,
     "metadata": {},
     "output_type": "execute_result"
    }
   ],
   "source": [
    "tms_dict"
   ]
  },
  {
   "cell_type": "code",
   "execution_count": 444,
   "id": "8f2af5ac-1cd9-4d08-9d86-09113ec56d6d",
   "metadata": {},
   "outputs": [
    {
     "data": {
      "text/plain": [
       "TMSBoundingBox(type='BoundingBoxType', crs=<Derived Projected CRS: EPSG:2056>\n",
       "Name: CH1903+ / LV95\n",
       "Axis Info [cartesian]:\n",
       "- E[east]: Easting (metre)\n",
       "- N[north]: Northing (metre)\n",
       "Area of Use:\n",
       "- name: Liechtenstein; Switzerland.\n",
       "- bounds: (5.96, 45.82, 10.49, 47.81)\n",
       "Coordinate Operation:\n",
       "- name: Swiss Oblique Mercator 1995\n",
       "- method: Hotine Oblique Mercator (variant B)\n",
       "Datum: CH1903+\n",
       "- Ellipsoid: Bessel 1841\n",
       "- Prime Meridian: Greenwich\n",
       ", lowerCorner=(2420000.0, 326000.0), upperCorner=(3444000.0, 1350000.0))"
      ]
     },
     "execution_count": 444,
     "metadata": {},
     "output_type": "execute_result"
    }
   ],
   "source": [
    "tms = morecantile.TileMatrixSet.parse_file('output/2056_58.json')\n",
    "tms.boundingBox"
   ]
  },
  {
   "cell_type": "code",
   "execution_count": 446,
   "id": "1092516a-7415-45ab-aec6-c1ea3488aec9",
   "metadata": {},
   "outputs": [
    {
     "data": {
      "text/plain": [
       "{'type': 'TileMatrixType',\n",
       " 'identifier': '10',\n",
       " 'scaleDenominator': 5357142.857142857,\n",
       " 'topLeftCorner': (2420000.0, 1350000.0),\n",
       " 'tileWidth': 256,\n",
       " 'tileHeight': 256,\n",
       " 'matrixWidth': 2,\n",
       " 'matrixHeight': 1}"
      ]
     },
     "execution_count": 446,
     "metadata": {},
     "output_type": "execute_result"
    }
   ],
   "source": [
    "tms.matrix(10).dict(exclude_none=True)"
   ]
  },
  {
   "cell_type": "code",
   "execution_count": 349,
   "id": "8bc59f54-2e1f-4aaa-b352-e12eb182d38c",
   "metadata": {},
   "outputs": [
    {
     "name": "stderr",
     "output_type": "stream",
     "text": [
      "/home/acerioni/venv/lib/python3.8/site-packages/morecantile/models.py:849: UserWarning: CRS is no longer part of the GeoJSON specification.Other projection than EPSG:4326 might not be supported.\n",
      "  warnings.warn(\n",
      "/home/acerioni/venv/lib/python3.8/site-packages/geopandas/io/file.py:234: FutureWarning: pandas.Int64Index is deprecated and will be removed from pandas in a future version. Use pandas.Index with the appropriate dtype instead.\n",
      "  pd.Int64Index,\n",
      "/home/acerioni/venv/lib/python3.8/site-packages/morecantile/models.py:849: UserWarning: CRS is no longer part of the GeoJSON specification.Other projection than EPSG:4326 might not be supported.\n",
      "  warnings.warn(\n",
      "/home/acerioni/venv/lib/python3.8/site-packages/geopandas/io/file.py:234: FutureWarning: pandas.Int64Index is deprecated and will be removed from pandas in a future version. Use pandas.Index with the appropriate dtype instead.\n",
      "  pd.Int64Index,\n"
     ]
    }
   ],
   "source": [
    "z12_tiles_gdf = gpd.GeoDataFrame.from_features([tms.feature(x, projected=True) for x in tms.tiles(*bboxes_extent_4326, zooms=[12])])\n",
    "z12_tiles_gdf.set_crs(epsg=2056, inplace=True)\n",
    "z12_tiles_gdf.to_file(\"output/z12_tiles.gpkg\", driver=\"GPKG\")\n",
    "\n",
    "z24_tiles_gdf = gpd.GeoDataFrame.from_features([tms.feature(x, projected=True) for x in tms.tiles(*bboxes_extent_4326, zooms=[24])])\n",
    "z24_tiles_gdf.set_crs(epsg=2056, inplace=True)\n",
    "z24_tiles_gdf.to_file(\"output/z24_tiles.gpkg\", driver=\"GPKG\")"
   ]
  },
  {
   "cell_type": "code",
   "execution_count": 381,
   "id": "5ad1ef79-09e5-4bf0-99c7-d810340cd851",
   "metadata": {},
   "outputs": [
    {
     "data": {
      "text/plain": [
       "[1, 2, 3]"
      ]
     },
     "execution_count": 381,
     "metadata": {},
     "output_type": "execute_result"
    }
   ],
   "source": [
    "list(range(1,4))"
   ]
  },
  {
   "cell_type": "code",
   "execution_count": null,
   "id": "9dbf65d6-af20-42b1-b1ba-8566b1ef9d19",
   "metadata": {},
   "outputs": [],
   "source": []
  }
 ],
 "metadata": {
  "kernelspec": {
   "display_name": "Python 3 (ipykernel)",
   "language": "python",
   "name": "python3"
  },
  "language_info": {
   "codemirror_mode": {
    "name": "ipython",
    "version": 3
   },
   "file_extension": ".py",
   "mimetype": "text/x-python",
   "name": "python",
   "nbconvert_exporter": "python",
   "pygments_lexer": "ipython3",
   "version": "3.8.10"
  }
 },
 "nbformat": 4,
 "nbformat_minor": 5
}
