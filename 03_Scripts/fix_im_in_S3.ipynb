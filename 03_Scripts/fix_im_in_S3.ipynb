{
 "cells": [
  {
   "cell_type": "code",
   "execution_count": 1,
   "metadata": {},
   "outputs": [],
   "source": [
    "import boto3\n",
    "from botocore.client import Config\n",
    "\n",
    "from tqdm import tqdm\n",
    "import yaml\n",
    "\n",
    "import RS_images_to_S3\n"
   ]
  },
  {
   "cell_type": "markdown",
   "metadata": {},
   "source": [
    "Define constants"
   ]
  },
  {
   "cell_type": "code",
   "execution_count": 3,
   "metadata": {},
   "outputs": [],
   "source": [
    "with open('config.yaml') as fp:\n",
    "    cfg=yaml.load(fp, Loader=yaml.FullLoader)['RS_images_to_S3.py']\n",
    "\n",
    "ACCESS_KEY=cfg['access_key']\n",
    "SECRET_KEY=cfg['secret_key']\n",
    "ENDPOINT_URL=cfg['url']\n",
    "BUCKET=cfg['bucket']\n"
   ]
  },
  {
   "cell_type": "markdown",
   "metadata": {},
   "source": [
    "Define session"
   ]
  },
  {
   "cell_type": "code",
   "execution_count": 4,
   "metadata": {},
   "outputs": [],
   "source": [
    "FOLDER_TO_FIX='02_Data/initial/images_RS/'\n",
    "\n",
    "session = boto3.session.Session()\n",
    "s3_client = session.client(\n",
    "    service_name='s3',\n",
    "    aws_access_key_id=ACCESS_KEY,\n",
    "    aws_secret_access_key=SECRET_KEY,\n",
    "    endpoint_url=ENDPOINT_URL,\n",
    "    config=Config(s3={'addressing_style': 'path'})\n",
    ")\n"
   ]
  },
  {
   "cell_type": "code",
   "execution_count": 5,
   "metadata": {},
   "outputs": [],
   "source": [
    "response = s3_client.list_objects_v2(Bucket=BUCKET, Prefix=FOLDER_TO_FIX)\n",
    "files_in_folder = response.get(\"Contents\")\n"
   ]
  },
  {
   "cell_type": "markdown",
   "metadata": {},
   "source": [
    "Copy the files of the tiles 1168 and 1228 in a sub folder"
   ]
  },
  {
   "cell_type": "code",
   "execution_count": 6,
   "metadata": {},
   "outputs": [],
   "source": [
    "files_to_fix=[file['Key'].split('/')[-1] for file in files_in_folder if file['Key'].split('/')[-1].startswith('1168_1228')]\n",
    "\n",
    "if False:\n",
    "    files_to_fix=files_to_fix[-3:]\n"
   ]
  },
  {
   "cell_type": "code",
   "execution_count": 7,
   "metadata": {},
   "outputs": [
    {
     "name": "stdout",
     "output_type": "stream",
     "text": [
      "[]\n"
     ]
    }
   ],
   "source": [
    "print(files_to_fix[0:5])"
   ]
  },
  {
   "cell_type": "code",
   "execution_count": null,
   "metadata": {},
   "outputs": [],
   "source": [
    "SUBFOLDER_NEW_TILES=FOLDER_TO_FIX+'1168_1228/'\n",
    "\n",
    "old_filenames=[FOLDER_TO_FIX+filename for filename in files_to_fix]\n",
    "# print(old_filenames)\n"
   ]
  },
  {
   "cell_type": "code",
   "execution_count": null,
   "metadata": {},
   "outputs": [],
   "source": [
    "file = old_filenames[0]\n",
    "new_filename=file.split('/')[-1][9:]\n",
    "\n",
    "print(new_filename)\n"
   ]
  },
  {
   "cell_type": "code",
   "execution_count": null,
   "metadata": {},
   "outputs": [],
   "source": [
    "success=[]\n",
    "for file in tqdm(old_filenames, desc='Moving files for the 2 last tiles'):\n",
    "    new_filename = SUBFOLDER_NEW_TILES + file.split('/')[-1][9:]\n",
    "    success.append(RS_images_to_S3.move_files(s3_client, file, BUCKET, new_filename=new_filename))\n"
   ]
  },
  {
   "cell_type": "code",
   "execution_count": null,
   "metadata": {},
   "outputs": [],
   "source": [
    "print(f\"{sum(success)} files were successfully moved or already existed in the folder '{SUBFOLDER_NEW_TILES}'\")"
   ]
  },
  {
   "cell_type": "markdown",
   "metadata": {},
   "source": [
    "Copy the files left in a subfolder"
   ]
  },
  {
   "cell_type": "code",
   "execution_count": 8,
   "metadata": {},
   "outputs": [],
   "source": [
    "response = s3_client.list_objects_v2(Bucket=BUCKET, Prefix=FOLDER_TO_FIX)\n",
    "files_in_folder = response.get(\"Contents\")\n",
    "files_to_fix=[file['Key'].split('/')[-1] for file in files_in_folder \n",
    "            if (len(file['Key'].split('/'))<5) and (file['Size']>0)]\n",
    "\n",
    "if False:\n",
    "    files_to_fix=files_to_fix[0:5]\n"
   ]
  },
  {
   "cell_type": "code",
   "execution_count": 9,
   "metadata": {},
   "outputs": [
    {
     "name": "stdout",
     "output_type": "stream",
     "text": [
      "[]\n"
     ]
    }
   ],
   "source": [
    "print(files_to_fix[0:5])\n"
   ]
  },
  {
   "cell_type": "code",
   "execution_count": 10,
   "metadata": {},
   "outputs": [],
   "source": [
    "SUBFOLDER_OLD_TILES=FOLDER_TO_FIX+'1188_1208/'"
   ]
  },
  {
   "cell_type": "code",
   "execution_count": 11,
   "metadata": {},
   "outputs": [
    {
     "name": "stderr",
     "output_type": "stream",
     "text": [
      "Moving files for the 2 previous tiles: 0it [00:00, ?it/s]\n"
     ]
    }
   ],
   "source": [
    "success=[]\n",
    "for file in tqdm(files_to_fix, desc='Moving files for the 2 previous tiles'):\n",
    "    old_filename = FOLDER_TO_FIX + file\n",
    "    new_filename = SUBFOLDER_OLD_TILES + file\n",
    "    success.append(RS_images_to_S3.move_files(s3_client, old_filename, BUCKET, new_filename=new_filename))"
   ]
  },
  {
   "cell_type": "code",
   "execution_count": 12,
   "metadata": {},
   "outputs": [
    {
     "name": "stdout",
     "output_type": "stream",
     "text": [
      "0 files were successfully moved or already existed in the folder '02_Data/initial/images_RS/1188_1208/'\n"
     ]
    }
   ],
   "source": [
    "print(f\"{sum(success)} files were successfully moved or already existed in the folder '{SUBFOLDER_OLD_TILES}'\")"
   ]
  },
  {
   "cell_type": "code",
   "execution_count": 13,
   "metadata": {},
   "outputs": [
    {
     "ename": "NameError",
     "evalue": "name 'old_filename' is not defined",
     "output_type": "error",
     "traceback": [
      "\u001b[0;31m---------------------------------------------------------------------------\u001b[0m",
      "\u001b[0;31mNameError\u001b[0m                                 Traceback (most recent call last)",
      "\u001b[1;32m/home/gsalamin/Documents/GitHub/proj-roadsurf/03_Scripts/fix_im_in_S3.ipynb Cell 20\u001b[0m in \u001b[0;36m<cell line: 1>\u001b[0;34m()\u001b[0m\n\u001b[0;32m----> <a href='vscode-notebook-cell:/home/gsalamin/Documents/GitHub/proj-roadsurf/03_Scripts/fix_im_in_S3.ipynb#X26sZmlsZQ%3D%3D?line=0'>1</a>\u001b[0m old_filename\n",
      "\u001b[0;31mNameError\u001b[0m: name 'old_filename' is not defined"
     ]
    }
   ],
   "source": [
    "old_filename"
   ]
  },
  {
   "cell_type": "code",
   "execution_count": null,
   "metadata": {},
   "outputs": [],
   "source": []
  }
 ],
 "metadata": {
  "kernelspec": {
   "display_name": "Python 3.8.10 ('road_surfaces')",
   "language": "python",
   "name": "python3"
  },
  "language_info": {
   "codemirror_mode": {
    "name": "ipython",
    "version": 3
   },
   "file_extension": ".py",
   "mimetype": "text/x-python",
   "name": "python",
   "nbconvert_exporter": "python",
   "pygments_lexer": "ipython3",
   "version": "3.8.10"
  },
  "orig_nbformat": 4,
  "vscode": {
   "interpreter": {
    "hash": "0d832f3481d940cc3bb935f7c66bfbdcf68066e3553491dd3c1b68c49468b7cc"
   }
  }
 },
 "nbformat": 4,
 "nbformat_minor": 2
}
