{
 "cells": [
  {
   "cell_type": "code",
   "execution_count": 1,
   "id": "926304b7",
   "metadata": {},
   "outputs": [],
   "source": [
    "from owslib.wmts import WebMapTileService"
   ]
  },
  {
   "cell_type": "code",
   "execution_count": 2,
   "id": "a9a39bd3",
   "metadata": {},
   "outputs": [],
   "source": [
    "wmts = WebMapTileService(\"https://titiler.vm-gpu-01.stdl.ch/mosaicjson/WMTSCapabilities.xml?url=/data/mosaic.json&bidx=1&bidx=2&bidx=3&bidx=4&tile_format=tif&return_mask=false\")\n",
    "\n",
    "\n",
    "# wmts = WebMapTileService(\"https://wmts.geo.admin.ch/EPSG/3857/1.0.0/WMTSCapabilities.xml\", vendor_kwargs={'time':\"2018\"})\n"
   ]
  },
  {
   "cell_type": "code",
   "execution_count": null,
   "id": "6fd17331",
   "metadata": {},
   "outputs": [],
   "source": [
    "? WebMapTileService"
   ]
  },
  {
   "cell_type": "code",
   "execution_count": null,
   "id": "bad4c3c0",
   "metadata": {},
   "outputs": [],
   "source": [
    "? wmts.gettile"
   ]
  },
  {
   "cell_type": "code",
   "execution_count": 3,
   "id": "6d6ed85c",
   "metadata": {},
   "outputs": [
    {
     "name": "stdout",
     "output_type": "stream",
     "text": [
      "available layers: ['mosaic']\n"
     ]
    }
   ],
   "source": [
    "print(f'available layers: {sorted(list(wmts.contents))}')"
   ]
  },
  {
   "cell_type": "code",
   "execution_count": 4,
   "id": "cdc2cfc3",
   "metadata": {},
   "outputs": [],
   "source": [
    "tile = wmts.gettile(layer='mosaic', tilematrixset='WebMercatorQuad', tilematrix='18', column=136704, row=92313, )\n",
    "\n",
    "# tile = wmts.gettile(layer='ch.swisstopo.swissimage-product', tilematrixset='3857_21', tilematrix='18', column=136704, row=92313)"
   ]
  },
  {
   "cell_type": "code",
   "execution_count": 5,
   "id": "02b62afd",
   "metadata": {},
   "outputs": [],
   "source": [
    "with open('test.tif','wb') as fp:\n",
    "    fp.write(tile.read())"
   ]
  },
  {
   "cell_type": "code",
   "execution_count": null,
   "id": "aae3700b",
   "metadata": {},
   "outputs": [],
   "source": []
  }
 ],
 "metadata": {
  "kernelspec": {
   "display_name": "Python 3 (ipykernel)",
   "language": "python",
   "name": "python3"
  },
  "language_info": {
   "codemirror_mode": {
    "name": "ipython",
    "version": 3
   },
   "file_extension": ".py",
   "mimetype": "text/x-python",
   "name": "python",
   "nbconvert_exporter": "python",
   "pygments_lexer": "ipython3",
   "version": "3.8.10"
  }
 },
 "nbformat": 4,
 "nbformat_minor": 5
}
