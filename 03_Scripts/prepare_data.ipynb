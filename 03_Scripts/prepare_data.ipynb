{
 "cells": [
  {
   "cell_type": "markdown",
   "id": "331039d5",
   "metadata": {},
   "source": [
    "# Import modules"
   ]
  },
  {
   "cell_type": "code",
   "execution_count": 1,
   "id": "8f841b81",
   "metadata": {},
   "outputs": [],
   "source": [
    "from ntpath import join\n",
    "import geopandas as gpd\n",
    "import pandas as pd\n",
    "from itertools import combinations\n",
    "import math\n",
    "import os, sys\n",
    "import argparse\n",
    "from tqdm import tqdm\n",
    "import yaml\n",
    "\n",
    "os.chdir('..')"
   ]
  },
  {
   "cell_type": "code",
   "execution_count": 2,
   "id": "0a700646",
   "metadata": {},
   "outputs": [],
   "source": [
    "with open('03_Scripts/config.yaml') as fp:\n",
    "    cfg = yaml.load(fp, Loader=yaml.FullLoader)['prepare_data.py']    #  [os.path.basename(__file__)]\n",
    "\n",
    "\n",
    "# Task to do\n",
    "DETERMINE_ROAD_SURFACES = cfg['tasks']['determine_roads_surfaces']\n",
    "DETERMINE_RESTRICTED_AOI = cfg['tasks']['determine_restricted_AOI']\n",
    "MAKE_RASTER_MOSAIC = cfg['tasks']['make_raster_mosaic']\n",
    "DOWNLOAD_TILES=cfg['tasks']['determine_tiles']\n",
    "\n",
    "if not DETERMINE_ROAD_SURFACES and not DETERMINE_RESTRICTED_AOI and not MAKE_RASTER_MOSAIC and not DOWNLOAD_TILES:\n",
    "    print('Nothing to do. Exiting!')\n",
    "    sys.exit(0)\n",
    "else:\n",
    "\n",
    "    INPUT = cfg['input']\n",
    "    INPUT_DIR =INPUT['input_folder']\n",
    "\n",
    "    ROADS_IN = INPUT_DIR + INPUT['input_files']['roads']\n",
    "    ROADS_PARAM = INPUT_DIR + INPUT['input_files']['roads_param']\n",
    "    FORESTS = INPUT_DIR + INPUT['input_files']['forests']\n",
    "    TILES_SWISSIMAGES = INPUT['input_files']['tiles_swissimages10']\n",
    "\n",
    "    OUTPUT = cfg['output']\n",
    "    OUTPUT_DIR = OUTPUT['output_folder']\n",
    "\n",
    "    if DETERMINE_ROAD_SURFACES:\n",
    "        ROADS_OUT = OUTPUT_DIR +  OUTPUT['output_files']['roads']\n",
    "\n",
    "    if DETERMINE_RESTRICTED_AOI:\n",
    "        RESTRICTED_AOI = OUTPUT_DIR +  OUTPUT['output_files']['restricted_AOI']\n",
    "    \n",
    "    if DOWNLOAD_TILES:\n",
    "        TILES_AOI = OUTPUT_DIR + OUTPUT['output_files']['tiles_aoi']\n",
    "\n"
   ]
  },
  {
   "cell_type": "markdown",
   "id": "c8cc6867",
   "metadata": {},
   "source": [
    "# Define functions"
   ]
  },
  {
   "cell_type": "code",
   "execution_count": 3,
   "id": "30240799",
   "metadata": {},
   "outputs": [],
   "source": [
    "def polygons_diff_without_artifacts(polygons, p1_idx, p2_idx):\n",
    "    # Make the difference of the geometry at row p2_idx with the one at the row p1_idx\n",
    "    \n",
    "    diff=polygons.loc[p2_idx,'geometry']-polygons.loc[p1_idx,'geometry']\n",
    "\n",
    "    # Store intermediary results back to poly\n",
    "    if diff.geom_type == 'Polygon':\n",
    "        polygons.loc[p2_idx,'geometry'] -= polygons.loc[p1_idx,'geometry']\n",
    "\n",
    "    elif diff.geom_type == 'MultiPolygon':\n",
    "        # if a multipolygone is created, only keep the largest part to avoid the following error: https://github.com/geopandas/geopandas/issues/992\n",
    "        polygons.loc[p2_idx,'geometry'] = max((polygons.loc[p2_idx,'geometry']-polygons.loc[p1_idx,'geometry']).geoms, key=lambda a: a.area)\n",
    "\n",
    "    return polygons\n",
    "\n",
    "def test_crs(crs1,crs2 = \"EPSG:2056\"):\n",
    "    try:\n",
    "        assert(crs1 == crs2), \"CRS mismatch between the roads file and the forests file.\"\n",
    "    except Exception as e:\n",
    "        print(e)\n",
    "        sys.exit(1)"
   ]
  },
  {
   "cell_type": "markdown",
   "id": "a61998e5",
   "metadata": {},
   "source": [
    "# Main\n",
    "## Import files"
   ]
  },
  {
   "cell_type": "code",
   "execution_count": 4,
   "id": "c3b699bb",
   "metadata": {},
   "outputs": [
    {
     "name": "stdout",
     "output_type": "stream",
     "text": [
      "Importing files...\n",
      "Importations done!\n"
     ]
    }
   ],
   "source": [
    "# Import files ------------------------------------------------------------------------------------------\n",
    "print('Importing files...')\n",
    "## Data\n",
    "roads=gpd.read_file(ROADS_IN)\n",
    "forests=gpd.read_file(FORESTS)\n",
    "tiles_swissimages=gpd.read_file(TILES_SWISSIMAGES)\n",
    "\n",
    "## Other informations\n",
    "roads_parameters=pd.read_excel(ROADS_PARAM)\n",
    "\n",
    "print('Importations done!')"
   ]
  },
  {
   "cell_type": "markdown",
   "id": "48d3195f",
   "metadata": {},
   "source": [
    "## Information treatment\n",
    "\n",
    "### Filter the roads to work on"
   ]
  },
  {
   "cell_type": "code",
   "execution_count": 5,
   "id": "14cf5408",
   "metadata": {},
   "outputs": [],
   "source": [
    "# Supress non-roads elements\n",
    "roads_parameters=roads_parameters[roads_parameters['to keep']=='yes']\n",
    "roads_parameters.drop_duplicates(subset='GDB-Code',inplace=True)       # Keep first by default \n",
    "\n",
    "joined_roads=roads.merge(roads_parameters[['GDB-Code','Width']], how='right',left_on='OBJEKTART',right_on='GDB-Code')"
   ]
  },
  {
   "cell_type": "markdown",
   "id": "5c791641",
   "metadata": {},
   "source": [
    "### Buffer the roads"
   ]
  },
  {
   "cell_type": "code",
   "execution_count": 6,
   "id": "0183d70b",
   "metadata": {},
   "outputs": [],
   "source": [
    "# Buffer the roads\n",
    "buffered_roads=joined_roads.copy()\n",
    "buffered_roads['buffered_geom']=buffered_roads.buffer(joined_roads['Width'], cap_style=2)\n"
   ]
  },
  {
   "cell_type": "code",
   "execution_count": 7,
   "id": "65a24610",
   "metadata": {},
   "outputs": [],
   "source": [
    "buffered_roads.drop(columns=['geometry'],inplace=True)\n",
    "buffered_roads.rename(columns={'buffered_geom':'geometry'},inplace=True)"
   ]
  },
  {
   "cell_type": "code",
   "execution_count": 8,
   "id": "25efc1e2",
   "metadata": {
    "scrolled": true
   },
   "outputs": [
    {
     "name": "stdout",
     "output_type": "stream",
     "text": [
      "ID: 314.0\n",
      "ID: 315.0\n",
      "ID: 373.0\n",
      "ID: 374.0\n",
      "ID: 375.0\n",
      "ID: 376.0\n",
      "ID: 1580.0\n",
      "ID: 1581.0\n",
      "ID: 1582.0\n",
      "ID: 25294.0\n",
      "ID: 25297.0\n",
      "ID: 25298.0\n",
      "ID: 25299.0\n",
      "ID: 26669.0\n",
      "ID: 1576.0\n",
      "ID: 1577.0\n",
      "ID: 1578.0\n"
     ]
    }
   ],
   "source": [
    "## Do not let roundabouts make artifacts\n",
    "for idx in buffered_roads.index:\n",
    "    geom=buffered_roads.loc[idx,'geometry']\n",
    "    if geom.geom_type == 'MultiPolygon':\n",
    "        buffered_roads.loc[idx,'geometry'] = max(buffered_roads.loc[idx,'geometry'].geoms, key=lambda a: a.area)\n",
    "        print(f'ID: {buffered_roads.loc[idx,\"OBJECTID\"]}')"
   ]
  },
  {
   "cell_type": "code",
   "execution_count": 9,
   "id": "32b71c4b",
   "metadata": {},
   "outputs": [
    {
     "data": {
      "text/plain": [
       "(11565, 32)"
      ]
     },
     "execution_count": 9,
     "metadata": {},
     "output_type": "execute_result"
    }
   ],
   "source": [
    "buffered_roads.shape"
   ]
  },
  {
   "cell_type": "markdown",
   "id": "1f1e5c97",
   "metadata": {},
   "source": [
    "### Erease overlapping zones of polygons"
   ]
  },
  {
   "cell_type": "code",
   "execution_count": 10,
   "id": "df5540e1",
   "metadata": {},
   "outputs": [
    {
     "name": "stdout",
     "output_type": "stream",
     "text": [
      "(30476, 37)\n"
     ]
    }
   ],
   "source": [
    "buffered_roads['saved_geom']=buffered_roads.geometry\n",
    "joined_roads=gpd.sjoin(buffered_roads,buffered_roads[['OBJECTID','OBJEKTART','saved_geom','geometry']],how='left', lsuffix='1', rsuffix='2')\n",
    "\n",
    "### Drop excessive rows\n",
    "intersected=joined_roads[joined_roads['OBJECTID_2'].notna()].copy()\n",
    "intersected_not_itself=intersected[intersected['OBJECTID_1']!=intersected['OBJECTID_2']].copy()\n",
    "intersected_roads=intersected_not_itself.drop_duplicates(subset=['OBJECTID_1','OBJECTID_2'])\n",
    "\n",
    "intersected_roads.reset_index(inplace=True, drop=True)\n",
    "print(intersected_roads.shape)"
   ]
  },
  {
   "cell_type": "code",
   "execution_count": 11,
   "id": "34be39ee",
   "metadata": {},
   "outputs": [
    {
     "name": "stdout",
     "output_type": "stream",
     "text": [
      "(3478, 37)\n"
     ]
    }
   ],
   "source": [
    "### Sort the roads so that the widest ones come first\n",
    "intersected_roads.loc[intersected_roads['OBJEKTART_1']==20,'OBJEKTART_1']=8.5\n",
    "\n",
    "intersect_other_width=intersected_roads[intersected_roads['OBJEKTART_1']<intersected_roads['OBJEKTART_2']].copy()\n",
    "\n",
    "intersect_other_width.sort_values(by=['OBJEKTART_1'],inplace=True)\n",
    "intersect_other_width.loc[intersect_other_width['OBJEKTART_1']==8.5,'OBJEKTART_1']=20\n",
    "\n",
    "intersect_other_width.reset_index(inplace=True, drop=True)\n",
    "\n",
    "print(intersect_other_width.shape)"
   ]
  },
  {
   "cell_type": "code",
   "execution_count": 19,
   "id": "ade0479d",
   "metadata": {},
   "outputs": [
    {
     "name": "stderr",
     "output_type": "stream",
     "text": [
      "Supressing the overlapping intersections of roads of different width:: 100%|█| 3\n"
     ]
    }
   ],
   "source": [
    "### Suppress the overlapping intersection\n",
    "# from https://stackoverflow.com/questions/71738629/expand-polygons-in-geopandas-so-that-they-do-not-overlap-each-other\n",
    "\n",
    "corr_overlap1 = buffered_roads.copy()\n",
    "\n",
    "for idx in tqdm(intersect_other_width.index, total=intersect_other_width.shape[0],\n",
    "               desc='Suppressing the overlap of roads with different width'):\n",
    "    \n",
    "    poly1_id = corr_overlap1.index[corr_overlap1['OBJECTID'] == intersect_other_width.loc[idx,'OBJECTID_1']].values.astype(int)[0]\n",
    "    poly2_id = corr_overlap1.index[corr_overlap1['OBJECTID'] == intersect_other_width.loc[idx,'OBJECTID_2']].values.astype(int)[0]\n",
    "    \n",
    "    corr_overlap1=polygons_diff_without_artifacts(corr_overlap1,poly1_id,poly2_id)"
   ]
  },
  {
   "cell_type": "code",
   "execution_count": 20,
   "id": "ab1a829b",
   "metadata": {},
   "outputs": [],
   "source": [
    "corr_overlap1.drop(columns=['saved_geom'],inplace=True)"
   ]
  },
  {
   "cell_type": "code",
   "execution_count": 21,
   "id": "86af1a24",
   "metadata": {},
   "outputs": [
    {
     "data": {
      "text/plain": [
       "Index(['OBJECTID', 'UUID', 'DATUM_AEND', 'DATUM_ERST', 'ERSTELLUNG',\n",
       "       'ERSTELLU_1', 'REVISION_J', 'REVISION_M', 'GRUND_AEND', 'HERKUNFT',\n",
       "       'HERKUNFT_J', 'HERKUNFT_M', 'REVISION_Q', 'OBJEKTART', 'KUNSTBAUTE',\n",
       "       'WANDERWEGE', 'VERKEHRSBE', 'BEFAHRBARK', 'EROEFFNUNG', 'STUFE',\n",
       "       'RICHTUNGSG', 'BELAGSART', 'KREISEL', 'EIGENTUEME', 'VERKEHRS_1',\n",
       "       'NAME', 'TLM_STRASS', 'STRASSENNA', 'SHAPE_Leng', 'GDB-Code', 'Width',\n",
       "       'geometry'],\n",
       "      dtype='object')"
      ]
     },
     "execution_count": 21,
     "metadata": {},
     "output_type": "execute_result"
    }
   ],
   "source": [
    "corr_overlap1.columns"
   ]
  },
  {
   "cell_type": "markdown",
   "id": "a70d5023",
   "metadata": {},
   "source": [
    "## Remove overlapping area between roads of the same class"
   ]
  },
  {
   "cell_type": "code",
   "execution_count": 22,
   "id": "99c40eb1",
   "metadata": {},
   "outputs": [
    {
     "name": "stdout",
     "output_type": "stream",
     "text": [
      "(29656, 36)\n"
     ]
    }
   ],
   "source": [
    "## Remove overlapping area between roads of the same class\n",
    "\n",
    "save_geom=corr_overlap1.copy()\n",
    "save_geom['saved_geom']=save_geom.geometry\n",
    "joined_roads=gpd.sjoin(save_geom,save_geom[['OBJECTID','saved_geom','geometry']],how='left', lsuffix='1', rsuffix='2')\n",
    "\n",
    "### Drop excessive rows\n",
    "intersected=joined_roads[joined_roads['OBJECTID_2'].notna()].copy()\n",
    "intersected_not_itself=intersected[intersected['OBJECTID_1']!=intersected['OBJECTID_2']].copy()\n",
    "intersected_roads=intersected_not_itself.drop_duplicates(subset=['OBJECTID_1','OBJECTID_2'])\n",
    "\n",
    "intersected_roads.reset_index(inplace=True, drop=True)\n",
    "print(intersected_roads.shape)"
   ]
  },
  {
   "cell_type": "code",
   "execution_count": 24,
   "id": "0fa4bf0d",
   "metadata": {},
   "outputs": [
    {
     "name": "stderr",
     "output_type": "stream",
     "text": [
      "Erease duplicates from spatial join:: 100%|█| 29656/29656 [00:32<00:00, 913.92it\n"
     ]
    }
   ],
   "source": [
    "### Get rid of duplicates not on the same row\n",
    "to_drop=[]\n",
    "for idx in tqdm(intersected_roads.index, total=intersected_roads.shape[0],\n",
    "               desc='Erease duplicates from spatial join'):\n",
    "    ir1_objid=intersected_roads.loc[idx,'OBJECTID_1']\n",
    "    ir2_objid=intersected_roads.loc[idx,'OBJECTID_2']\n",
    "    \n",
    "    for ss_idx in intersected_roads[intersected_roads['OBJECTID_1']==ir2_objid].index:\n",
    "        \n",
    "        if ir1_objid==intersected_roads.loc[ss_idx,'OBJECTID_2'] and idx<ss_idx:\n",
    "            to_drop.append(ss_idx)\n"
   ]
  },
  {
   "cell_type": "code",
   "execution_count": 25,
   "id": "94de5552",
   "metadata": {},
   "outputs": [],
   "source": [
    "intersected_roads.drop(to_drop,inplace=True)"
   ]
  },
  {
   "cell_type": "code",
   "execution_count": 26,
   "id": "c6580bb0",
   "metadata": {},
   "outputs": [
    {
     "name": "stderr",
     "output_type": "stream",
     "text": [
      "Suppressing overlap between equivalent roads: 100%|█| 14828/14828 [00:12<00:00, \n"
     ]
    }
   ],
   "source": [
    "corr_overlap2=corr_overlap1.copy()\n",
    "\n",
    "### from https://stackoverflow.com/questions/71738629/expand-polygons-in-geopandas-so-that-they-do-not-overlap-each-other\n",
    "for idx in tqdm(intersected_roads.index, total=intersected_roads.shape[0],\n",
    "                desc='Suppressing overlap between equivalent roads'):\n",
    "    \n",
    "    poly1_id = corr_overlap2.index[corr_overlap2['OBJECTID'] == intersected_roads.loc[idx,'OBJECTID_1']].values.astype(int)[0]\n",
    "    poly2_id = corr_overlap2.index[corr_overlap2['OBJECTID'] == intersected_roads.loc[idx,'OBJECTID_2']].values.astype(int)[0]\n",
    "    \n",
    "    geom1 = corr_overlap2.loc[poly1_id,'geometry']\n",
    "    geom2 = corr_overlap2.loc[poly2_id,'geometry']\n",
    "\n",
    "    # Store intermediary results in variable\n",
    "    diff = geom2 - geom1\n",
    "    \n",
    "    if diff.geom_type == 'Polygon':\n",
    "        temp = geom2 - geom1\n",
    "        \n",
    "    elif diff.geom_type == 'MultiPolygon':\n",
    "        # if a multipolygone is created, only keep the largest part to avoid the following error: https://github.com/geopandas/geopandas/issues/992\n",
    "        temp = max((geom2 - geom1).geoms, key=lambda a: a.area)\n",
    "\n",
    "    corr_overlap2=polygons_diff_without_artifacts(corr_overlap2,poly2_id,poly1_id)\n",
    "\n",
    "    corr_overlap2.loc[poly2_id,'geometry']=temp"
   ]
  },
  {
   "cell_type": "code",
   "execution_count": 27,
   "id": "04229d0d",
   "metadata": {},
   "outputs": [
    {
     "data": {
      "text/plain": [
       "Index(['OBJECTID', 'UUID', 'DATUM_AEND', 'DATUM_ERST', 'ERSTELLUNG',\n",
       "       'ERSTELLU_1', 'REVISION_J', 'REVISION_M', 'GRUND_AEND', 'HERKUNFT',\n",
       "       'HERKUNFT_J', 'HERKUNFT_M', 'REVISION_Q', 'OBJEKTART', 'KUNSTBAUTE',\n",
       "       'WANDERWEGE', 'VERKEHRSBE', 'BEFAHRBARK', 'EROEFFNUNG', 'STUFE',\n",
       "       'RICHTUNGSG', 'BELAGSART', 'KREISEL', 'EIGENTUEME', 'VERKEHRS_1',\n",
       "       'NAME', 'TLM_STRASS', 'STRASSENNA', 'SHAPE_Leng', 'GDB-Code', 'Width',\n",
       "       'geometry'],\n",
       "      dtype='object')"
      ]
     },
     "execution_count": 27,
     "metadata": {},
     "output_type": "execute_result"
    }
   ],
   "source": [
    "corr_overlap2.columns"
   ]
  },
  {
   "cell_type": "code",
   "execution_count": 28,
   "id": "b2562d46",
   "metadata": {
    "scrolled": false
   },
   "outputs": [],
   "source": [
    "# corr_overlap1.to_file(\"/mnt/data-01/gsalamin/proj-roadsurf-b/02_Data/processed/shapefiles_gpkg/test_buffer1.shp\")\n",
    "\n",
    "# corr_overlap2.to_file(\"/mnt/data-01/gsalamin/proj-roadsurf-b/02_Data/processed/shapefiles_gpkg/test_buffer2.shp\")"
   ]
  },
  {
   "cell_type": "markdown",
   "id": "dc8bd5de",
   "metadata": {},
   "source": [
    "### Make the difference with the forested area"
   ]
  },
  {
   "cell_type": "code",
   "execution_count": 29,
   "id": "a577fe35",
   "metadata": {},
   "outputs": [],
   "source": [
    "# Do not consider the roads under forest canopy\n",
    "test_crs(corr_overlap2.crs, forests.crs)"
   ]
  },
  {
   "cell_type": "code",
   "execution_count": 30,
   "id": "0024c7d0",
   "metadata": {},
   "outputs": [],
   "source": [
    "non_forest_roads=corr_overlap2.copy()\n",
    "non_forest_roads=non_forest_roads.overlay(forests[['UUID','geometry']],how='difference')"
   ]
  },
  {
   "cell_type": "code",
   "execution_count": null,
   "id": "cf3a8993",
   "metadata": {},
   "outputs": [],
   "source": []
  },
  {
   "cell_type": "markdown",
   "id": "407b6e1c",
   "metadata": {},
   "source": [
    "# Make a vector of the zones to keep on the pictures"
   ]
  },
  {
   "cell_type": "code",
   "execution_count": null,
   "id": "1d5ffbad",
   "metadata": {},
   "outputs": [],
   "source": [
    "width=roads_parameters['Width'].max()+1\n",
    "\n",
    "buffered_roads_aoi=joined_roads.copy()\n",
    "buffered_roads_aoi['buffered_geom']=buffered_roads_aoi.buffer(width)\n",
    "\n",
    "buffered_roads_aoi.drop(columns=['geometry'],inplace=True)\n",
    "buffered_roads_aoi.rename(columns={'buffered_geom':'geometry'},inplace=True)\n",
    "\n",
    "AOI_roads=buffered_roads_aoi.unary_union\n"
   ]
  },
  {
   "cell_type": "code",
   "execution_count": null,
   "id": "b3f96a8f",
   "metadata": {},
   "outputs": [],
   "source": [
    "test_crs(AOI_roads.crs, forests.crs)\n",
    "    \n",
    "geom={'geometry':[x for x in AOI_roads.geoms]}\n",
    "AOI_roads_no_forest=gpd.GeoDataFrame(geom, crs=roads.crs)\n",
    "AOI_roads_no_forest=AOI_roads_no_forest.overlay(forests[['UUID','geometry']],how='difference')"
   ]
  },
  {
   "cell_type": "markdown",
   "id": "63a161b6",
   "metadata": {},
   "source": [
    "# Get the information of the tiles for the aoi"
   ]
  },
  {
   "cell_type": "code",
   "execution_count": null,
   "id": "157a276b",
   "metadata": {},
   "outputs": [],
   "source": [
    "if not DETERMINE_RESTRICTED_AOI:\n",
    "    AOI_roads_no_forest = gpd.read_file(OUTPUT_DIR +  OUTPUT['output_files']['restricted_AOI'])"
   ]
  },
  {
   "cell_type": "code",
   "execution_count": null,
   "id": "d059ab52",
   "metadata": {},
   "outputs": [],
   "source": [
    "test_crs(tiles_swissimages.crs, AOI_roads_no_forest.crs)"
   ]
  },
  {
   "cell_type": "code",
   "execution_count": null,
   "id": "da62d3e1",
   "metadata": {},
   "outputs": [],
   "source": [
    "tiles_in_restricted_aoi=gpd.sjoin(tiles_swissimages,AOI_roads_no_forest, how='inner')"
   ]
  },
  {
   "cell_type": "code",
   "execution_count": null,
   "id": "ff1abe0f",
   "metadata": {},
   "outputs": [],
   "source": [
    "# We want the images from 2018\n",
    "tiles_in_restricted_aoi['datenstand']=2018\n",
    "\n",
    "tiles_in_restricted_aoi.drop(columns=['index_right', 'FID'], inplace=True)\n",
    "tiles_in_restricted_aoi.reset_index(inplace=True)"
   ]
  },
  {
   "cell_type": "code",
   "execution_count": null,
   "id": "0b786be8",
   "metadata": {},
   "outputs": [],
   "source": [
    "print(tiles_swissimages.columns)\n",
    "print(tiles_in_restricted_aoi.columns)"
   ]
  },
  {
   "cell_type": "code",
   "execution_count": null,
   "id": "8ac41b71",
   "metadata": {},
   "outputs": [],
   "source": [
    "tiles_in_restricted_aoi.info(memory_usage=\"deep\")"
   ]
  },
  {
   "cell_type": "code",
   "execution_count": null,
   "id": "b4c54643",
   "metadata": {},
   "outputs": [],
   "source": [
    "tiles_in_restricted_aoi.to_file(\"02_Data/processed/json/tiles_aoi.geojson\")"
   ]
  },
  {
   "cell_type": "code",
   "execution_count": null,
   "id": "4e450833",
   "metadata": {},
   "outputs": [],
   "source": [
    "# https://github.com/swiss-territorial-data-lab/detector-interface/blob/master/tools/wmts-geoquery/src/wmts-geoquery.py"
   ]
  },
  {
   "cell_type": "markdown",
   "id": "48822ac0",
   "metadata": {},
   "source": [
    "## Saving files"
   ]
  },
  {
   "cell_type": "code",
   "execution_count": 31,
   "id": "32628821",
   "metadata": {},
   "outputs": [],
   "source": [
    "non_forest_roads.drop(columns=['UUID','GDB-Code'],inplace=True)\n",
    "non_forest_roads.to_file(\"/mnt/data-01/gsalamin/proj-roadsurf-b/02_Data/processed/shapefiles_gpkg/non_forest_wide_roads.shp\")"
   ]
  },
  {
   "cell_type": "code",
   "execution_count": null,
   "id": "d38f320b",
   "metadata": {},
   "outputs": [],
   "source": [
    "# AOI_roads_poly = gpd.GeoSeries([x for x in AOI_roads_no_forest.geoms], crs=roads.crs)\n",
    "\n",
    "AOI_roads_no_forest.to_file(\"02_Data/processed/shapefiles_gpkg/restricted_AOI.shp\")"
   ]
  }
 ],
 "metadata": {
  "kernelspec": {
   "display_name": "Python 3 (ipykernel)",
   "language": "python",
   "name": "python3"
  },
  "language_info": {
   "codemirror_mode": {
    "name": "ipython",
    "version": 3
   },
   "file_extension": ".py",
   "mimetype": "text/x-python",
   "name": "python",
   "nbconvert_exporter": "python",
   "pygments_lexer": "ipython3",
   "version": "3.8.10"
  }
 },
 "nbformat": 4,
 "nbformat_minor": 5
}
