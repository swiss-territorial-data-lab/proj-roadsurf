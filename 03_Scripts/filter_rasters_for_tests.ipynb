{
 "cells": [
  {
   "cell_type": "code",
   "execution_count": 15,
   "metadata": {},
   "outputs": [],
   "source": [
    "import os, sys\n",
    "import logging, logging.config\n",
    "from tqdm import tqdm\n",
    "import glob\n",
    "\n",
    "import pandas as pd\n",
    "import geopandas as gpd\n",
    "import rasterio\n",
    "from shapely.geometry import shape\n",
    "\n",
    "import numpy as np\n",
    "\n",
    "import misc_fct"
   ]
  },
  {
   "cell_type": "code",
   "execution_count": 34,
   "metadata": {},
   "outputs": [],
   "source": [
    "TILES_DIR='/mnt/data-01/gsalamin/proj-roadsurf-b/02_Data/processed/obj_detector/all-images-256/*.tif'\n",
    "ROADS='/mnt/data-01/gsalamin/proj-roadsurf-b/02_Data/processed/shapefiles_gpkg/non_forest_wide_roads.shp'\n",
    "\n",
    "roads=gpd.read_file(ROADS)"
   ]
  },
  {
   "cell_type": "code",
   "execution_count": 27,
   "metadata": {},
   "outputs": [
    {
     "name": "stdout",
     "output_type": "stream",
     "text": [
      "['/mnt/data-01/gsalamin/proj-roadsurf-b/02_Data/processed/obj_detector/all-images-256/17_68345_46241.tif', '/mnt/data-01/gsalamin/proj-roadsurf-b/02_Data/processed/obj_detector/all-images-256/17_68381_46172.tif', '/mnt/data-01/gsalamin/proj-roadsurf-b/02_Data/processed/obj_detector/all-images-256/17_68369_46214.tif', '/mnt/data-01/gsalamin/proj-roadsurf-b/02_Data/processed/obj_detector/all-images-256/17_68399_46269.tif', '/mnt/data-01/gsalamin/proj-roadsurf-b/02_Data/processed/obj_detector/all-images-256/17_68342_46196.tif']\n"
     ]
    }
   ],
   "source": [
    "files=glob.glob(TILES_DIR)\n",
    "print(files[:5])"
   ]
  },
  {
   "cell_type": "code",
   "execution_count": 29,
   "metadata": {},
   "outputs": [],
   "source": [
    "geom=[]\n",
    "\n",
    "for file in tqdm(files, desc='Checking files'):\n",
    "    with rasterio.open(file) as f:\n",
    "        image = f.read(1)\n",
    "\n",
    "        lim_sup=200\n",
    "        lim_inf=1\n",
    "\n",
    "        # create a binary image, 0 where there's nodata, 1 where it's valid\n",
    "        is_valid = ((image < lim_inf) | (image > lim_sup)).astype(np.uint8)\n",
    "\n",
    "        \n",
    "        # vectorize the binary image, supplying the transform so it returns maps coords\n",
    "        for coords, value in rasterio.features.shapes(is_valid, transform=f.transform):\n",
    "\n",
    "            # ignore polygons corresponding to nodata\n",
    "            if value != 0:\n",
    "                # convert geojson to shapely geometry\n",
    "                geom.append(shape(coords))\n",
    "\n",
    "fid=[x for x in range(1, len(geom)+1)]\n",
    "zones={'id':fid, 'geometry': geom}\n"
   ]
  },
  {
   "cell_type": "code",
   "execution_count": 30,
   "metadata": {},
   "outputs": [],
   "source": [
    "extrem_zones=gpd.GeoDataFrame(zones, crs='EPSG:3857')"
   ]
  },
  {
   "cell_type": "code",
   "execution_count": 36,
   "metadata": {},
   "outputs": [],
   "source": [
    "roads_reproject=roads.to_crs(epsg=3857)\n",
    "\n",
    "misc_fct.test_crs(roads_reproject.crs, extrem_zones.crs)\n",
    "\n",
    "extrem_zones_on_roads=gpd.overlay(extrem_zones,roads_reproject)"
   ]
  },
  {
   "cell_type": "code",
   "execution_count": 38,
   "metadata": {},
   "outputs": [],
   "source": [
    "extrem_zones_on_roads.to_file('/mnt/data-01/gsalamin/proj-roadsurf-b/02_Data/processed/shapefiles_gpkg/test_extrem_pixels.shp')"
   ]
  },
  {
   "cell_type": "code",
   "execution_count": null,
   "metadata": {},
   "outputs": [],
   "source": []
  }
 ],
 "metadata": {
  "kernelspec": {
   "display_name": "Python 3.8.10 ('road_surfaces')",
   "language": "python",
   "name": "python3"
  },
  "language_info": {
   "codemirror_mode": {
    "name": "ipython",
    "version": 3
   },
   "file_extension": ".py",
   "mimetype": "text/x-python",
   "name": "python",
   "nbconvert_exporter": "python",
   "pygments_lexer": "ipython3",
   "version": "3.8.10"
  },
  "orig_nbformat": 4,
  "vscode": {
   "interpreter": {
    "hash": "0d832f3481d940cc3bb935f7c66bfbdcf68066e3553491dd3c1b68c49468b7cc"
   }
  }
 },
 "nbformat": 4,
 "nbformat_minor": 2
}
