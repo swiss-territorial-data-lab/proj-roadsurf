{
 "cells": [
  {
   "cell_type": "code",
   "execution_count": null,
   "metadata": {},
   "outputs": [],
   "source": [
    "import os, sys\n",
    "import logging, logging.config\n",
    "import yaml\n",
    "import glob\n",
    "from joblib import Parallel, delayed\n",
    "from tqdm import tqdm\n",
    "\n",
    "import pandas as pd\n",
    "import geopandas as gpd\n",
    "import rasterio\n",
    "from rasterio.features import shapes\n",
    "from shapely.geometry import shape\n",
    "\n",
    "import numpy as np\n",
    "\n",
    "import misc_fct\n",
    "\n",
    "from helpers import XYZ\n"
   ]
  },
  {
   "cell_type": "code",
   "execution_count": null,
   "metadata": {},
   "outputs": [],
   "source": [
    "TILES_DIR='/mnt/data-01/gsalamin/proj-roadsurf-b/02_Data/processed/obj_detector/all-images/*.tif'\n",
    "ROADS='/mnt/data-01/gsalamin/proj-roadsurf-b/02_Data/processed/shapefiles_gpkg/roads_polygons.shp'\n",
    "TILES_INFO='/mnt/data-01/gsalamin/proj-roadsurf-b/02_Data/processed/json/tiles_aoi.geojson'\n",
    "\n",
    "roads=gpd.read_file(ROADS)\n",
    "tiles_info=gpd.read_file(TILES_INFO)"
   ]
  },
  {
   "cell_type": "code",
   "execution_count": null,
   "metadata": {},
   "outputs": [],
   "source": [
    "files=glob.glob(TILES_DIR)\n",
    "print(files[:2])"
   ]
  },
  {
   "cell_type": "markdown",
   "metadata": {},
   "source": [
    "# Making polygons on the zones to check"
   ]
  },
  {
   "cell_type": "code",
   "execution_count": null,
   "metadata": {},
   "outputs": [],
   "source": [
    "geom=[]\n",
    "bands=[]\n",
    "pixel_values=[]\n",
    "\n",
    "for file in tqdm(files, desc='Checking files'):\n",
    "    for band in range(1,5):\n",
    "        with rasterio.open(file) as f:\n",
    "            image = f.read(band)\n",
    "\n",
    "            lim_sup=200\n",
    "            lim_inf=1\n",
    "\n",
    "            # create a binary image, 0 where there's nodata, 1 where it's valid\n",
    "            is_valid = ((image < lim_inf) | (image > lim_sup)).astype(np.uint8)\n",
    "\n",
    "            \n",
    "            # vectorize the binary image, supplying the transform so it returns maps coords\n",
    "            for coords, value in shapes(is_valid, transform=f.transform):\n",
    "\n",
    "                # ignore polygons corresponding to nodata\n",
    "                if value != 0:\n",
    "                    # convert geojson to shapely geometry\n",
    "                    geom.append(shape(coords))\n",
    "                    bands.append(band)\n",
    "                    pixel_values.append(value)\n",
    "\n",
    "fid=[x for x in range(1, len(geom)+1)]\n",
    "zones_dict={'fid':fid, 'band':bands, 'pixel_value':pixel_values, 'geometry': geom}\n"
   ]
  },
  {
   "cell_type": "code",
   "execution_count": null,
   "metadata": {},
   "outputs": [],
   "source": [
    "extrem_zones=gpd.GeoDataFrame(zones_dict, crs='EPSG:3857')"
   ]
  },
  {
   "cell_type": "code",
   "execution_count": null,
   "metadata": {},
   "outputs": [],
   "source": [
    "roads_reproject=roads.to_crs(epsg=3857)\n",
    "\n",
    "misc_fct.test_crs(roads_reproject.crs, extrem_zones.crs)\n",
    "\n",
    "extrem_zones_on_roads=gpd.overlay(extrem_zones,roads_reproject[['OBJECTID', 'geometry']])"
   ]
  },
  {
   "cell_type": "code",
   "execution_count": null,
   "metadata": {},
   "outputs": [],
   "source": [
    "extrem_zones_on_roads.shape"
   ]
  },
  {
   "cell_type": "code",
   "execution_count": null,
   "metadata": {},
   "outputs": [],
   "source": [
    "extrem_zones_on_roads.drop_duplicates(subset=['fid'], inplace=True, ignore_index=True)\n",
    "\n",
    "extrem_zones_on_roads.to_file('/mnt/data-01/gsalamin/proj-roadsurf-b/02_Data/processed/shapefiles_gpkg/test_extrem_pixels.shp')"
   ]
  },
  {
   "cell_type": "code",
   "execution_count": null,
   "metadata": {},
   "outputs": [],
   "source": [
    "extrem_zones_on_roads.shape"
   ]
  },
  {
   "cell_type": "markdown",
   "metadata": {},
   "source": [
    "# Downloading tiles for the zones to check"
   ]
  },
  {
   "cell_type": "code",
   "execution_count": null,
   "metadata": {},
   "outputs": [],
   "source": [
    "with open('config.yaml') as fp:\n",
    "    cfg = yaml.load(fp, Loader=yaml.FullLoader)['generate_tilesets.py']\n",
    "\n",
    "OUTPUT_DIR = '/mnt/data-01/gsalamin/proj-roadsurf-b/02_Data/processed/images'\n",
    "\n",
    "ORTHO_WS_TYPE = cfg['datasets']['orthophotos_web_service']['type']\n",
    "ORTHO_WS_URL = cfg['datasets']['orthophotos_web_service']['url']\n",
    "ORTHO_WS_SRS = cfg['datasets']['orthophotos_web_service']['srs']\n",
    "if 'layers' in cfg['datasets']['orthophotos_web_service'].keys():\n",
    "    ORTHO_WS_LAYERS = cfg['datasets']['orthophotos_web_service']['layers']\n",
    "if 'parameters' in cfg['datasets']['orthophotos_web_service'].keys():\n",
    "    ORTHO_WS_PARAMETERS=cfg['datasets']['orthophotos_web_service']['parameters']\n",
    "else:\n",
    "    ORTHO_WS_PARAMETERS={}\n",
    "\n",
    "SAVE_METADATA = True\n",
    "OVERWRITE = cfg['overwrite']\n",
    "TILE_SIZE = cfg['tile_size']\n",
    "\n",
    "ALL_IMG_PATH = os.path.join(OUTPUT_DIR, f\"test\")\n",
    "if not os.path.exists(ALL_IMG_PATH):\n",
    "        os.makedirs(ALL_IMG_PATH)"
   ]
  },
  {
   "cell_type": "code",
   "execution_count": null,
   "metadata": {},
   "outputs": [],
   "source": [
    "tiles_info_reproj=tiles_info.to_crs(crs=3857)\n",
    "\n",
    "misc_fct.test_crs(tiles_info_reproj.crs, extrem_zones_on_roads.crs)\n",
    "\n",
    "tiles_info_on_zones=gpd.overlay(tiles_info_reproj, extrem_zones_on_roads[['fid','geometry']])"
   ]
  },
  {
   "cell_type": "code",
   "execution_count": null,
   "metadata": {},
   "outputs": [],
   "source": [
    "tiles_info_on_zones.drop_duplicates(subset=['id'], inplace=True, ignore_index=True)"
   ]
  },
  {
   "cell_type": "code",
   "execution_count": null,
   "metadata": {},
   "outputs": [],
   "source": [
    "job_dict = XYZ.get_job_dict(\n",
    "    tiles_gdf=tiles_info_on_zones.to_crs(ORTHO_WS_SRS), # <- note the reprojection\n",
    "    XYZ_url=ORTHO_WS_URL, \n",
    "    img_path=ALL_IMG_PATH, \n",
    "    save_metadata=SAVE_METADATA,\n",
    "    overwrite=OVERWRITE\n",
    ")\n",
    "\n",
    "image_getter = XYZ.get_geotiff"
   ]
  },
  {
   "cell_type": "code",
   "execution_count": null,
   "metadata": {},
   "outputs": [],
   "source": [
    "import warnings\n",
    "\n",
    "with warnings.catch_warnings(record=True):\n",
    "    N_JOBS=10\n",
    "    job_outcome = Parallel(n_jobs=N_JOBS, backend=\"loky\")(\n",
    "                delayed(image_getter)(**v) for k, v in tqdm( sorted(list(job_dict.items())) )\n",
    "        )\n",
    "\n",
    "    all_tiles_were_downloaded = True\n",
    "    for job in job_dict.keys():\n",
    "        if not os.path.isfile(job) or not os.path.isfile(job.replace('.tif', '.json')):\n",
    "            all_tiles_were_downloaded = False\n",
    "            print('Failed task: ', job)\n",
    "\n",
    "    if all_tiles_were_downloaded:\n",
    "        print(\"...done.\")\n",
    "    else:\n",
    "        print(\"Some tiles were not downloaded. Please try to run this script again.\")\n",
    "        sys.exit(1)"
   ]
  },
  {
   "cell_type": "code",
   "execution_count": null,
   "metadata": {},
   "outputs": [],
   "source": []
  }
 ],
 "metadata": {
  "kernelspec": {
   "display_name": "Python 3.8.10 ('road_surfaces')",
   "language": "python",
   "name": "python3"
  },
  "language_info": {
   "codemirror_mode": {
    "name": "ipython",
    "version": 3
   },
   "file_extension": ".py",
   "mimetype": "text/x-python",
   "name": "python",
   "nbconvert_exporter": "python",
   "pygments_lexer": "ipython3",
   "version": "3.8.10"
  },
  "orig_nbformat": 4,
  "vscode": {
   "interpreter": {
    "hash": "0d832f3481d940cc3bb935f7c66bfbdcf68066e3553491dd3c1b68c49468b7cc"
   }
  }
 },
 "nbformat": 4,
 "nbformat_minor": 2
}
