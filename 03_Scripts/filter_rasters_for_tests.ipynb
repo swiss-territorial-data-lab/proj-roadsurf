{
 "cells": [
  {
   "attachments": {},
   "cell_type": "markdown",
   "metadata": {},
   "source": [
    "This script allows to filter rasters to test some result and functions.\n",
    "\n",
    "- based on pixel values so we can visualize the extrem pixels and look out for anomaly\n",
    "- to test the mask function\n",
    "- to produce attention mask from polygon and extend"
   ]
  },
  {
   "cell_type": "code",
   "execution_count": null,
   "metadata": {},
   "outputs": [],
   "source": [
    "import os, sys\n",
    "import logging, logging.config\n",
    "import yaml\n",
    "import glob\n",
    "from joblib import Parallel, delayed\n",
    "from tqdm import tqdm\n",
    "\n",
    "import pandas as pd\n",
    "import geopandas as gpd\n",
    "from shapely.geometry import shape\n",
    "from shapely.geometry import mapping, Point, Polygon\n",
    "\n",
    "import rasterio\n",
    "from rasterio.mask import mask\n",
    "from rasterio.features import shapes, rasterize\n",
    "\n",
    "import numpy as np\n",
    "import matplotlib.pyplot as plt\n",
    "\n",
    "\n",
    "import fct_misc\n",
    "\n",
    "# from helpers import XYZ\n"
   ]
  },
  {
   "cell_type": "code",
   "execution_count": null,
   "metadata": {},
   "outputs": [],
   "source": [
    "TILES_DIR='/mnt/data-01/gsalamin/proj-roadsurf-b/02_Data/processed/obj_detector/oth-images'\n",
    "ROADS='/mnt/data-01/gsalamin/proj-roadsurf-b/02_Data/processed/shapefiles_gpkg/roads_polygons.shp'\n",
    "TILES_INFO='/mnt/data-01/gsalamin/proj-roadsurf-b/02_Data/processed/json/tiles_aoi.geojson'\n",
    "\n",
    "shp_gpkg_folder='/mnt/data-01/gsalamin/proj-roadsurf-b/02_Data/processed/shapefiles_gpkg/'\n",
    "\n",
    "roads=gpd.read_file(ROADS)\n",
    "tiles_info=gpd.read_file(TILES_INFO)"
   ]
  },
  {
   "cell_type": "markdown",
   "metadata": {},
   "source": [
    "# Testing extrem values\n",
    "## Making polygons on the zones to check"
   ]
  },
  {
   "cell_type": "code",
   "execution_count": null,
   "metadata": {},
   "outputs": [],
   "source": [
    "files=glob.glob(TILES_DIR+'/*.tif')\n",
    "print(files[:2])"
   ]
  },
  {
   "cell_type": "code",
   "execution_count": null,
   "metadata": {},
   "outputs": [],
   "source": [
    "geom=[]\n",
    "bands=[]\n",
    "pixel_values=[]\n",
    "\n",
    "for file in tqdm(files, desc='Checking files'):\n",
    "    for band in range(1,5):\n",
    "        with rasterio.open(file) as f:\n",
    "            image = f.read(band)\n",
    "\n",
    "            lim_sup=200\n",
    "            lim_inf=1\n",
    "\n",
    "            # create a binary image, 0 where there's nodata, 1 where it's valid\n",
    "            is_valid = ((image < lim_inf) | (image > lim_sup)).astype(np.uint8)\n",
    "\n",
    "            \n",
    "            # vectorize the binary image, supplying the transform so it returns maps coords\n",
    "            for coords, value in shapes(is_valid, transform=f.transform):\n",
    "\n",
    "                # ignore polygons corresponding to nodata\n",
    "                if value != 0:\n",
    "                    # convert geojson to shapely geometry\n",
    "                    geom.append(shape(coords))\n",
    "                    bands.append(band)\n",
    "                    pixel_values.append(value)\n",
    "\n",
    "fid=[x for x in range(1, len(geom)+1)]\n",
    "zones_dict={'fid':fid, 'band':bands, 'pixel_value':pixel_values, 'geometry': geom}\n"
   ]
  },
  {
   "cell_type": "code",
   "execution_count": null,
   "metadata": {},
   "outputs": [],
   "source": [
    "extrem_zones=gpd.GeoDataFrame(zones_dict, crs='EPSG:3857')"
   ]
  },
  {
   "cell_type": "code",
   "execution_count": null,
   "metadata": {},
   "outputs": [],
   "source": [
    "roads_reproject=roads.to_crs(epsg=3857)\n",
    "\n",
    "misc_fct.test_crs(roads_reproject.crs, extrem_zones.crs)\n",
    "\n",
    "extrem_zones_on_roads=gpd.overlay(extrem_zones,roads_reproject[['OBJECTID', 'geometry']])"
   ]
  },
  {
   "cell_type": "code",
   "execution_count": null,
   "metadata": {},
   "outputs": [],
   "source": [
    "extrem_zones_on_roads.shape"
   ]
  },
  {
   "cell_type": "code",
   "execution_count": null,
   "metadata": {},
   "outputs": [],
   "source": [
    "extrem_zones_on_roads.drop_duplicates(subset=['fid'], inplace=True, ignore_index=True)\n",
    "\n",
    "extrem_zones_on_roads.to_file('/mnt/data-01/gsalamin/proj-roadsurf-b/02_Data/processed/shapefiles_gpkg/test_extrem_pixels.shp')"
   ]
  },
  {
   "cell_type": "code",
   "execution_count": null,
   "metadata": {},
   "outputs": [],
   "source": [
    "extrem_zones_on_roads.shape"
   ]
  },
  {
   "cell_type": "markdown",
   "metadata": {},
   "source": [
    "## Downloading tiles for the zones to check"
   ]
  },
  {
   "cell_type": "code",
   "execution_count": null,
   "metadata": {},
   "outputs": [],
   "source": [
    "with open('config.yaml') as fp:\n",
    "    cfg = yaml.load(fp, Loader=yaml.FullLoader)['generate_tilesets.py']\n",
    "\n",
    "OUTPUT_DIR = '/mnt/data-01/gsalamin/proj-roadsurf-b/02_Data/processed/images'\n",
    "\n",
    "ORTHO_WS_TYPE = cfg['datasets']['orthophotos_web_service']['type']\n",
    "ORTHO_WS_URL = cfg['datasets']['orthophotos_web_service']['url']\n",
    "ORTHO_WS_SRS = cfg['datasets']['orthophotos_web_service']['srs']\n",
    "if 'layers' in cfg['datasets']['orthophotos_web_service'].keys():\n",
    "    ORTHO_WS_LAYERS = cfg['datasets']['orthophotos_web_service']['layers']\n",
    "if 'parameters' in cfg['datasets']['orthophotos_web_service'].keys():\n",
    "    ORTHO_WS_PARAMETERS=cfg['datasets']['orthophotos_web_service']['parameters']\n",
    "else:\n",
    "    ORTHO_WS_PARAMETERS={}\n",
    "\n",
    "SAVE_METADATA = True\n",
    "OVERWRITE = cfg['overwrite']\n",
    "TILE_SIZE = cfg['tile_size']\n",
    "\n",
    "ALL_IMG_PATH = os.path.join(OUTPUT_DIR, f\"test\")\n",
    "if not os.path.exists(ALL_IMG_PATH):\n",
    "        os.makedirs(ALL_IMG_PATH)"
   ]
  },
  {
   "cell_type": "code",
   "execution_count": null,
   "metadata": {},
   "outputs": [],
   "source": [
    "tiles_info_reproj=tiles_info.to_crs(crs=3857)\n",
    "\n",
    "fct_misc.test_crs(tiles_info_reproj.crs, extrem_zones_on_roads.crs)\n",
    "\n",
    "tiles_info_on_zones=gpd.overlay(tiles_info_reproj, extrem_zones_on_roads[['fid','geometry']])"
   ]
  },
  {
   "cell_type": "code",
   "execution_count": null,
   "metadata": {},
   "outputs": [],
   "source": [
    "tiles_info_on_zones.drop_duplicates(subset=['id'], inplace=True, ignore_index=True)"
   ]
  },
  {
   "cell_type": "code",
   "execution_count": null,
   "metadata": {},
   "outputs": [],
   "source": [
    "job_dict = XYZ.get_job_dict(\n",
    "    tiles_gdf=tiles_info_on_zones.to_crs(ORTHO_WS_SRS), # <- note the reprojection\n",
    "    XYZ_url=ORTHO_WS_URL, \n",
    "    img_path=ALL_IMG_PATH, \n",
    "    save_metadata=SAVE_METADATA,\n",
    "    overwrite=OVERWRITE\n",
    ")\n",
    "\n",
    "image_getter = XYZ.get_geotiff"
   ]
  },
  {
   "cell_type": "code",
   "execution_count": null,
   "metadata": {},
   "outputs": [],
   "source": [
    "import warnings\n",
    "\n",
    "with warnings.catch_warnings(record=True):\n",
    "    N_JOBS=10\n",
    "    job_outcome = Parallel(n_jobs=N_JOBS, backend=\"loky\")(\n",
    "                delayed(image_getter)(**v) for k, v in tqdm( sorted(list(job_dict.items())) )\n",
    "        )\n",
    "\n",
    "    all_tiles_were_downloaded = True\n",
    "    for job in job_dict.keys():\n",
    "        if not os.path.isfile(job) or not os.path.isfile(job.replace('.tif', '.json')):\n",
    "            all_tiles_were_downloaded = False\n",
    "            print('Failed task: ', job)\n",
    "\n",
    "    if all_tiles_were_downloaded:\n",
    "        print(\"...done.\")\n",
    "    else:\n",
    "        print(\"Some tiles were not downloaded. Please try to run this script again.\")\n",
    "        sys.exit(1)"
   ]
  },
  {
   "cell_type": "markdown",
   "metadata": {},
   "source": [
    "# Testing the mask "
   ]
  },
  {
   "cell_type": "code",
   "execution_count": null,
   "metadata": {},
   "outputs": [],
   "source": [
    "from rasterio import features"
   ]
  },
  {
   "cell_type": "code",
   "execution_count": null,
   "metadata": {},
   "outputs": [],
   "source": [
    "def burn_mask(src_img_filename, dst_img_filename, polys):\n",
    "\n",
    "    with rasterio.open(src_img_filename) as src:\n",
    "\n",
    "        src_img = src.read(4)\n",
    "\n",
    "        if polys == []:\n",
    "            # TODO: check whether we should replace the following with mask = None\n",
    "            mask = src_img != -1 # -> everywhere\n",
    "        else:\n",
    "\n",
    "            mask = features.geometry_mask(polys, \n",
    "                                          out_shape=src.shape, \n",
    "                                          transform=src.transform,\n",
    "                                          all_touched=True)\n",
    "        shapes = features.shapes(src_img, \n",
    "                                 mask=mask, \n",
    "                                 transform=src.transform)\n",
    "        \n",
    "        profile = src.profile\n",
    "        profile.update(dtype=rasterio.uint8, count=1)\n",
    "        \n",
    "        image = features.rasterize(((g, 255) for g, v in shapes), \n",
    "                                   out_shape=src.shape, \n",
    "                                   transform=src.transform)\n",
    "    \n",
    "    with rasterio.open(dst_img_filename, 'w', **profile) as dst:\n",
    "        dst.write(image, indexes=1)\n",
    "    \n",
    "    return\n"
   ]
  },
  {
   "cell_type": "code",
   "execution_count": null,
   "metadata": {},
   "outputs": [],
   "source": [
    "if roads[roads.is_valid==False].shape[0]!=0:\n",
    "        print(f\"There are {roads[roads.is_valid==False].shape[0]} invalid geometries for the roads.\")\n",
    "        sys.exit(1)          \n",
    "\n",
    "simplified_roads=roads.drop(columns=['ERSTELLUNG', 'ERSTELLU_1', 'HERKUNFT', 'HERKUNFT_J', 'HERKUNFT_M',\n",
    "        'KUNSTBAUTE', 'WANDERWEGE', 'VERKEHRSBE', 'BEFAHRBARK', 'EROEFFNUNG', 'STUFE', 'RICHTUNGSG',\n",
    "        'KREISEL', 'EIGENTUEME', 'VERKEHRS_1', 'NAME', 'TLM_STRASS', 'STRASSENNA', 'SHAPE_Leng'])\n",
    "\n",
    "roads_reproj=simplified_roads.to_crs(epsg=3857)\n",
    "tiles_info_reproj=tiles_info.to_crs(epsg=3857)\n",
    "\n",
    "fp_list=[]\n",
    "name_list=[]\n",
    "for tile_idx in tiles_info_reproj['id'].values:\n",
    "        # Get the name of the tiles\n",
    "        x, y, z = tile_idx.lstrip('(,)').rstrip('(,)').split(',')\n",
    "        im_name = z.lstrip() + '_' + x + '_' + y.lstrip() + '.tif'\n",
    "        im_path = os.path.join(TILES_DIR, im_name)\n",
    "        fp_list.append(im_path)\n",
    "        name_list.append(im_name)\n",
    "\n",
    "tiles_info_reproj['filepath']=fp_list\n",
    "tiles_info_reproj['filename']=name_list\n",
    "\n",
    "fct_misc.test_crs(roads_reproj.crs, tiles_info_reproj.crs)\n",
    "\n",
    "if roads_reproj[roads_reproj.is_valid==False].shape[0]!=0:\n",
    "        print(f\"There are {roads_reproj[roads_reproj.is_valid==False].shape[0]} invalid geometries for the roads after the reprojection.\")\n",
    "\n",
    "print(\"Correction of the roads presenting an invalid geometry with a buffer of 0 m...\")\n",
    "corrected_roads=roads_reproj.copy()\n",
    "corrected_roads.loc[corrected_roads.is_valid==False,'geometry']=corrected_roads[corrected_roads.is_valid==False]['geometry'].buffer(0)\n"
   ]
  },
  {
   "cell_type": "code",
   "execution_count": null,
   "metadata": {},
   "outputs": [],
   "source": [
    "fct_misc.test_crs(corrected_roads.crs, tiles_info_reproj.crs)\n",
    "intersected_tiles=gpd.sjoin(tiles_info_reproj, corrected_roads[['OBJECTID', 'geometry']])\n",
    "intersected_tiles.drop_duplicates(subset=['id','OBJECTID'], inplace=True)\n",
    "\n",
    "try:\n",
    "    assert not corrected_roads['OBJECTID'].duplicated().any()\n",
    "except:\n",
    "    print('Some roads are separated on mulitple lines. They must be transformed to multipolygons or fused first.')\n",
    "    sys.exit(1)\n",
    "\n",
    "pixels_per_band=pd.DataFrame()"
   ]
  },
  {
   "cell_type": "code",
   "execution_count": null,
   "metadata": {},
   "outputs": [],
   "source": [
    "BANDS=range(1,5)"
   ]
  },
  {
   "cell_type": "markdown",
   "metadata": {},
   "source": [
    "17_68352_46260.tif  \n",
    "17_68373_46267.tif\n",
    "\n",
    "Depuis le tableau intersected tiles, choisir les routes qui correspondent à ces tuiles"
   ]
  },
  {
   "cell_type": "code",
   "execution_count": null,
   "metadata": {},
   "outputs": [],
   "source": [
    "# %%timeit\n",
    "\n",
    "pixels_per_band=pd.DataFrame()\n",
    "errors=pd.DataFrame(columns=['filename', 'band', 'datashape', 'nbr_of_pix'])\n",
    "it=0\n",
    "\n",
    "for road in corrected_roads.itertuples():\n",
    "\n",
    "    objectid=road.OBJECTID\n",
    "\n",
    "    # Get the corresponding tile(s)\n",
    "    intersected_tiles_with_road=intersected_tiles[intersected_tiles['OBJECTID'] == objectid].copy()\n",
    "    intersected_tiles_with_road.reset_index(drop=True, inplace=True)\n",
    "\n",
    "    if intersected_tiles_with_road.shape[0] == 0:\n",
    "        continue\n",
    "\n",
    "    # Get the pixels for each tile\n",
    "    for tile_filepath in intersected_tiles_with_road['filepath'].values:\n",
    "        pixel_values=pd.DataFrame()\n",
    "        \n",
    "        # extract the geometry in GeoJSON format\n",
    "        geoms = [mapping(road.geometry)]\n",
    "\n",
    "        # extract the raster values values within the polygon \n",
    "        with rasterio.open(tile_filepath) as src:\n",
    "            out_image, _ = mask(src, geoms, crop=True, filled=False)\n",
    "\n",
    "            # no data values of the original raster\n",
    "            no_data=src.nodata\n",
    "\n",
    "        dico={}\n",
    "        length_bands=[]\n",
    "        for band in BANDS:\n",
    "\n",
    "            # extract the values of the masked array\n",
    "            data = out_image[band-1]\n",
    "\n",
    "            # extract the the valid values\n",
    "            val = np.extract(~data.mask, data.data)\n",
    "\n",
    "            dico[f'band{band}']=val\n",
    "            length_bands.append(len(val))\n",
    "\n",
    "        dico.update({'road_id': objectid})\n",
    "\n",
    "        try:\n",
    "            pixels_from_tile = pd.DataFrame(dico)\n",
    "        except ValueError:\n",
    "            for band in BANDS:\n",
    "                data = out_image[band-1]\n",
    "\n",
    "                errors.loc[len(errors.index)]=[tile_filepath[-18:], band, data.data.shape, (~data.mask).sum()]\n",
    "\n",
    "            # pd.DataFrame(~data.mask).to_csv(f\"~/Downloads/{tile_filepath[-18:-4]}.csv\", index=False)\n",
    "            directory = \"/mnt/data-01/gsalamin/proj-roadsurf-b/02_Data/processed/images/test2\"\n",
    "            burn_mask(tile_filepath, os.path.join(directory, f\"{tile_filepath[-18:-4]}_{it}.tif\"), geoms)\n",
    "            it+=1\n",
    "            continue\n",
    "\n",
    "        pixel_values = pd.concat([pixel_values, pixels_from_tile],ignore_index=True)\n",
    "\n",
    "    pixels_per_band=pd.concat([pixels_per_band, pixel_values], ignore_index=True)"
   ]
  },
  {
   "cell_type": "code",
   "execution_count": null,
   "metadata": {},
   "outputs": [],
   "source": [
    "errors.to_csv('~/Downloads/uneven_pixels.csv', index=False)"
   ]
  },
  {
   "attachments": {},
   "cell_type": "markdown",
   "metadata": {},
   "source": [
    "# Produce attention mask from polygon and raster\n",
    "The idea is to produce an attention mask to use as the 4th or 5th band of a raster\n",
    "\n",
    "cf. https://lpsmlgeo.github.io/2019-09-22-binary_mask/\n",
    "cf. https://rasterio.readthedocs.io/en/latest/api/rasterio.features.html"
   ]
  },
  {
   "cell_type": "code",
   "execution_count": null,
   "metadata": {},
   "outputs": [],
   "source": [
    "def poly_from_utm(polygon, transform):\n",
    "    poly_pts = []\n",
    "    \n",
    "    for i in np.array(polygon.exterior.coords):\n",
    "        \n",
    "        # Convert polygons to the image CRS\n",
    "        poly_pts.append(~transform * tuple(i))\n",
    "        \n",
    "    # Generate a polygon object\n",
    "    new_poly = Polygon(poly_pts)\n",
    "    return new_poly"
   ]
  },
  {
   "cell_type": "code",
   "execution_count": null,
   "metadata": {},
   "outputs": [],
   "source": [
    "ROADS='/mnt/data-01/gsalamin/proj-roadsurf-b/02_Data/processed/shapefiles_gpkg/roads_MO_TLM.gpkg'\n",
    "ROADS_LAYER=\"sectionned_roads_by_surface\"\n",
    "TILES=\"/mnt/data-01/gsalamin/proj-roadsurf-b/02_Data/processed/json/tiles_aoi.geojson\"\n",
    "IMAGES_DIR=\"/mnt/data-01/gsalamin/proj-roadsurf-b/02_Data/processed/obj_detector/all-images\""
   ]
  },
  {
   "cell_type": "code",
   "execution_count": null,
   "metadata": {},
   "outputs": [],
   "source": [
    "roads=gpd.read_file(ROADS, layer=ROADS_LAYER)\n",
    "tiles=gpd.read_file(TILES)"
   ]
  },
  {
   "cell_type": "code",
   "execution_count": null,
   "metadata": {},
   "outputs": [],
   "source": [
    "print([tile.lstrip('(').rstrip(')').split(', ') for tile in tiles[0:3]['id']])"
   ]
  },
  {
   "cell_type": "code",
   "execution_count": null,
   "metadata": {},
   "outputs": [],
   "source": [
    "roads_union_geom=roads.unary_union\n",
    "roads_union=gpd.GeoDataFrame({'id_roadset': [i for i in range(len(roads_union_geom.geoms))],\n",
    "                            'geometry': [geo for geo in roads_union_geom.geoms]},\n",
    "                            crs=roads.crs\n",
    "                            )"
   ]
  },
  {
   "cell_type": "code",
   "execution_count": null,
   "metadata": {},
   "outputs": [],
   "source": [
    "fct_misc.test_crs(tiles.crs, roads_union.crs)\n",
    "inv_masks_tiles=gpd.overlay(tiles, roads_union, how=\"difference\")\n",
    "# inv_masks.to_file(os.path.join(shp_gpkg_folder, 'test_mask.shp'))"
   ]
  },
  {
   "cell_type": "code",
   "execution_count": null,
   "metadata": {},
   "outputs": [],
   "source": [
    "inv_masks_tiles_3857=inv_masks_tiles.to_crs(epsg=3857)\n",
    "\n",
    "# cf. https://lpsmlgeo.github.io/2019-09-22-binary_mask/\n",
    "for tile_row in inv_masks_tiles_3857[:1].itertuples():\n",
    "    tile_id=tile_row.id\n",
    "\n",
    "    # Get the tile filename\n",
    "    x, y, z = tile_id.lstrip('(').rstrip(')').split(', ')\n",
    "    filename=z+'_'+x+'_'+y+'.tif'\n",
    "\n",
    "    # Get the tile\n",
    "    with rasterio.open(os.path.join(IMAGES_DIR, filename), \"r\") as src:\n",
    "        tile_img = src.read()\n",
    "        tile_meta = src.meta\n",
    "    \n",
    "    # fct_misc.test_crs(tile_meta['crs'], inv_masks_tiles.crs)\n",
    "\n",
    "    im_size = (tile_meta['height'], tile_meta['width'])\n",
    "\n",
    "    inv_mask = rasterize(shapes=[poly_from_utm(geom, src.meta['transform']) for geom in tile_row.geometry.geoms],\n",
    "                    out_shape=im_size)\n",
    "                    \n",
    "    tile_mask = (1-inv_mask) * 255\n",
    "\n",
    "    tile_img_augmented=np.ndarray(shape=(5,256,256), dtype='uint8')\n",
    "    tile_img_augmented[0:4,:,:]=tile_img\n",
    "    tile_img_augmented[4,:,:]=tile_mask\n"
   ]
  },
  {
   "cell_type": "code",
   "execution_count": null,
   "metadata": {},
   "outputs": [],
   "source": [
    "mask_meta = src.meta.copy()\n",
    "mask_meta.update({'count': tile_img_augmented.shape[0]+1})\n",
    "with rasterio.open(os.path.join('/home/gsalamin/Downloads', 'test.tif'), 'w', **mask_meta) as dst:\n",
    "    dst.write(tile_img_augmented, [band for band in range(1,tile_img_augmented.shape[0]+1)])"
   ]
  },
  {
   "cell_type": "code",
   "execution_count": null,
   "metadata": {},
   "outputs": [],
   "source": [
    "[band for band in range(1,tile_img_augmented.shape[0]+1)]"
   ]
  },
  {
   "cell_type": "code",
   "execution_count": null,
   "metadata": {},
   "outputs": [],
   "source": [
    "tile_meta"
   ]
  },
  {
   "cell_type": "code",
   "execution_count": null,
   "metadata": {},
   "outputs": [],
   "source": [
    "plt.figure(figsize=(15,15))\n",
    "plt.imshow(tile_mask)"
   ]
  }
 ],
 "metadata": {
  "kernelspec": {
   "display_name": "Python 3.8.10 ('road_surfaces')",
   "language": "python",
   "name": "python3"
  },
  "language_info": {
   "codemirror_mode": {
    "name": "ipython",
    "version": 3
   },
   "file_extension": ".py",
   "mimetype": "text/x-python",
   "name": "python",
   "nbconvert_exporter": "python",
   "pygments_lexer": "ipython3",
   "version": "3.8.10 (default, Nov 14 2022, 12:59:47) \n[GCC 9.4.0]"
  },
  "orig_nbformat": 4,
  "vscode": {
   "interpreter": {
    "hash": "0d832f3481d940cc3bb935f7c66bfbdcf68066e3553491dd3c1b68c49468b7cc"
   }
  }
 },
 "nbformat": 4,
 "nbformat_minor": 2
}
