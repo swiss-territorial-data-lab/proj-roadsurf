{
 "cells": [
  {
   "cell_type": "code",
   "execution_count": null,
   "metadata": {},
   "outputs": [],
   "source": [
    "import argparse\n",
    "import yaml\n",
    "import os, sys\n",
    "import time\n",
    "import logging, logging.config\n",
    "\n",
    "import pandas as pd\n",
    "import geopandas as gpd\n",
    "import rasterio\n",
    "\n",
    "import stat\n",
    "import math\n",
    "\n",
    "from tqdm import tqdm\n",
    "\n",
    "from misc_fct import test_crs"
   ]
  },
  {
   "cell_type": "code",
   "execution_count": null,
   "metadata": {},
   "outputs": [],
   "source": [
    "with open('config.yaml') as fp:\n",
    "    cfg = yaml.load(fp, Loader=yaml.FullLoader)['statistical_analysis.py']    #  [os.path.basename(__file__)]\n",
    "\n",
    "\n",
    "# Defitions of the functions\n",
    "\n",
    "\n",
    "# Definition of the constants\n",
    "INPUT_FOLDER=cfg['input']['input_folder']\n",
    "PROCESSED=cfg['processed']\n",
    "PROCESSED_FOLDER=PROCESSED['processed_folder']\n",
    "FINAL=cfg['final']\n",
    "FINAL_FOLDER=FINAL['final_folder']\n",
    "\n",
    "# Inputs\n",
    "ROADS=PROCESSED_FOLDER + PROCESSED['input_files']['roads']\n",
    "TILES_DIR=PROCESSED_FOLDER + PROCESSED['input_files']['images']\n",
    "TILES_INFO=PROCESSED_FOLDER + PROCESSED['input_files']['tiles']\n",
    "\n",
    "# Outputs\n",
    "STATS_ROADS=PROCESSED_FOLDER + PROCESSED['output_files']['stats']\n",
    "STATS_TYPE=FINAL_FOLDER+ FINAL['stats_by_type']"
   ]
  },
  {
   "cell_type": "markdown",
   "metadata": {},
   "source": [
    "# Main\n",
    "\n",
    "## Import data"
   ]
  },
  {
   "cell_type": "code",
   "execution_count": null,
   "metadata": {},
   "outputs": [],
   "source": [
    "# Importation of the files\n",
    "roads=gpd.read_file(ROADS)\n",
    "tiles_info = gpd.read_file(TILES_INFO)"
   ]
  },
  {
   "cell_type": "code",
   "execution_count": null,
   "metadata": {},
   "outputs": [],
   "source": [
    "print(roads.columns)\n",
    "print(tiles_info.columns)\n",
    "roads.shape[0]\n"
   ]
  },
  {
   "cell_type": "markdown",
   "metadata": {},
   "source": [
    "## Data treatment"
   ]
  },
  {
   "cell_type": "code",
   "execution_count": null,
   "metadata": {},
   "outputs": [],
   "source": [
    "print(roads[roads.is_valid==False].shape[0])          # to_file(PROCESSED_FOLDER + '/shapefiles_gpkg/test_invalid_geom.shp')\n",
    "\n",
    "valid_roads=roads[roads.is_valid==True].drop(columns=['ERSTELLUNG', 'ERSTELLU_1', 'HERKUNFT', 'HERKUNFT_J', 'HERKUNFT_M','KUNSTBAUTE', 'WANDERWEGE',\n",
    "       'VERKEHRSBE', 'BEFAHRBARK', 'EROEFFNUNG', 'STUFE', 'RICHTUNGSG', 'KREISEL', 'EIGENTUEME', 'VERKEHRS_1', 'NAME', 'TLM_STRASS', 'STRASSENNA', \n",
    "       'SHAPE_Leng', 'Width'])\n",
    "\n",
    "## Trouver pourquoi certaines géométries ne sont plus valides après l'importation et corriger ça!\n",
    "\n"
   ]
  },
  {
   "cell_type": "code",
   "execution_count": null,
   "metadata": {},
   "outputs": [],
   "source": [
    "valid_roads.to_crs(epsg=3857, inplace=True)\n",
    "tiles_info.to_crs(epsg=3857, inplace=True)\n",
    "test_crs(valid_roads.crs, tiles_info.crs)\n",
    "\n",
    "print(valid_roads[valid_roads.is_valid==False].shape[0])\n",
    "\n",
    "clipped_roads = gpd.clip(valid_roads, tiles_info).explode()\n",
    "\n",
    "# clipped_roads=gpd.GeoDataFrame()\n",
    "# for idx in tqdm(tiles_info.index, desc='Clipping roads'):\n",
    "\n",
    "#     roads_to_tile = gpd.clip(roads_poly, tiles_info.loc[idx,'geometry']).explode()\n",
    "\n",
    "#     clipped_roads=pd.concat([clipped_roads,roads_to_tile], ignore_index=True)\n"
   ]
  },
  {
   "cell_type": "code",
   "execution_count": null,
   "metadata": {},
   "outputs": [],
   "source": []
  },
  {
   "cell_type": "markdown",
   "metadata": {},
   "source": [
    "### Calcul et analyse des statistiques de zone pour les routes"
   ]
  },
  {
   "cell_type": "code",
   "execution_count": null,
   "metadata": {},
   "outputs": [],
   "source": []
  },
  {
   "cell_type": "markdown",
   "metadata": {},
   "source": [
    "#### PCA"
   ]
  },
  {
   "cell_type": "code",
   "execution_count": null,
   "metadata": {},
   "outputs": [],
   "source": []
  },
  {
   "cell_type": "markdown",
   "metadata": {},
   "source": [
    "### Calcul et analyses des statistiques par types"
   ]
  },
  {
   "cell_type": "code",
   "execution_count": null,
   "metadata": {},
   "outputs": [],
   "source": []
  },
  {
   "cell_type": "markdown",
   "metadata": {},
   "source": [
    "#### Boxplots"
   ]
  },
  {
   "cell_type": "code",
   "execution_count": null,
   "metadata": {},
   "outputs": [],
   "source": []
  }
 ],
 "metadata": {
  "kernelspec": {
   "display_name": "Python 3.8.10 ('road_surfaces')",
   "language": "python",
   "name": "python3"
  },
  "language_info": {
   "codemirror_mode": {
    "name": "ipython",
    "version": 3
   },
   "file_extension": ".py",
   "mimetype": "text/x-python",
   "name": "python",
   "nbconvert_exporter": "python",
   "pygments_lexer": "ipython3",
   "version": "3.8.10"
  },
  "orig_nbformat": 4,
  "vscode": {
   "interpreter": {
    "hash": "0d832f3481d940cc3bb935f7c66bfbdcf68066e3553491dd3c1b68c49468b7cc"
   }
  }
 },
 "nbformat": 4,
 "nbformat_minor": 2
}
