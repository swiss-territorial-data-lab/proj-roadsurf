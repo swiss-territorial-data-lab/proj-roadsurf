{
 "cells": [
  {
   "cell_type": "code",
   "execution_count": null,
   "metadata": {},
   "outputs": [],
   "source": [
    "%load_ext autoreload\n",
    "%autoreload 2\n",
    "\n",
    "import argparse\n",
    "import yaml\n",
    "import os, sys\n",
    "import time\n",
    "import logging, logging.config\n",
    "\n",
    "import pandas as pd\n",
    "import geopandas as gpd\n",
    "import rasterio\n",
    "from rasterio.mask import mask\n",
    "from rasterstats import zonal_stats\n",
    "from shapely.geometry import mapping\n",
    "from scipy.stats import kstest\n",
    "\n",
    "import numpy as np\n",
    "import stat\n",
    "import math\n",
    "import matplotlib\n",
    "\n",
    "import matplotlib.pyplot as plt\n",
    "\n",
    "from tqdm import tqdm\n",
    "\n",
    "import fct_misc\n",
    "%aimport fct_statistics"
   ]
  },
  {
   "cell_type": "code",
   "execution_count": null,
   "metadata": {},
   "outputs": [],
   "source": [
    "with open('config.yaml') as fp:\n",
    "    cfg = yaml.load(fp, Loader=yaml.FullLoader)['statistical_analysis.py']    #  [os.path.basename(__file__)]\n",
    "\n",
    "\n",
    "# Defitions of the functions\n",
    "\n",
    "\n",
    "# Definition of the constants\n",
    "DEBUG_MODE=cfg['debug_mode']\n",
    "CORRECT_BALANCE=cfg['correct_balance']\n",
    "\n",
    "BANDS=range(1,5)\n",
    "MAX_CONFIDANCE_INT=cfg['param']['max_confidance']\n",
    "COUNT_THRESHOLD = cfg['param']['pixel_threshold']\n",
    "\n",
    "PROCESSED=cfg['processed']\n",
    "PROCESSED_FOLDER=PROCESSED['processed_folder']\n",
    "FINAL_FOLDER=cfg['final_folder']\n",
    "\n",
    "## Inputs\n",
    "ROADS=PROCESSED_FOLDER + PROCESSED['input_files']['roads']\n",
    "TILES_DIR=PROCESSED_FOLDER + PROCESSED['input_files']['images']\n",
    "TILES_INFO=PROCESSED_FOLDER + PROCESSED['input_files']['tiles']\n",
    "\n",
    "written_files=[]\n",
    "dirpath_f_tables=fct_misc.ensure_dir_exists(os.path.join(FINAL_FOLDER, 'tables'))\n",
    "dirpath_f_images=fct_misc.ensure_dir_exists(os.path.join(FINAL_FOLDER, 'images'))\n"
   ]
  },
  {
   "cell_type": "markdown",
   "metadata": {},
   "source": [
    "## Definition of functions"
   ]
  },
  {
   "cell_type": "code",
   "execution_count": null,
   "metadata": {},
   "outputs": [],
   "source": [
    "def im_of_hist_comp(band, roads, pixels_per_band, dirpath_f_images, prefix=''):\n",
    "    '''\n",
    "    Produce the comparison between the histogram of the pixels belonging to the road and all the pixels in its type of road cover.\n",
    "    Save an image\n",
    "\n",
    "    - band: band on which we are working\n",
    "    - roads: roads of interest as a dataframe\n",
    "    - pixels_per_band: dataframe with all the pixels\n",
    "    - dirpath_f_images: path of the directory to save the image\n",
    "    '''\n",
    "    written_files_fct=[]\n",
    "\n",
    "    for road_idx in roads.index:\n",
    "        objectid=roads.loc[road_idx, 'road_id']\n",
    "        cover=roads.loc[road_idx, 'road_type']\n",
    "        p_value=roads.loc[road_idx, f'ks_p_{band}']\n",
    "\n",
    "        road_pixels=pixels_per_band.loc[pixels_per_band['road_id'] == objectid, band]\n",
    "        all_pixels=pixels_per_band.loc[pixels_per_band['road_type'] == cover, band]\n",
    "\n",
    "        nbr_road_pixels=road_pixels.shape[0]\n",
    "\n",
    "        ks_graph=fs.compare_histograms(road_pixels, all_pixels,\n",
    "                                    label1='pixels of the road', label2=f'{cover} pixels',\n",
    "                                    graph_title=f'''Histogram of the distribution of the {nbr_road_pixels} pixels\n",
    "                                            on the {band} band (p-value: {p_value})''',\n",
    "                                    axis_label='density of the pixels')\n",
    "\n",
    "        ks_graph.savefig(os.path.join(dirpath_f_images, f'Hist_{prefix}{cover}_road_{int(objectid)}_band_{band}.jpeg'), bbox_inches='tight')\n",
    "\n",
    "        written_files_fct.append(f'final/images/Hist_{prefix}{cover}_road_{objectid}_band_{band}.jpeg')\n",
    "\n",
    "    plt.close('all')\n",
    "\n",
    "    return written_files_fct"
   ]
  },
  {
   "cell_type": "markdown",
   "metadata": {},
   "source": [
    "# Main\n",
    "\n",
    "## Import data"
   ]
  },
  {
   "cell_type": "code",
   "execution_count": null,
   "metadata": {},
   "outputs": [],
   "source": [
    "# Importation of the files\n",
    "roads=gpd.read_file(ROADS)\n",
    "tiles_info = gpd.read_file(TILES_INFO)"
   ]
  },
  {
   "cell_type": "code",
   "execution_count": null,
   "metadata": {},
   "outputs": [],
   "source": [
    "print(roads.columns)\n",
    "print(tiles_info.columns)\n",
    "roads.shape[0]\n"
   ]
  },
  {
   "cell_type": "markdown",
   "metadata": {},
   "source": [
    "## Data treatment"
   ]
  },
  {
   "cell_type": "code",
   "execution_count": null,
   "metadata": {},
   "outputs": [],
   "source": [
    "if DEBUG_MODE:\n",
    "    tiles_info=tiles_info[1:500]"
   ]
  },
  {
   "cell_type": "code",
   "execution_count": null,
   "metadata": {},
   "outputs": [],
   "source": [
    "if True:\n",
    "    unsure_roads=gpd.read_file(os.path.join(PROCESSED_FOLDER, 'shapefiles_gpkg/test_natural_roads.shp'))\n",
    "    id_unsure_roads=unsure_roads['OBJECTID'].values.tolist()\n",
    "\n",
    "    roads=roads[~roads['OBJECTID'].isin(id_unsure_roads)]\n",
    "\n",
    "    print(roads.shape[0])\n"
   ]
  },
  {
   "cell_type": "code",
   "execution_count": null,
   "metadata": {},
   "outputs": [],
   "source": [
    "if roads[roads.is_valid==False].shape[0]!=0:\n",
    "       print(f\"There are {roads[roads.is_valid==False].shape[0]} invalid geometries for the roads.\")\n",
    "       sys.exit(1)          \n",
    "\n",
    "simplified_roads=roads.drop(columns=['ERSTELLUNG', 'ERSTELLU_1', 'HERKUNFT', 'HERKUNFT_J', 'HERKUNFT_M','KUNSTBAUTE', 'WANDERWEGE',\n",
    "              'VERKEHRSBE', 'BEFAHRBARK', 'EROEFFNUNG', 'STUFE', 'RICHTUNGSG', 'KREISEL', 'EIGENTUEME', 'VERKEHRS_1', 'NAME',\n",
    "              'TLM_STRASS', 'STRASSENNA', 'SHAPE_Leng'])\n",
    "\n",
    "\n",
    "# to_file(PROCESSED_FOLDER + '/shapefiles_gpkg/test_invalid_geom.shp')"
   ]
  },
  {
   "cell_type": "code",
   "execution_count": null,
   "metadata": {},
   "outputs": [],
   "source": [
    "roads_reproj=simplified_roads.to_crs(epsg=3857)\n",
    "tiles_info_reproj=tiles_info.to_crs(epsg=3857)\n",
    "\n",
    "fp_list=[]\n",
    "for tile_idx in tiles_info_reproj.index:\n",
    "        # Get the name of the tiles\n",
    "        x, y, z = tiles_info_reproj.loc[tile_idx,'id'].lstrip('(,)').rstrip('(,)').split(',')\n",
    "        im_name = z.lstrip() + '_' + x + '_' + y.lstrip() + '.tif'\n",
    "        im_path = os.path.join(TILES_DIR, im_name)\n",
    "        fp_list.append(im_path)\n",
    "\n",
    "tiles_info_reproj['filepath']=fp_list\n",
    "\n",
    "fct_misc.test_crs(roads_reproj.crs, tiles_info_reproj.crs)\n"
   ]
  },
  {
   "cell_type": "code",
   "execution_count": null,
   "metadata": {},
   "outputs": [],
   "source": [
    "if roads_reproj[roads_reproj.is_valid==False].shape[0]!=0:\n",
    "       print(f\"There are {roads_reproj[roads_reproj.is_valid==False].shape[0]} invalid geometries for the road after the reprojection.\")\n",
    "\n",
    "       print(\"Correction of the roads presenting an invalid geometry with a buffer of 0 m...\")\n",
    "       corrected_roads=roads_reproj.copy()\n",
    "       corrected_roads.loc[corrected_roads.is_valid==False,'geometry']=corrected_roads[corrected_roads.is_valid==False]['geometry'].buffer(0)\n"
   ]
  },
  {
   "cell_type": "code",
   "execution_count": null,
   "metadata": {},
   "outputs": [],
   "source": [
    "clipped_roads=gpd.GeoDataFrame()\n",
    "for idx in tqdm(tiles_info_reproj.index, desc='Clipping roads'):\n",
    "\n",
    "    roads_to_tile = gpd.clip(corrected_roads, tiles_info_reproj.loc[idx,'geometry']).explode(index_parts=False)\n",
    "    roads_to_tile['tile']=tiles_info_reproj.loc[idx, 'title']\n",
    "\n",
    "    clipped_roads=pd.concat([clipped_roads, roads_to_tile], ignore_index=True)\n"
   ]
  },
  {
   "cell_type": "code",
   "execution_count": null,
   "metadata": {},
   "outputs": [],
   "source": [
    "print(corrected_roads.shape)\n",
    "print(clipped_roads.shape)\n",
    "print(tiles_info_reproj.head(5))\n"
   ]
  },
  {
   "cell_type": "code",
   "execution_count": null,
   "metadata": {},
   "outputs": [],
   "source": [
    "# dirpath=fct_misc.ensure_dir_exists(os.path.join(PROCESSED_FOLDER, 'shapefiles_gpkg'))\n",
    "\n",
    "# clipped_roads.to_file(os.path.join(dirpath, 'test_clipped_geom.shp')"
   ]
  },
  {
   "cell_type": "markdown",
   "metadata": {},
   "source": [
    "### Calcul des statistiques de zone pour les routes"
   ]
  },
  {
   "cell_type": "markdown",
   "metadata": {},
   "source": [
    "1. Avec rasterstats.zonal_stats"
   ]
  },
  {
   "cell_type": "markdown",
   "metadata": {},
   "source": [
    "Test"
   ]
  },
  {
   "cell_type": "code",
   "execution_count": null,
   "metadata": {},
   "outputs": [],
   "source": [
    "roads_on_tile=clipped_roads[clipped_roads['tile']==tiles_info_reproj.loc[1,'title']]\n",
    "\n",
    "x, y, z = tiles_info_reproj.loc[1,'id'].lstrip('(,)').rstrip('(,)').split(',')\n",
    "im_name = z.lstrip() + '_' + x + '_' + y.lstrip() + '.tif'\n",
    "im_path = os.path.join(TILES_DIR, im_name)\n",
    "\n",
    "test=zonal_stats(roads_on_tile.iloc[0:1], im_path, stats=['min', 'max', 'mean', 'median','std','count'], band=2)"
   ]
  },
  {
   "cell_type": "code",
   "execution_count": null,
   "metadata": {},
   "outputs": [],
   "source": [
    "test"
   ]
  },
  {
   "cell_type": "markdown",
   "metadata": {},
   "source": [
    "Implementation"
   ]
  },
  {
   "cell_type": "code",
   "execution_count": null,
   "metadata": {},
   "outputs": [],
   "source": [
    "roads_stats=pd.DataFrame()\n",
    "\n",
    "for tile_idx in tqdm(tiles_info_reproj.index, desc='Calculating zonal statistics'):\n",
    "\n",
    "    roads_on_tile=clipped_roads[clipped_roads['tile']==tiles_info_reproj.loc[tile_idx,'title']]\n",
    "\n",
    "    # Get the path of the tiles\n",
    "    im_path=tiles_info_reproj.loc[tile_idx,'filepath']\n",
    "\n",
    "    roads_on_tile.reset_index(drop=True, inplace=True)\n",
    "\n",
    "    # Calculation for each road on each band\n",
    "    for road_idx in roads_on_tile.index:\n",
    "\n",
    "        road=roads_on_tile.iloc[road_idx:road_idx+1]\n",
    "\n",
    "        if road.shape[0]>1:\n",
    "            print('More than one road is being tested.')\n",
    "            sys.exit(1)\n",
    "\n",
    "        for band_num in BANDS:\n",
    "\n",
    "            stats=zonal_stats(road, im_path, stats=['min', 'max', 'mean', 'median','std','count'], band=band_num, nodata=0)\n",
    "            stats_dict=stats[0]\n",
    "            stats_dict['band']=band_num\n",
    "            stats_dict['road_id']=road.loc[road_idx,'OBJECTID']\n",
    "            stats_dict['road_type']=road.loc[road_idx,'BELAGSART']\n",
    "            stats_dict['geometry']=road.loc[road_idx,'geometry']\n",
    "            stats_dict['tile_id']=tiles_info_reproj.loc[tile_idx,'id']\n",
    "\n",
    "            roads_stats = pd.concat([roads_stats, pd.DataFrame(stats_dict,index=[0])],ignore_index=True)\n",
    "\n",
    "roads_stats['mean']=roads_stats['mean'].round(1)\n",
    "roads_stats['std']=roads_stats['std'].round(1)\n"
   ]
  },
  {
   "cell_type": "code",
   "execution_count": null,
   "metadata": {},
   "outputs": [],
   "source": [
    "roads_stats[roads_stats['road_type']==200]\n"
   ]
  },
  {
   "cell_type": "markdown",
   "metadata": {},
   "source": [
    "2. Avec les statistiques des pixels"
   ]
  },
  {
   "cell_type": "code",
   "execution_count": null,
   "metadata": {},
   "outputs": [],
   "source": [
    "from shapely.geometry.multipolygon import MultiPolygon\n",
    "\n",
    "roads_stats={'band':[], 'road_id': [], 'road_type': [], 'road_width': [], 'geometry': [],\n",
    "                'min':[], 'max':[], 'mean':[], 'median':[], 'std':[], 'count':[], 'confidance': []}\n",
    "\n",
    "pixel_values=pd.DataFrame()\n",
    "for road_idx in tqdm(corrected_roads.index, desc='Extracting road statistics'):\n",
    "\n",
    "    # Get the characteristics of the road\n",
    "    objectid=corrected_roads.loc[road_idx, 'OBJECTID']\n",
    "    cover_type=corrected_roads.loc[road_idx, 'BELAGSART']\n",
    "    width=corrected_roads.loc[road_idx, 'road_width']\n",
    "    road=corrected_roads.loc[corrected_roads['OBJECTID'] == objectid,['OBJECTID', 'BELAGSART', 'geometry']]\n",
    "    road.reset_index(inplace=True, drop=True)\n",
    "    geometry = road.loc[0,'geometry'] if road.shape[0]==1 else MultiPolygon([road.loc[k,'geometry'] for k in road.index])\n",
    "\n",
    "    if objectid in roads_stats['road_id']:\n",
    "        continue\n",
    "    \n",
    "    # Get the corresponding tile(s)\n",
    "    fct_misc.test_crs(road.crs, tiles_info_reproj.crs)\n",
    "    intersected_tiles=gpd.overlay(tiles_info_reproj, road)\n",
    "\n",
    "    intersected_tiles.drop_duplicates(subset=['id'], inplace=True)\n",
    "    intersected_tiles.reset_index(drop=True, inplace=True)\n",
    "\n",
    "    pixel_values_road=pd.DataFrame()\n",
    "\n",
    "    # Get the pixels for each tile\n",
    "    for tile_idx in intersected_tiles.index:\n",
    "\n",
    "        # Get the name of the tiles\n",
    "        im_path = intersected_tiles.loc[tile_idx,'filepath']\n",
    "        \n",
    "        pixel_values_road, no_data = fct_misc.get_pixel_values(road, im_path, BANDS, pixel_values_road,\n",
    "                                                    road_id=objectid, road_type=cover_type, road_width=width)\n",
    "\n",
    "    if pixel_values_road.empty:\n",
    "        continue\n",
    "\n",
    "    pixel_values=pd.concat([pixel_values, pixel_values_road], ignore_index=True)\n",
    "\n",
    "    # Get the statistics for the road\n",
    "    for band in BANDS:\n",
    "        pixels_subset=pixel_values_road[pixel_values_road['band_num']==band]\n",
    "\n",
    "        roads_stats['band'].append(band)\n",
    "        roads_stats['road_id'].append(objectid)\n",
    "        roads_stats['road_type'].append(cover_type)\n",
    "        roads_stats['road_width'].append(width)\n",
    "        roads_stats['geometry'].append(geometry)\n",
    "\n",
    "        roads_stats=fct_statistics.get_df_stats(pixels_subset, 'pix_val', roads_stats)\n",
    "\n",
    "roads_stats['max']=[int(x) for x in roads_stats['max']]\n",
    "roads_stats['min']=[int(x) for x in roads_stats['min']]\n",
    "\n",
    "roads_stats=pd.DataFrame(roads_stats)"
   ]
  },
  {
   "cell_type": "code",
   "execution_count": null,
   "metadata": {},
   "outputs": [],
   "source": [
    "roads_stats['mean']=roads_stats['mean'].round(1)\n",
    "roads_stats['std']=roads_stats['std'].round(1)\n",
    "roads_stats['confidance']=roads_stats['confidance'].round(2)"
   ]
  },
  {
   "cell_type": "code",
   "execution_count": null,
   "metadata": {},
   "outputs": [],
   "source": [
    "pixel_values.head(3)"
   ]
  },
  {
   "cell_type": "markdown",
   "metadata": {},
   "source": [
    "Finish"
   ]
  },
  {
   "cell_type": "code",
   "execution_count": null,
   "metadata": {},
   "outputs": [],
   "source": [
    "roads_stats_gdf=gpd.GeoDataFrame(roads_stats)\n",
    "\n",
    "dirpath=fct_misc.ensure_dir_exists(os.path.join(PROCESSED_FOLDER, 'shapefiles_gpkg'))\n",
    "\n",
    "# roads_stats_gdf.to_file(os.path.join(dirpath, 'roads_stats.shp'))\n",
    "# written_files.append('processed/shapefiles_gpkg/roads_stats.shp')"
   ]
  },
  {
   "cell_type": "code",
   "execution_count": null,
   "metadata": {},
   "outputs": [],
   "source": [
    "roads_stats_df= roads_stats.drop(columns=['geometry'])\n",
    "\n",
    "print(roads_stats_df.tail(8))\n",
    "\n",
    "dirpath=fct_misc.ensure_dir_exists(os.path.join(PROCESSED_FOLDER,'tables'))\n",
    "\n",
    "\n",
    "roads_stats_df.to_csv(os.path.join(dirpath, 'stats_roads.csv'), index=False)\n",
    "written_files.append('processed/tables/road_stats.csv')"
   ]
  },
  {
   "cell_type": "code",
   "execution_count": null,
   "metadata": {},
   "outputs": [],
   "source": [
    "roads_stats_df.plot.hist(column=['count'], by='road_type', bins=50, title = 'Pixel count for each road')\n"
   ]
  },
  {
   "cell_type": "code",
   "execution_count": null,
   "metadata": {},
   "outputs": [],
   "source": [
    "roads_stats_filtered=roads_stats_df[(roads_stats_df['count'] > COUNT_THRESHOLD) \n",
    "                                    & (roads_stats_df['confidance'] < MAX_CONFIDANCE_INT)]\n",
    "\n",
    "print(f'{roads_stats_df.shape[0]-roads_stats_filtered.shape[0]} roads on {roads_stats_df.shape[0]}'+\n",
    "        f' were dropped because they contained less than {COUNT_THRESHOLD} pixels or their confidance'+\n",
    "        f' interval was higher than {MAX_CONFIDANCE_INT}.')"
   ]
  },
  {
   "cell_type": "markdown",
   "metadata": {},
   "source": [
    "### Calcul des statistiques par types"
   ]
  },
  {
   "cell_type": "code",
   "execution_count": null,
   "metadata": {},
   "outputs": [],
   "source": [
    "# Create a table with the values of pixels on a road\n",
    "# cf https://gis.stackexchange.com/questions/260304/extract-raster-values-within-shapefile-with-pygeoprocessing-or-gdal\n",
    "\n",
    "pixel_values=pd.DataFrame()\n",
    "\n",
    "for tile_idx in tqdm(tiles_info_reproj.index, desc='Getting pixel values'):\n",
    "\n",
    "    roads_on_tile=clipped_roads[clipped_roads['tile']==tiles_info_reproj.loc[tile_idx,'title']]\n",
    "    tile = tiles_info_reproj.loc[tile_idx,'filepath']\n",
    "\n",
    "    for cover_type in roads_on_tile['BELAGSART'].unique().tolist():\n",
    "\n",
    "        roads_by_cover=roads_on_tile[roads_on_tile['BELAGSART']==cover_type]\n",
    "\n",
    "        for road_idx in roads_by_cover['OBJECTID'].unique().tolist():\n",
    "\n",
    "                road=roads_by_cover[roads_by_cover['OBJECTID'] == road_idx].reset_index(drop=True)\n",
    "\n",
    "                width=road.loc[0, 'road_width']\n",
    "\n",
    "                pixel_values, no_data =fct_misc.get_pixel_values(road, tile, BANDS, pixel_values,\n",
    "                                                        road_type = cover_type, road_id = road_idx, road_width = width)\n",
    "\n"
   ]
  },
  {
   "cell_type": "code",
   "execution_count": null,
   "metadata": {},
   "outputs": [],
   "source": [
    "pixel_values.head(3)"
   ]
  },
  {
   "cell_type": "code",
   "execution_count": null,
   "metadata": {},
   "outputs": [],
   "source": [
    "### Create a new table with a column per band (just reformatting the table)\n",
    "pixels_per_band={'road_type':[], 'road_id':[], 'road_width': [], 'band1':[], 'band2':[], 'band3':[], 'band4':[]}\n",
    "\n",
    "for cover_type in pixel_values['road_type'].unique().tolist():\n",
    "\n",
    "    pixels_by_cover=pixel_values[pixel_values['road_type']==cover_type]\n",
    "\n",
    "    for road_idx in tqdm(pixels_by_cover['road_id'].unique().tolist(), desc=f'Reformatting table for road cover {cover_type}'):\n",
    "\n",
    "        for band in BANDS:\n",
    "\n",
    "            pixels_list=pixels_by_cover.loc[(pixels_by_cover['road_id']==road_idx) & (pixels_by_cover['band_num']==band),\n",
    "                ['pix_val']]['pix_val'].to_list()\n",
    "\n",
    "            pixels_per_band[f'band{band}'].extend(pixels_list)\n",
    "\n",
    "        # Following part to change. Probably, better handling of the no data would avoid this mistake\n",
    "        max_pixels=max(len(pixels_per_band['band1']), len(pixels_per_band['band2']), \n",
    "                        len(pixels_per_band['band3']), len(pixels_per_band['band4']))\n",
    "\n",
    "        for band in BANDS:\n",
    "            len_pixels_serie=len(pixels_per_band[f'band{band}'])\n",
    "\n",
    "            if len_pixels_serie!=max_pixels:\n",
    "\n",
    "                fill=[no_data]*max_pixels\n",
    "                pixels_per_band[f'band{band}'].extend(fill[len_pixels_serie:])\n",
    "\n",
    "                print(f'{max_pixels-len_pixels_serie} pixels was/were missing on the {band} band on the road' +\n",
    "                            f' {road_idx} (cover {cover_type}).' +\n",
    "                            f' There were replaced with the value used of no data ({no_data}).')\n",
    "\n",
    "        width=(pixels_by_cover.loc[pixels_by_cover['road_id'] == road_idx,'road_width']).values.tolist()[0]\n",
    "\n",
    "        pixels_per_band['road_id'].extend([road_idx]*(max_pixels-len(pixels_per_band['road_id'])))\n",
    "        pixels_per_band['road_width'].extend([width]*(max_pixels-len(pixels_per_band['road_width'])))\n",
    "\n",
    "\n",
    "    pixels_per_band['road_type'].extend([cover_type]*(len(pixels_per_band['road_id'])-len(pixels_per_band['road_type'])))\n",
    "\n",
    "pixels_per_band=pd.DataFrame(pixels_per_band)"
   ]
  },
  {
   "cell_type": "code",
   "execution_count": null,
   "metadata": {},
   "outputs": [],
   "source": [
    "### Get ratio between bands\n",
    "names={'1/2': 'R/G', '1/3': 'R/B', '1/4': 'R/NIR', '2/3': 'G/B', '2/4': 'G/NIR', '3/4': 'B/NIR'}\n",
    "bands_ratio=list(names.values())\n",
    "\n",
    "for band in BANDS:\n",
    "    for sec_band in range(band+1, max(BANDS)+1):\n",
    "        pixels_per_band[names[f'{band}/{sec_band}']] = pixels_per_band[f'band{band}']/pixels_per_band[f'band{sec_band}']"
   ]
  },
  {
   "cell_type": "code",
   "execution_count": null,
   "metadata": {},
   "outputs": [],
   "source": [
    "# Calculate the statistics of the pixel by band and by type of road cover\n",
    "\n",
    "cover_stats={'cover':[], 'band':[], 'min':[], 'max':[], 'mean':[], 'median':[], 'std':[], 'confidance': [],  'iq25':[], 'iq75':[], 'count':[]}\n",
    "\n",
    "for cover_type in pixel_values['road_type'].unique().tolist():\n",
    "\n",
    "    for band in BANDS:\n",
    "        pixels_subset=pixel_values[(pixel_values['band_num']==band) & (pixel_values['road_type']==cover_type)]\n",
    "\n",
    "        cover_stats['cover'].append(cover_type)\n",
    "        cover_stats['band'].append(band)\n",
    "\n",
    "        cover_stats=fct_statistics.get_df_stats(pixels_subset, 'pix_val', cover_stats)\n",
    "        cover_stats['iq25'].append(pixels_subset['pix_val'].quantile(.25))\n",
    "        cover_stats['iq75'].append(pixels_subset['pix_val'].quantile(.75))\n",
    "\n"
   ]
  },
  {
   "cell_type": "code",
   "execution_count": null,
   "metadata": {},
   "outputs": [],
   "source": [
    "cover_stats['max']=[int(x) for x in cover_stats['max']] # Otherwise, the values get transformed to x-256 when converted in dataframe\n",
    "\n",
    "cover_stats_df=pd.DataFrame(cover_stats)\n",
    "cover_stats_df['mean']=cover_stats_df['mean'].round(1)\n",
    "cover_stats_df['std']=cover_stats_df['std'].round(1)\n",
    "cover_stats_df['confidance']=cover_stats_df['confidance'].round(1)\n",
    "\n",
    "print(cover_stats_df)\n",
    "\n",
    "large_conf_int=cover_stats_df[cover_stats_df['confidance'] > MAX_CONFIDANCE_INT]\n",
    "if not large_conf_int.empty:\n",
    "    print(f'There are {large_conf_int.shape[0]} roads with a confidance interval larger than {MAX_CONFIDANCE_INT}')\n"
   ]
  },
  {
   "cell_type": "code",
   "execution_count": null,
   "metadata": {},
   "outputs": [],
   "source": [
    "dirpath=fct_misc.ensure_dir_exists(os.path.join(FINAL_FOLDER, 'tables') )\n",
    "\n",
    "cover_stats_df.to_csv(os.path.join(dirpath, 'statistics_roads_by_type.csv'), index=False)\n",
    "written_files.append('final/tables/statistics_roads_by_type.csv')\n"
   ]
  },
  {
   "cell_type": "code",
   "execution_count": null,
   "metadata": {},
   "outputs": [],
   "source": [
    "if CORRECT_BALANCE:\n",
    "    print('Taking only a subset of the artifical roads and pixels to have a balanced dataset.')\n",
    "\n",
    "    natural_pixels=pixels_per_band[pixels_per_band['road_type']==200]\n",
    "    natural_stats=roads_stats_filtered[roads_stats_filtered['road_type']==200]\n",
    "\n",
    "    artificial_pixels=pixels_per_band[pixels_per_band['road_type']==100].reset_index(drop=True)\n",
    "    artificial_stats=roads_stats_filtered[roads_stats_filtered['road_type']==100].reset_index(drop=True)\n",
    "\n",
    "    artificial_pixels_subset=artificial_pixels.sample(frac=natural_pixels.shape[0]/artificial_pixels.shape[0], random_state=1)\n",
    "    artificial_stats_subset=artificial_stats.sample(frac=natural_stats.shape[0]/artificial_stats.shape[0], random_state=9)\n",
    "\n",
    "    # print(artificial_stats['mean'].mean()-artificial_stats_subset['mean'].mean())\n",
    "    # print(artificial_stats['median'].mean()-artificial_stats_subset['median'].mean())\n",
    "    # print(artificial_stats['std'].mean()-artificial_stats_subset['std'].mean())\n",
    "    # print(artificial_stats['count'].mean()-artificial_stats_subset['count'].mean())\n",
    "\n",
    "    # print(artificial_stats['mean'].std()-artificial_stats_subset['mean'].std())\n",
    "    # print(artificial_stats['median'].std()-artificial_stats_subset['median'].std())\n",
    "    # print(artificial_stats['std'].std()-artificial_stats_subset['std'].std())\n",
    "    # print(artificial_stats['count'].std()-artificial_stats_subset['count'].std())\n",
    "\n",
    "    pixels_per_band=pd.concat([artificial_pixels_subset, natural_pixels], ignore_index=True)\n",
    "    roads_stats_filtered=pd.concat([artificial_stats_subset,natural_stats], ignore_index=True)\n",
    "\n",
    "    balance='_balanced'\n",
    "\n",
    "else:\n",
    "    balance=''"
   ]
  },
  {
   "cell_type": "code",
   "execution_count": null,
   "metadata": {},
   "outputs": [],
   "source": [
    "roads_stats_filtered"
   ]
  },
  {
   "cell_type": "markdown",
   "metadata": {},
   "source": [
    "Change the format to reader-friendly"
   ]
  },
  {
   "cell_type": "code",
   "execution_count": null,
   "metadata": {},
   "outputs": [],
   "source": [
    "## Change the format to reader-frienldy\n",
    "print('Converting the tables to reader-friendly...')\n",
    "\n",
    "BANDS_STR=['red','green','blue','NIR']\n",
    "road_stats_read=roads_stats_filtered.copy()\n",
    "pixels_per_band_read=pixels_per_band.copy()\n",
    "\n",
    "pixels_per_band_read.rename(columns={'band1': 'red', 'band2': 'green', 'band3': 'blue', 'band4': 'NIR'}, inplace=True)\n",
    "road_stats_read.loc[:, 'band']=roads_stats_filtered['band'].map({1: 'red', 2: 'green', 3: 'blue', 4: 'NIR'})\n",
    "\n",
    "pixels_per_band_read['road_type']=pixels_per_band['road_type'].map({100: 'artificial', 200: 'natural'})\n",
    "road_stats_read.loc[:, 'road_type']=roads_stats_filtered['road_type'].map({100: 'artificial', 200: 'natural'})"
   ]
  },
  {
   "cell_type": "code",
   "execution_count": null,
   "metadata": {},
   "outputs": [],
   "source": [
    "roads_stats_filtered=road_stats_read.copy()\n",
    "pixels_per_band=pixels_per_band_read.copy()"
   ]
  },
  {
   "cell_type": "markdown",
   "metadata": {},
   "source": [
    "### Boxplots"
   ]
  },
  {
   "cell_type": "code",
   "execution_count": null,
   "metadata": {},
   "outputs": [],
   "source": [
    "print('Calculating boxplots...')\n",
    "\n",
    "# The green bar in the boxplot is the median (cf. https://pandas.pydata.org/docs/reference/api/pandas.DataFrame.plot.box.html)"
   ]
  },
  {
   "cell_type": "markdown",
   "metadata": {},
   "source": [
    "Boxplot of the pixel values"
   ]
  },
  {
   "cell_type": "code",
   "execution_count": null,
   "metadata": {},
   "outputs": [],
   "source": [
    "bp_pixel_bands=pixels_per_band[BANDS_STR + ['road_type']].plot.box(by='road_type',\n",
    "                                    title=f'Repartition of the values for the pixels',\n",
    "                                    figsize=(15,8),\n",
    "                                    grid=True)\n",
    "fig = bp_pixel_bands[0].get_figure()\n",
    "\n",
    "fig.savefig(os.path.join(dirpath_f_images, f'boxplot_pixel_in_bands{balance}.jpg'), bbox_inches='tight')\n",
    "written_files.append(f'final/images/boxplot_pixel_in_bands{balance}.jpg')"
   ]
  },
  {
   "cell_type": "code",
   "execution_count": null,
   "metadata": {},
   "outputs": [],
   "source": [
    "bp_pixel_bands=pixels_per_band[bands_ratio  + ['road_type']].plot.box(by='road_type',\n",
    "                                        title=f'Repartition of the values for the pixels',\n",
    "                                        figsize=(10,8),\n",
    "                                        grid=True)\n",
    "fig = bp_pixel_bands[0].get_figure()\n",
    "fig.savefig(os.path.join(dirpath_f_images, f'{balance}boxplot_pixel_in_bands_ratio.jpg'), bbox_inches='tight')\n",
    "written_files.append(f'final/images/{balance}boxplot_pixel_in_bands_ratio.jpg')"
   ]
  },
  {
   "cell_type": "code",
   "execution_count": null,
   "metadata": {},
   "outputs": [],
   "source": [
    "# pixels_subset.plot.box(column='pix_val', by=['road_type','band_num'], figsize=(10,8))"
   ]
  },
  {
   "cell_type": "markdown",
   "metadata": {},
   "source": [
    "Boxplots of the statistics"
   ]
  },
  {
   "cell_type": "code",
   "execution_count": null,
   "metadata": {},
   "outputs": [],
   "source": [
    "for band in BANDS_STR:\n",
    "    roads_stats_subset=roads_stats_filtered[roads_stats_filtered['band']==band].drop(columns=['count', 'band', 'road_id'])\n",
    "    roads_stats_plot=roads_stats_subset.plot.box(by='road_type', figsize=(30,8), title=f'Boxplot of the statistics for the {band} band', grid=True)\n",
    "\n",
    "    # roads_stats_subset.boxplot(by='road_type', figsize=(30,8))\n",
    "\n",
    "    fig = roads_stats_plot[0].get_figure()\n",
    "    fig.savefig(os.path.join(dirpath_f_images, f'boxplot_stats_band_{band}.jpg'), bbox_inches='tight')\n",
    "    written_files.append(f'final/images/boxplot_stats_band_{band}.jpg')"
   ]
  },
  {
   "cell_type": "markdown",
   "metadata": {},
   "source": [
    "## Kolmogorov-Smirnov test\n",
    "Null-hypothesis (H_0): the two samples are drawn from the same distribution"
   ]
  },
  {
   "cell_type": "code",
   "execution_count": null,
   "metadata": {},
   "outputs": [],
   "source": [
    "for band in BANDS_STR:\n",
    "    ks=[]\n",
    "    for road_idx in tqdm(roads_stats_filtered.index, desc=f'Comparing road pixels to distribution on band {band}'):\n",
    "        objectid=roads_stats_filtered.loc[road_idx, 'road_id']\n",
    "        cover=roads_stats_filtered.loc[road_idx, 'road_type']\n",
    "\n",
    "        general_values=pixels_per_band.loc[pixels_per_band['road_type']==cover, [band, 'road_id']]\n",
    "\n",
    "        road_values=general_values.loc[general_values['road_id']==objectid, band]\n",
    "\n",
    "        ks.append(kstest(road_values, general_values.loc[:,band]))\n",
    "\n",
    "    ks_p_value=[float('{:0.3e}'.format(float(str(ks[k]).split(',')[1].lstrip(' pvalue=').rstrip(')')))) for k in range(len(ks))]\n",
    "    roads_stats_filtered[f\"ks_p_{band}\"]=ks_p_value\n",
    "\n",
    "    ks_d_value=[round(float(str(ks[k]).split(',')[0].lstrip('KstestResult(statistic=')),3) for k in range(len(ks))]\n",
    "    roads_stats_filtered[f\"ks_D_{band}\"]=ks_d_value"
   ]
  },
  {
   "cell_type": "code",
   "execution_count": null,
   "metadata": {},
   "outputs": [],
   "source": [
    "dir_histograms=fct_misc.ensure_dir_exists(os.path.join(dirpath_f_images, 'histograms'))\n",
    "\n",
    "for band in BANDS_STR:\n",
    "    \n",
    "    for cover in roads_stats_filtered['road_type'].unique().tolist():\n",
    "        ### Counting the results\n",
    "        all_roads=roads_stats_filtered[roads_stats_filtered[\"road_type\"] == cover][f\"ks_p_{band}\"].count()\n",
    "        significant_roads=roads_stats_filtered[(roads_stats_filtered[f\"ks_p_{band}\"] > 0.05) & \n",
    "                                            (roads_stats_filtered['road_type'] == cover)][f\"ks_p_{band}\"].count()\n",
    "        print(f'There are {significant_roads} on {all_roads} roads with a p-value higher than 0.05 on band {band} with a {cover} cover.')\n",
    "\n",
    "        ### Getting some example images\n",
    "        max_ks=roads_stats_filtered[f\"ks_p_{band}\"].max()\n",
    "        road_max_ks=roads_stats_filtered[(roads_stats_filtered[f\"ks_p_{band}\"] > max_ks-max_ks/100) &\n",
    "                                        (roads_stats_filtered['road_type'] == cover)].reset_index(drop=True).head(5)\n",
    "        written_files.extend(im_of_hist_comp(band, road_max_ks, pixels_per_band, dir_histograms, prefix='high_'))\n",
    "\n",
    "        min_ks=roads_stats_filtered[f\"ks_p_{band}\"].min()\n",
    "        road_min_ks=roads_stats_filtered[(roads_stats_filtered[f\"ks_p_{band}\"] <= min_ks+min_ks/100) & \n",
    "                                        (roads_stats_filtered['road_type'] == cover)].reset_index(drop=True).head(5)\n",
    "        written_files.extend(im_of_hist_comp(band, road_min_ks, pixels_per_band, dir_histograms, prefix='low_'))"
   ]
  },
  {
   "cell_type": "markdown",
   "metadata": {},
   "source": [
    "### PCA"
   ]
  },
  {
   "cell_type": "markdown",
   "metadata": {},
   "source": [
    "Do the parameters (bands and stats) successfully explain/distinguish the type of road cover?\n",
    " \n",
    "-> Are the clusters well defined?"
   ]
  },
  {
   "cell_type": "code",
   "execution_count": null,
   "metadata": {},
   "outputs": [],
   "source": [
    "from sklearn.preprocessing import StandardScaler\n",
    "from sklearn.decomposition import PCA\n",
    "\n",
    "import matplotlib.colors as mcolors\n",
    "import matplotlib.pyplot as plt\n",
    "import plotly.express as px\n",
    "\n",
    "# cf. https://towardsdatascience.com/pca-using-python-scikit-learn-e653f8989e60\n",
    "print('Calculating PCAs...')\n"
   ]
  },
  {
   "cell_type": "code",
   "execution_count": null,
   "metadata": {},
   "outputs": [],
   "source": [
    "print(pixels_per_band.head(5))"
   ]
  },
  {
   "cell_type": "markdown",
   "metadata": {},
   "source": [
    "#### PCA of the pixel values\n"
   ]
  },
  {
   "cell_type": "code",
   "execution_count": null,
   "metadata": {},
   "outputs": [],
   "source": [
    "pixel_values"
   ]
  },
  {
   "cell_type": "code",
   "execution_count": null,
   "metadata": {},
   "outputs": [],
   "source": [
    "# Test with function\n",
    "\n",
    "features = BANDS_STR + bands_ratio + ['road_width']\n",
    "to_describe='road_type'\n",
    "\n",
    "written_files_pca_pixels=fct_statistics.calculate_pca(pixels_per_band, features, to_describe,\n",
    "                                                            dirpath_f_tables, dirpath_f_images, \n",
    "                                                            file_prefix=f'{balance}PCA_pixels_',\n",
    "                                                            title_graph='PCA for the values of the pixels on each band')\n",
    "\n",
    "print(written_files_pca_pixels)\n",
    "\n",
    "written_files.extend(written_files_pca_pixels)\n",
    "#### PCA of the road stats"
   ]
  },
  {
   "cell_type": "markdown",
   "metadata": {},
   "source": [
    "#### PCA of the road stats"
   ]
  },
  {
   "cell_type": "code",
   "execution_count": null,
   "metadata": {},
   "outputs": [],
   "source": [
    "for band in tqdm(BANDS_STR, desc='Processing bands'):\n",
    "    roads_stats_filtered_subset=roads_stats_filtered[roads_stats_filtered['band']==band]\n",
    "\n",
    "    roads_stats_filtered_subset.reset_index(drop=True, inplace=True)\n",
    "    features = ['min', 'max', 'mean', 'std', 'median', 'road_width']\n",
    "\n",
    "    to_describe='road_type'\n",
    "\n",
    "    written_files_pca_stats=fct_statistics.calculate_pca(roads_stats_filtered_subset, features, to_describe,\n",
    "                dirpath_f_tables, dirpath_f_images, \n",
    "                file_prefix=f'{balance}PCA_stats_band_{band}_',\n",
    "                title_graph=f'PCA of the statistics of the roads on the {band} band')\n",
    "\n",
    "    written_files.extend(written_files_pca_stats)\n"
   ]
  },
  {
   "cell_type": "code",
   "execution_count": null,
   "metadata": {},
   "outputs": [],
   "source": [
    "print(f'Checkout the written files: {written_files}')\n"
   ]
  },
  {
   "cell_type": "code",
   "execution_count": null,
   "metadata": {},
   "outputs": [],
   "source": [
    "rng = np.random.default_rng()\n",
    "\n",
    "test=rng.random(100)\n",
    "\n",
    "kstest(test,test)"
   ]
  },
  {
   "cell_type": "code",
   "execution_count": null,
   "metadata": {},
   "outputs": [],
   "source": []
  }
 ],
 "metadata": {
  "kernelspec": {
   "display_name": "Python 3 (ipykernel)",
   "language": "python",
   "name": "python3"
  },
  "language_info": {
   "codemirror_mode": {
    "name": "ipython",
    "version": 3
   },
   "file_extension": ".py",
   "mimetype": "text/x-python",
   "name": "python",
   "nbconvert_exporter": "python",
   "pygments_lexer": "ipython3",
   "version": "3.8.10"
  },
  "vscode": {
   "interpreter": {
    "hash": "0d832f3481d940cc3bb935f7c66bfbdcf68066e3553491dd3c1b68c49468b7cc"
   }
  }
 },
 "nbformat": 4,
 "nbformat_minor": 2
}
