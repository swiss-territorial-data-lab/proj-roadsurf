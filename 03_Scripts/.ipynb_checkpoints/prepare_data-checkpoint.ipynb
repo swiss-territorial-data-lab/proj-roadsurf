{
 "cells": [
  {
   "cell_type": "markdown",
   "id": "331039d5",
   "metadata": {},
   "source": [
    "# Import modules"
   ]
  },
  {
   "cell_type": "code",
   "execution_count": 1,
   "id": "8f841b81",
   "metadata": {},
   "outputs": [],
   "source": [
    "from ntpath import join\n",
    "import geopandas as gpd\n",
    "import pandas as pd\n",
    "from itertools import combinations\n",
    "import math\n",
    "import os, sys\n",
    "import argparse\n",
    "import yaml\n",
    "\n",
    "os.chdir('..')"
   ]
  },
  {
   "cell_type": "code",
   "execution_count": 4,
   "id": "0a700646",
   "metadata": {},
   "outputs": [],
   "source": [
    "with open('03_Scripts/config.yaml') as fp:\n",
    "    cfg = yaml.load(fp, Loader=yaml.FullLoader)['prepare_data.py']    #  [os.path.basename(__file__)]\n",
    "\n",
    "\n",
    "# Task to do\n",
    "DETERMINE_ROAD_SURFACES = cfg['tasks']['determine_roads_surfaces']\n",
    "DETERMINE_RESTRICTED_AOI = cfg['tasks']['determine_restricted_AOI']\n",
    "MAKE_RASTER_MOSAIC = cfg['tasks']['make_raster_mosaic']\n",
    "DOWNLOAD_TILES=cfg['tasks']['determine_tiles']\n",
    "\n",
    "if not DETERMINE_ROAD_SURFACES and not DETERMINE_RESTRICTED_AOI and not MAKE_RASTER_MOSAIC and not DOWNLOAD_TILES:\n",
    "    print('Nothing to do. Exiting!')\n",
    "    sys.exit(0)\n",
    "else:\n",
    "\n",
    "    INPUT = cfg['input']\n",
    "    INPUT_DIR =INPUT['input_folder']\n",
    "\n",
    "    ROADS_IN = INPUT_DIR + INPUT['input_files']['roads']\n",
    "    ROADS_PARAM = INPUT_DIR + INPUT['input_files']['roads_param']\n",
    "    FORESTS = INPUT_DIR + INPUT['input_files']['forests']\n",
    "    TILES_SWISSIMAGES = INPUT['input_files']['tiles_swissimages10']\n",
    "\n",
    "    OUTPUT = cfg['output']\n",
    "    OUTPUT_DIR = OUTPUT['output_folder']\n",
    "\n",
    "    if DETERMINE_ROAD_SURFACES:\n",
    "        ROADS_OUT = OUTPUT_DIR +  OUTPUT['output_files']['roads']\n",
    "\n",
    "    if DETERMINE_RESTRICTED_AOI:\n",
    "        RESTRICTED_AOI = OUTPUT_DIR +  OUTPUT['output_files']['restricted_AOI']\n",
    "    \n",
    "    if DOWNLOAD_TILES:\n",
    "        TILES_AOI = OUTPUT_DIR + OUTPUT['output_files']['tiles_aoi']\n",
    "\n"
   ]
  },
  {
   "cell_type": "markdown",
   "id": "c8cc6867",
   "metadata": {},
   "source": [
    "# Define functions"
   ]
  },
  {
   "cell_type": "code",
   "execution_count": 5,
   "id": "30240799",
   "metadata": {},
   "outputs": [],
   "source": [
    "def polygons_diff_without_artifacts(polygons, p1_idx, p2_idx):\n",
    "    # Make the difference of the geometry at row p2_idx with the one at the row p1_idx\n",
    "    \n",
    "    # Store intermediary results back to poly\n",
    "    diff=polygons.loc[p2_idx,'geometry']-polygons.loc[p1_idx,'geometry']\n",
    "\n",
    "    if diff.geom_type == 'Polygon':\n",
    "        polygons.loc[p2_idx,'geometry'] -= polygons.loc[p1_idx,'geometry']\n",
    "\n",
    "    elif diff.geom_type == 'MultiPolygon':\n",
    "        # if a multipolygone is created, only keep the largest part to avoid the following error: https://github.com/geopandas/geopandas/issues/992\n",
    "        polygons.loc[p2_idx,'geometry'] = max((polygons.loc[p2_idx,'geometry']-polygons.loc[p1_idx,'geometry']).geoms, key=lambda a: a.area)\n",
    "\n",
    "    return polygons\n",
    "\n",
    "def test_crs(crs1,crs2 = \"EPSG:2056\"):\n",
    "    try:\n",
    "        assert(crs1 == crs2), \"CRS mismatch between the roads file and the forests file.\"\n",
    "    except Exception as e:\n",
    "        print(e)\n",
    "        sys.exit(1)"
   ]
  },
  {
   "cell_type": "markdown",
   "id": "a61998e5",
   "metadata": {},
   "source": [
    "# Main\n",
    "## Import files"
   ]
  },
  {
   "cell_type": "code",
   "execution_count": 6,
   "id": "c3b699bb",
   "metadata": {},
   "outputs": [
    {
     "name": "stdout",
     "output_type": "stream",
     "text": [
      "Importing files...\n",
      "Importations done!\n"
     ]
    }
   ],
   "source": [
    "# Import files ------------------------------------------------------------------------------------------\n",
    "print('Importing files...')\n",
    "## Data\n",
    "roads=gpd.read_file(ROADS_IN)\n",
    "forests=gpd.read_file(FORESTS)\n",
    "tiles_swissimages=gpd.read_file(TILES_SWISSIMAGES)\n",
    "\n",
    "## Other informations\n",
    "roads_parameters=pd.read_excel(ROADS_PARAM)\n",
    "\n",
    "print('Importations done!')"
   ]
  },
  {
   "cell_type": "markdown",
   "id": "48d3195f",
   "metadata": {},
   "source": [
    "## Information treatment\n",
    "\n",
    "### Filter the roads to work on"
   ]
  },
  {
   "cell_type": "code",
   "execution_count": 7,
   "id": "14cf5408",
   "metadata": {},
   "outputs": [],
   "source": [
    "# Supress non-roads elements\n",
    "roads_parameters=roads_parameters[roads_parameters['to keep']=='yes']\n",
    "roads_parameters.drop_duplicates(subset='GDB-Code',inplace=True)       # Keep first by default \n",
    "\n",
    "joined_roads=roads.merge(roads_parameters[['GDB-Code','Width']], how='right',left_on='OBJEKTART',right_on='GDB-Code')"
   ]
  },
  {
   "cell_type": "markdown",
   "id": "5c791641",
   "metadata": {},
   "source": [
    "### Buffer the roads"
   ]
  },
  {
   "cell_type": "code",
   "execution_count": null,
   "id": "0183d70b",
   "metadata": {},
   "outputs": [],
   "source": [
    "# Buffer the roads\n",
    "buffered_roads=joined_roads.copy()\n",
    "buffered_roads['buffered_geom']=buffered_roads.buffer(joined_roads['Width'], cap_style=2)\n"
   ]
  },
  {
   "cell_type": "code",
   "execution_count": null,
   "id": "65a24610",
   "metadata": {},
   "outputs": [],
   "source": [
    "buffered_roads.drop(columns=['geometry'],inplace=True)\n",
    "buffered_roads.rename(columns={'buffered_geom':'geometry'},inplace=True)"
   ]
  },
  {
   "cell_type": "code",
   "execution_count": null,
   "id": "25efc1e2",
   "metadata": {
    "scrolled": true
   },
   "outputs": [],
   "source": [
    "## Do not let roundabouts make artifacts\n",
    "for idx in buffered_roads.index:\n",
    "    geom=buffered_roads.loc[idx,'geometry']\n",
    "    if geom.geom_type == 'MultiPolygon':\n",
    "        buffered_roads.loc[idx,'geometry'] = max(buffered_roads.loc[idx,'geometry'].geoms, key=lambda a: a.area)\n",
    "        print(f'ID: {buffered_roads.loc[idx,\"OBJECTID\"]}')"
   ]
  },
  {
   "cell_type": "markdown",
   "id": "1f1e5c97",
   "metadata": {},
   "source": [
    "### Erease overlapping zones of polygons"
   ]
  },
  {
   "cell_type": "code",
   "execution_count": null,
   "id": "8a6f4692",
   "metadata": {},
   "outputs": [],
   "source": [
    "## Get the features that intersect with a different class of roads\n",
    "intersections=gpd.overlay(buffered_roads[['OBJECTID','geometry','OBJEKTART']],buffered_roads,how='intersection')"
   ]
  },
  {
   "cell_type": "code",
   "execution_count": null,
   "id": "ec430b16",
   "metadata": {},
   "outputs": [],
   "source": [
    "intersect_others_dupli=intersections[intersections['OBJECTID_1']!=intersections['OBJECTID_2']].copy()\n",
    "road_diff_width=intersect_others_dupli[intersect_others_dupli['OBJEKTART_1']!=intersect_others_dupli['OBJEKTART_2']].copy()\n",
    "intersect_others=road_diff_width.drop_duplicates(subset=['OBJECTID_1'])\n"
   ]
  },
  {
   "cell_type": "code",
   "execution_count": null,
   "id": "3b5d5083",
   "metadata": {},
   "outputs": [],
   "source": [
    "id_to_test=intersect_others['OBJECTID_1'].tolist()"
   ]
  },
  {
   "cell_type": "code",
   "execution_count": null,
   "id": "83f31e9f",
   "metadata": {},
   "outputs": [],
   "source": [
    "## Sort the dataframe by road size\n",
    "buffered_roads.loc[buffered_roads['OBJEKTART']==20,'OBJEKTART']=8\n",
    "buffered_roads.sort_values(by=['OBJEKTART'],inplace=True)\n",
    "buffered_roads.loc[buffered_roads['OBJEKTART']==8,'OBJEKTART']=20\n"
   ]
  },
  {
   "cell_type": "code",
   "execution_count": null,
   "id": "6fd35b67",
   "metadata": {},
   "outputs": [],
   "source": [
    "## Remove th intersection between roads of different classes\n",
    "poly=buffered_roads.loc[buffered_roads['OBJECTID'].isin(id_to_test),['OBJECTID','geometry','OBJEKTART']].copy()"
   ]
  },
  {
   "cell_type": "code",
   "execution_count": null,
   "id": "4e9cb301",
   "metadata": {},
   "outputs": [],
   "source": [
    "### from https://stackoverflow.com/questions/71738629/expand-polygons-in-geopandas-so-that-they-do-not-overlap-each-other\n",
    "iteration=0\n",
    "nbr_tot_iter=math.comb(poly.shape[0],2)\n",
    "for p1_idx, p2_idx in combinations(poly.index,2):\n",
    "    \n",
    "    if poly.loc[p1_idx,'geometry'].intersects(poly.loc[p2_idx,'geometry']) and poly.at[p1_idx,'OBJEKTART']!=poly.at[p2_idx,'OBJEKTART']:\n",
    "        \n",
    "        poly=polygons_diff_without_artifacts(poly,p1_idx,p2_idx)\n",
    "        \n",
    "    iteration += 1\n",
    "    if iteration%1000000==0:\n",
    "        percentage=iteration/nbr_tot_iter*100\n",
    "        print(f'{round(percentage)}% done')\n",
    "\n",
    "print('100% done!')\n",
    "\n",
    "poly.rename(columns={'geometry':'geometry_cropped'}, inplace=True)\n",
    "corr_overlap1=buffered_roads.merge(poly,how='left',on='OBJECTID',suffixes=('_org','_cropped'))\n"
   ]
  },
  {
   "cell_type": "code",
   "execution_count": null,
   "id": "e6448926",
   "metadata": {},
   "outputs": [],
   "source": [
    "### Change the corrected geometry\n",
    "geom=[]\n",
    "for idx in corr_overlap1.index:\n",
    "    \n",
    "    if not pd.isnull(corr_overlap1.at[idx,'geometry_cropped']):\n",
    "        geom.append(corr_overlap1.at[idx,'geometry_cropped'])\n",
    "    else:\n",
    "        geom.append(corr_overlap1.at[idx,'geometry'])\n",
    "\n",
    "corr_overlap1.drop(columns={'geometry'},inplace=True)\n",
    "corr_overlap1['geometry']=geom\n",
    "corr_overlap1.set_crs(buffered_roads.crs,inplace=True)\n",
    "corr_overlap1.drop(columns=['OBJEKTART_cropped','geometry_cropped'],inplace=True)"
   ]
  },
  {
   "cell_type": "code",
   "execution_count": null,
   "id": "a0c9f8bb",
   "metadata": {
    "scrolled": true
   },
   "outputs": [],
   "source": [
    "## Remove overlapping area between roads of the same class\n",
    "road_same_width=intersect_others_dupli[intersect_others_dupli['OBJEKTART_1']==intersect_others_dupli['OBJEKTART_2']].copy()\n",
    "intersect_others=road_same_width.drop_duplicates(subset=['OBJECTID_1'])\n",
    "\n",
    "df=corr_overlap1.rename(columns={'OBJEKTART_org':'OBJEKTART'},errors='raise')\n",
    "id_to_test=intersect_others['OBJECTID_1'].tolist()\n",
    "poly=df.loc[df['OBJECTID'].isin(id_to_test),['OBJECTID','geometry','OBJEKTART']].copy()\n",
    "\n",
    "### from https://stackoverflow.com/questions/71738629/expand-polygons-in-geopandas-so-that-they-do-not-overlap-each-other\n",
    "iteration=0\n",
    "nbr_iter_tot=math.comb(poly.shape[0],2)\n",
    "for p1_idx, p2_idx in combinations(poly.index,2):\n",
    "    \n",
    "    if poly.loc[p1_idx,'geometry'].intersects(poly.loc[p2_idx,'geometry']) and poly.at[p1_idx,'OBJEKTART']==poly.at[p2_idx,'OBJEKTART']:\n",
    "        \n",
    "        # Store intermediary results back to poly\n",
    "        diff2=poly.loc[p2_idx,'geometry']-poly.loc[p1_idx,'geometry']\n",
    "        if diff2.geom_type == 'Polygon':\n",
    "            temp= poly.loc[p2_idx,'geometry']-poly.loc[p1_idx,'geometry']\n",
    "        elif diff2.geom_type == 'MultiPolygon':\n",
    "            # if a multipolygone is created, only keep the largest part to avoid the following error: https://github.com/geopandas/geopandas/issues/992\n",
    "            temp = max((poly.loc[p2_idx,'geometry']-poly.loc[p1_idx,'geometry']).geoms, key=lambda a: a.area)\n",
    "            \n",
    "        poly=polygons_diff_without_artifacts(poly,p2_idx,p1_idx)\n",
    "    \n",
    "        poly.loc[p2_idx,'geometry']=temp\n",
    "        \n",
    "    iteration += 1\n",
    "    if iteration%1000000==0:\n",
    "        percentage=iteration/nbr_iter_tot*100\n",
    "        print(f'{round(percentage,1)}% done')\n",
    "\n",
    "print('100 % done!')        \n",
    "        \n",
    "poly.rename(columns={'geometry':'geometry_cropped'}, inplace=True)\n",
    "corr_overlap2=df.merge(poly,how='left',on='OBJECTID',suffixes=('_org','_cropped'))\n",
    "\n",
    "### Change the corrected geometry\n",
    "geom=[]\n",
    "for idx in corr_overlap2.index:\n",
    "    if not pd.isnull(corr_overlap2.at[idx,'geometry_cropped']):\n",
    "        geom.append(corr_overlap2.at[idx,'geometry_cropped'])\n",
    "    else:\n",
    "        geom.append(corr_overlap2.at[idx,'geometry'])\n",
    "\n",
    "corr_overlap2.drop(columns={'geometry'},inplace=True)\n",
    "corr_overlap2['geometry']=geom\n",
    "corr_overlap2.set_crs(buffered_roads.crs,inplace=True)\n",
    "corr_overlap2.drop(columns=['OBJEKTART_cropped','geometry_cropped'],inplace=True)"
   ]
  },
  {
   "cell_type": "code",
   "execution_count": null,
   "id": "99c40eb1",
   "metadata": {},
   "outputs": [],
   "source": [
    "'''test=corr_overlap1.rename(columns={'OBJEKTART_org':'OBJEKTART'},errors='raise')\n",
    "test['saved_geom']=test.geometry\n",
    "\n",
    "joined_test=gpd.sjoin(test,test[['OBJECTID','saved_geom','geometry']],how='left', lsuffix='1', rsuffix='2')\n",
    "intersected=joined_test[joined_test['OBJECTID_1']!=joined_test['OBJECTID_2']].copy()\n",
    "intersected_no_dupl=intersected.drop_duplicates(subset=['OBJECTID_1','OBJECTID_2'])\n",
    "print(intersected_no_dupl.shape)\n",
    "\n",
    "intersected_no_dupl['new_geom']=intersected_no_dupl['geometry'].difference(intersected_no_dupl['saved_geom_2'])\n",
    "intersected_no_dupl.drop(columns={'geometry'},inplace=True)\n",
    "intersected_no_dupl['geometry']=intersected_no_dupl['new_geom']\n",
    "\n",
    "intersected_no_dupl.drop(columns={'new_geom','saved_geom_1','index_2','OBJECTID_2','saved_geom_2'},inplace=True)'''"
   ]
  },
  {
   "cell_type": "code",
   "execution_count": null,
   "id": "b2562d46",
   "metadata": {
    "scrolled": false
   },
   "outputs": [],
   "source": [
    "corr_overlap2.to_file(\"02_Data/processed/shapefiles/test_buffer2.shp\")"
   ]
  },
  {
   "cell_type": "markdown",
   "id": "dc8bd5de",
   "metadata": {},
   "source": [
    "### Make the difference with the forested area"
   ]
  },
  {
   "cell_type": "code",
   "execution_count": null,
   "id": "a577fe35",
   "metadata": {},
   "outputs": [],
   "source": [
    "# Do not consider the roads under forest canopy\n",
    "test_crs(corr_overlap2.crs, forests.crs)"
   ]
  },
  {
   "cell_type": "code",
   "execution_count": null,
   "id": "0024c7d0",
   "metadata": {},
   "outputs": [],
   "source": [
    "non_forest_roads=corr_overlap2.copy()\n",
    "non_forest_roads=non_forest_roads.overlay(forests[['UUID','geometry']],how='difference')"
   ]
  },
  {
   "cell_type": "code",
   "execution_count": null,
   "id": "cf3a8993",
   "metadata": {},
   "outputs": [],
   "source": []
  },
  {
   "cell_type": "markdown",
   "id": "407b6e1c",
   "metadata": {},
   "source": [
    "# Make a vector of the zones to keep on the pictures"
   ]
  },
  {
   "cell_type": "code",
   "execution_count": null,
   "id": "1d5ffbad",
   "metadata": {},
   "outputs": [],
   "source": [
    "width=roads_parameters['Width'].max()+1\n",
    "\n",
    "buffered_roads_aoi=joined_roads.copy()\n",
    "buffered_roads_aoi['buffered_geom']=buffered_roads_aoi.buffer(width)\n",
    "\n",
    "buffered_roads_aoi.drop(columns=['geometry'],inplace=True)\n",
    "buffered_roads_aoi.rename(columns={'buffered_geom':'geometry'},inplace=True)\n",
    "\n",
    "AOI_roads=buffered_roads_aoi.unary_union\n"
   ]
  },
  {
   "cell_type": "code",
   "execution_count": null,
   "id": "b3f96a8f",
   "metadata": {},
   "outputs": [],
   "source": [
    "test_crs(AOI_roads.crs, forests.crs)\n",
    "    \n",
    "geom={'geometry':[x for x in AOI_roads.geoms]}\n",
    "AOI_roads_no_forest=gpd.GeoDataFrame(geom, crs=roads.crs)\n",
    "AOI_roads_no_forest=AOI_roads_no_forest.overlay(forests[['UUID','geometry']],how='difference')"
   ]
  },
  {
   "cell_type": "markdown",
   "id": "63a161b6",
   "metadata": {},
   "source": [
    "# Get the information of the tiles for the aoi"
   ]
  },
  {
   "cell_type": "code",
   "execution_count": 8,
   "id": "157a276b",
   "metadata": {},
   "outputs": [],
   "source": [
    "if not DETERMINE_RESTRICTED_AOI:\n",
    "    AOI_roads_no_forest = gpd.read_file(OUTPUT_DIR +  OUTPUT['output_files']['restricted_AOI'])"
   ]
  },
  {
   "cell_type": "code",
   "execution_count": 40,
   "id": "d059ab52",
   "metadata": {},
   "outputs": [],
   "source": [
    "test_crs(tiles_swissimages.crs, AOI_roads_no_forest.crs)"
   ]
  },
  {
   "cell_type": "code",
   "execution_count": 41,
   "id": "da62d3e1",
   "metadata": {},
   "outputs": [],
   "source": [
    "tiles_in_restricted_aoi=gpd.sjoin(tiles_swissimages,AOI_roads_no_forest, how='inner')"
   ]
  },
  {
   "cell_type": "code",
   "execution_count": 43,
   "id": "ff1abe0f",
   "metadata": {},
   "outputs": [],
   "source": [
    "# We want the images from 2018\n",
    "tiles_in_restricted_aoi['datenstand']=2018\n",
    "\n",
    "tiles_in_restricted_aoi.drop(columns=['index_right', 'FID'], inplace=True)\n",
    "tiles_in_restricted_aoi.reset_index(inplace=True)"
   ]
  },
  {
   "cell_type": "code",
   "execution_count": 44,
   "id": "0b786be8",
   "metadata": {},
   "outputs": [
    {
     "name": "stdout",
     "output_type": "stream",
     "text": [
      "Index(['fid', 'id', 'datenstand', 'resolution', 'geometry'], dtype='object')\n",
      "Index(['index', 'fid', 'id', 'datenstand', 'resolution', 'geometry'], dtype='object')\n"
     ]
    }
   ],
   "source": [
    "print(tiles_swissimages.columns)\n",
    "print(tiles_in_restricted_aoi.columns)"
   ]
  },
  {
   "cell_type": "code",
   "execution_count": 46,
   "id": "8ac41b71",
   "metadata": {},
   "outputs": [
    {
     "name": "stdout",
     "output_type": "stream",
     "text": [
      "<class 'geopandas.geodataframe.GeoDataFrame'>\n",
      "RangeIndex: 828 entries, 0 to 827\n",
      "Data columns (total 6 columns):\n",
      " #   Column      Non-Null Count  Dtype   \n",
      "---  ------      --------------  -----   \n",
      " 0   index       828 non-null    int64   \n",
      " 1   fid         828 non-null    int64   \n",
      " 2   id          828 non-null    object  \n",
      " 3   datenstand  828 non-null    int64   \n",
      " 4   resolution  828 non-null    object  \n",
      " 5   geometry    828 non-null    geometry\n",
      "dtypes: geometry(1), int64(3), object(2)\n",
      "memory usage: 127.1 KB\n"
     ]
    }
   ],
   "source": [
    "tiles_in_restricted_aoi.info(memory_usage=\"deep\")"
   ]
  },
  {
   "cell_type": "code",
   "execution_count": 51,
   "id": "b4c54643",
   "metadata": {},
   "outputs": [],
   "source": [
    "tiles_in_restricted_aoi.to_file(\"02_Data/processed/json/tiles_aoi.geojson\")"
   ]
  },
  {
   "cell_type": "code",
   "execution_count": null,
   "id": "4e450833",
   "metadata": {},
   "outputs": [],
   "source": [
    "# https://github.com/swiss-territorial-data-lab/detector-interface/blob/master/tools/wmts-geoquery/src/wmts-geoquery.py"
   ]
  },
  {
   "cell_type": "markdown",
   "id": "48822ac0",
   "metadata": {},
   "source": [
    "## Saving files"
   ]
  },
  {
   "cell_type": "code",
   "execution_count": null,
   "id": "32628821",
   "metadata": {},
   "outputs": [],
   "source": [
    "non_forest_roads.drop(columns=['UUID','GDB-Code'],inplace=True)\n",
    "non_forest_roads.to_file(\"02_Data/processed/shapefiles_gpkg/non_forest_wide_roads.shp\")"
   ]
  },
  {
   "cell_type": "code",
   "execution_count": null,
   "id": "d38f320b",
   "metadata": {},
   "outputs": [],
   "source": [
    "# AOI_roads_poly = gpd.GeoSeries([x for x in AOI_roads_no_forest.geoms], crs=roads.crs)\n",
    "\n",
    "AOI_roads_no_forest.to_file(\"02_Data/processed/shapefiles_gpkg/restricted_AOI.shp\")"
   ]
  }
 ],
 "metadata": {
  "kernelspec": {
   "display_name": "Python 3 (ipykernel)",
   "language": "python",
   "name": "python3"
  },
  "language_info": {
   "codemirror_mode": {
    "name": "ipython",
    "version": 3
   },
   "file_extension": ".py",
   "mimetype": "text/x-python",
   "name": "python",
   "nbconvert_exporter": "python",
   "pygments_lexer": "ipython3",
   "version": "3.8.10"
  }
 },
 "nbformat": 4,
 "nbformat_minor": 5
}
