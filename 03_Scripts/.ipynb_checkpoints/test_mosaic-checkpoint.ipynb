{
 "cells": [
  {
   "cell_type": "code",
   "execution_count": 1,
   "id": "b3d1dd83-edb9-4e3a-af03-13bbb3d3b553",
   "metadata": {},
   "outputs": [
    {
     "name": "stderr",
     "output_type": "stream",
     "text": [
      "/home/gsalamin/Python_env/road_surfaces/lib/python3.8/site-packages/geopandas/_compat.py:112: UserWarning: The Shapely GEOS version (3.10.2-CAPI-1.16.0) is incompatible with the GEOS version PyGEOS was compiled with (3.10.3-CAPI-1.16.1). Conversions between both will be slow.\n",
      "  warnings.warn(\n"
     ]
    }
   ],
   "source": [
    "import os\n",
    "import json\n",
    "import rasterio as rio\n",
    "import pandas as pd\n",
    "import geopandas as gpd\n",
    "import morecantile\n",
    "import pyproj\n",
    "import requests\n",
    "import lxml\n",
    "import shutil\n",
    "import time\n",
    "\n",
    "from shapely.geometry import box\n",
    "from osgeo import gdal\n",
    "from cogeo_mosaic.mosaic import MosaicJSON"
   ]
  },
  {
   "cell_type": "code",
   "execution_count": 2,
   "id": "fa8959b3-cfde-4714-97bc-6b2ebfb5cc2f",
   "metadata": {},
   "outputs": [],
   "source": [
    "IN_DIR = \"/mnt/s3/proj-roadsurf/02_Data/initial/images_RS/\"\n",
    "\n",
    "OUT_DIR = \"/mnt/data-01/acerioni/images_RS/\"\n",
    "\n",
    "SIRS_TK_SHPZIP = \"zip:///mnt/s3/proj-roadsurf/02_Data/initial/images_RS/SIRS_TK.zip\"\n"
   ]
  },
  {
   "cell_type": "code",
   "execution_count": 3,
   "id": "419188c0-e587-488e-a287-b2bb8eb3e88d",
   "metadata": {},
   "outputs": [
    {
     "name": "stdout",
     "output_type": "stream",
     "text": [
      "20180427_1430_12504_0_32.tfw\n",
      "20180427_1430_12504_0_32.tif\n",
      "20180427_1430_12504_0_32.tif.aux.xml\n",
      "20180427_1430_12504_0_33.tfw\n",
      "20180427_1430_12504_0_33.tif\n",
      "20180427_1430_12504_0_34.tfw\n",
      "20180427_1430_12504_0_34.tif\n",
      "20180427_1430_12504_0_35.tfw\n",
      "20180427_1430_12504_0_35.tif\n",
      "20180427_1430_12504_0_36.tfw\n",
      "20180427_1430_12504_0_36.tif\n",
      "SIRS_TK.zip\n"
     ]
    }
   ],
   "source": [
    "dataset = []\n",
    "\n",
    "for f in os.listdir(IN_DIR):\n",
    "    print(f)\n",
    "    if f.endswith('.tif'):\n",
    "        dataset.append(os.path.join(IN_DIR, f))"
   ]
  },
  {
   "cell_type": "code",
   "execution_count": 4,
   "id": "d3bccce0-20db-4507-a91c-9408346d48a2",
   "metadata": {},
   "outputs": [
    {
     "name": "stdout",
     "output_type": "stream",
     "text": [
      "12800 16806\n",
      "BoundingBox(left=2619471.5, bottom=1192519.3, right=2620751.5, top=1194199.9000000001)\n",
      "['__class__', '__delattr__', '__dict__', '__dir__', '__doc__', '__enter__', '__eq__', '__exit__', '__format__', '__ge__', '__getattribute__', '__gt__', '__hash__', '__init__', '__init_subclass__', '__le__', '__lt__', '__module__', '__ne__', '__new__', '__pyx_vtable__', '__reduce__', '__reduce_ex__', '__repr__', '__setattr__', '__setstate__', '__sizeof__', '__str__', '__subclasshook__', '__weakref__', '_block_shapes', '_closed', '_count', '_crs', '_crs_wkt', '_descriptions', '_dtypes', '_env', '_gcps', '_get_crs', '_get_rpcs', '_handle_crswkt', '_has_band', '_has_gcps_or_rpcs', '_mask_flags', '_nodatavals', '_offsets', '_read', '_rpcs', '_scales', '_set_all_descriptions', '_set_all_offsets', '_set_all_scales', '_set_all_units', '_set_attrs_from_dataset_handle', '_set_crs', '_set_gcps', '_set_nodatavals', '_set_rpcs', '_transform', '_units', 'block_shapes', 'block_size', 'block_window', 'block_windows', 'bounds', 'checksum', 'close', 'closed', 'colorinterp', 'colormap', 'compression', 'count', 'crs', 'dataset_mask', 'descriptions', 'driver', 'dtypes', 'files', 'gcps', 'get_gcps', 'get_nodatavals', 'get_tag_item', 'get_transform', 'height', 'index', 'indexes', 'interleaving', 'is_tiled', 'lnglat', 'mask_flag_enums', 'meta', 'mode', 'name', 'nodata', 'nodatavals', 'offsets', 'options', 'overviews', 'photometric', 'profile', 'read', 'read_crs', 'read_masks', 'read_transform', 'res', 'rpcs', 'sample', 'scales', 'shape', 'start', 'statistics', 'stop', 'subdatasets', 'tag_namespaces', 'tags', 'transform', 'units', 'width', 'window', 'window_bounds', 'window_transform', 'write_transform', 'xy']\n",
      "None\n"
     ]
    }
   ],
   "source": [
    "with rio.open(os.path.join(IN_DIR, \"20180427_1430_12504_0_32.tif\")) as ds:\n",
    "    print(ds.width, ds.height)\n",
    "    print(ds.bounds)\n",
    "    print(dir(ds))\n",
    "    print(ds.crs)\n",
    "    \n",
    "    #print(ds.statistics(bidx=1, approx=True, clear_cache=True))"
   ]
  },
  {
   "cell_type": "code",
   "execution_count": 5,
   "id": "5ad1ef79-09e5-4bf0-99c7-d810340cd851",
   "metadata": {},
   "outputs": [
    {
     "data": {
      "text/plain": [
       "['/mnt/s3/proj-roadsurf/02_Data/initial/images_RS/20180427_1430_12504_0_32.tif',\n",
       " '/mnt/s3/proj-roadsurf/02_Data/initial/images_RS/20180427_1430_12504_0_33.tif',\n",
       " '/mnt/s3/proj-roadsurf/02_Data/initial/images_RS/20180427_1430_12504_0_34.tif',\n",
       " '/mnt/s3/proj-roadsurf/02_Data/initial/images_RS/20180427_1430_12504_0_35.tif',\n",
       " '/mnt/s3/proj-roadsurf/02_Data/initial/images_RS/20180427_1430_12504_0_36.tif']"
      ]
     },
     "execution_count": 5,
     "metadata": {},
     "output_type": "execute_result"
    }
   ],
   "source": [
    "dataset"
   ]
  },
  {
   "cell_type": "code",
   "execution_count": 6,
   "id": "94b4e284-838f-44f8-af70-50346935e482",
   "metadata": {},
   "outputs": [
    {
     "name": "stdout",
     "output_type": "stream",
     "text": [
      "/mnt/s3/proj-roadsurf/02_Data/initial/images_RS/20180427_1430_12504_0_32.tif\n",
      "/mnt/s3/proj-roadsurf/02_Data/initial/images_RS/20180427_1430_12504_0_33.tif\n",
      "/mnt/s3/proj-roadsurf/02_Data/initial/images_RS/20180427_1430_12504_0_34.tif\n",
      "/mnt/s3/proj-roadsurf/02_Data/initial/images_RS/20180427_1430_12504_0_35.tif\n",
      "/mnt/s3/proj-roadsurf/02_Data/initial/images_RS/20180427_1430_12504_0_36.tif\n"
     ]
    }
   ],
   "source": [
    "for f in os.listdir(IN_DIR):\n",
    "    fn = os.path.join(IN_DIR, f)\n",
    "    if fn.endswith('.tif'):\n",
    "        print(fn)\n",
    "        ds = gdal.Open(fn)"
   ]
  },
  {
   "cell_type": "code",
   "execution_count": 7,
   "id": "db722941-0f63-4cab-ad8b-19f963ee9198",
   "metadata": {},
   "outputs": [
    {
     "data": {
      "text/plain": [
       "''"
      ]
     },
     "execution_count": 7,
     "metadata": {},
     "output_type": "execute_result"
    }
   ],
   "source": [
    "ds.GetProjection()"
   ]
  },
  {
   "cell_type": "code",
   "execution_count": 8,
   "id": "9752ac3f-d962-4707-bb94-3a7651b9996f",
   "metadata": {},
   "outputs": [],
   "source": [
    "src_filename = \"/mnt/s3/proj-roadsurf/02_Data/initial/images_RS/20180427_1430_12504_0_32.tif\"\n",
    "#dst_filename = \"/mnt/s3/proj-roadsurf/02_Data/processed/images_RS/20180427_1430_12504_0_32.tif\"\n",
    "dst_filename = \"/mnt/data-01/acerioni/images_RS/20180427_1430_12504_0_32.tif\"\n",
    "\n",
    "#shutil.copyfile(src_filename, dst_filename)\n",
    "\n",
    "#driver = gdal.GetDriverByName('GTiff')\n",
    "#src_ds = gdal.Open( src_filename )\n",
    "#dst_ds = driver.CreateCopy( dst_filename, src_ds, 0 )"
   ]
  },
  {
   "cell_type": "code",
   "execution_count": 9,
   "id": "a6356f23-5f6b-47f8-a122-a3af3111a8a6",
   "metadata": {},
   "outputs": [
    {
     "name": "stdout",
     "output_type": "stream",
     "text": [
      "Object ` driver.CreateCopy` not found.\n"
     ]
    }
   ],
   "source": [
    "? driver.CreateCopy"
   ]
  },
  {
   "cell_type": "code",
   "execution_count": null,
   "id": "272bbb31-9c47-4cb0-a6e2-c9feca35dae3",
   "metadata": {},
   "outputs": [],
   "source": []
  },
  {
   "cell_type": "code",
   "execution_count": 42,
   "id": "51104721-faf5-4a0d-a07a-13e670e79166",
   "metadata": {},
   "outputs": [
    {
     "name": "stdout",
     "output_type": "stream",
     "text": [
      "RGB (min, max) = (0.0, 2862.0) - NIR (min, max) = (0.0, 7741.0)\n",
      "2nd step: actual COG generation\n"
     ]
    },
    {
     "name": "stderr",
     "output_type": "stream",
     "text": [
      "Warning 1: General options of gdal_translate make the COPY_SRC_OVERVIEWS creation option ineffective as they hide the overviews\n"
     ]
    },
    {
     "name": "stdout",
     "output_type": "stream",
     "text": [
      "2nd step: actual COG generation\n"
     ]
    },
    {
     "name": "stderr",
     "output_type": "stream",
     "text": [
      "Warning 1: General options of gdal_translate make the COPY_SRC_OVERVIEWS creation option ineffective as they hide the overviews\n"
     ]
    },
    {
     "name": "stdout",
     "output_type": "stream",
     "text": [
      "2nd step: actual COG generation\n"
     ]
    },
    {
     "name": "stderr",
     "output_type": "stream",
     "text": [
      "Warning 1: General options of gdal_translate make the COPY_SRC_OVERVIEWS creation option ineffective as they hide the overviews\n"
     ]
    },
    {
     "name": "stdout",
     "output_type": "stream",
     "text": [
      "2nd step: actual COG generation\n"
     ]
    },
    {
     "name": "stderr",
     "output_type": "stream",
     "text": [
      "Warning 1: General options of gdal_translate make the COPY_SRC_OVERVIEWS creation option ineffective as they hide the overviews\n"
     ]
    },
    {
     "name": "stdout",
     "output_type": "stream",
     "text": [
      "2nd step: actual COG generation\n"
     ]
    },
    {
     "name": "stderr",
     "output_type": "stream",
     "text": [
      "Warning 1: General options of gdal_translate make the COPY_SRC_OVERVIEWS creation option ineffective as they hide the overviews\n"
     ]
    },
    {
     "name": "stdout",
     "output_type": "stream",
     "text": [
      "Elapsed time = 350.02\n"
     ]
    }
   ],
   "source": [
    "t1 = time.time()\n",
    "\n",
    "if False:\n",
    "    \n",
    "    for f in dataset:\n",
    "    \n",
    "        src_filename = f\n",
    "        dst_filename = os.path.join(OUT_DIR, os.path.basename(f))\n",
    "        print(os.path.basename(f))\n",
    "\n",
    "        # copy + generate overviews\n",
    "        print(\"1st step: copy + overviews\")\n",
    "        src_ds = gdal.Open(src_filename)\n",
    "        driver = gdal.GetDriverByName('GTiff')\n",
    "        dst_ds = driver.CreateCopy(dst_filename, src_ds, strict=0) #, options=['TILED=YES', 'COPY_SRC_OVERVIEWS=YES', 'COMPRESS=DEFLATE'])\n",
    "\n",
    "        dst_ds.BuildOverviews(\"AVERAGE\", [2, 4, 8, 16, 32, 64, 128, 256])\n",
    "        epsg2056 = pyproj.CRS.from_epsg(2056)\n",
    "        dst_ds.SetProjection(epsg2056.to_wkt())\n",
    "           \n",
    "        # Once we're done, close properly the dataset\n",
    "        dst_ds = None\n",
    "        src_ds = None\n",
    "        \n",
    "        \n",
    "# collect statistics\n",
    "stats = {}\n",
    "\n",
    "if True:\n",
    "    \n",
    "    for f in dataset:\n",
    "        \n",
    "        file_basename = os.path.basename(f)\n",
    "        \n",
    "        src_filename = os.path.join(OUT_DIR, os.path.basename(f))\n",
    "        \n",
    "        src_ds = gdal.Open(src_filename)\n",
    "        \n",
    "        stats[file_basename] = {}\n",
    "        for i in range(1, src_ds.RasterCount+1):\n",
    "            # cf. https://arijolma.org/Geo-GDAL/2.4/classGeo_1_1GDAL_1_1Band.html#a8e2361c3a2d76bbfa7253370c78990cf\n",
    "            stats[file_basename][i] = src_ds.GetRasterBand(i).GetStatistics(1, 1)\n",
    "    \n",
    "    \n",
    "    # analyze stats\n",
    "    rgb_stats = {k: {2: v[2], 3: v[3], 4: v[4]} for k, v in stats.items()}\n",
    "    nir_stats = {k: {1: v[1]} for k, v in stats.items()}\n",
    "    \n",
    "    rgb_stats_list = [list(x.values()) for x in rgb_stats.values()]\n",
    "    rgb_flat_stats_list = [e for v in rgb_stats_list for e in v]\n",
    "    \n",
    "    nir_stats_list = [list(x.values()) for x in nir_stats.values()]\n",
    "    nir_flat_stats_list = [e for v in nir_stats_list for e in v]\n",
    "    \n",
    "    rgb_mins = [x[0] for x in rgb_flat_stats_list]\n",
    "    rgb_maxs = [x[1] for x in rgb_flat_stats_list]\n",
    "    \n",
    "    nir_mins = [x[0] for x in nir_flat_stats_list]\n",
    "    nir_maxs = [x[1] for x in nir_flat_stats_list]\n",
    "\n",
    "    rgb_min = min(rgb_mins)\n",
    "    rgb_max = max(rgb_maxs)\n",
    "    \n",
    "    nir_min = min(nir_mins)\n",
    "    nir_max = max(nir_maxs)\n",
    "\n",
    "    print(f\"RGB (min, max) = {(rgb_min, rgb_max)} - NIR (min, max) = {(nir_min, nir_max)}\")\n",
    "        \n",
    "        \n",
    "if True:      \n",
    "    for f in dataset:\n",
    "        # generate COG\n",
    "        print(\"2nd step: actual COG generation\")\n",
    "\n",
    "        src_filename = os.path.join(OUT_DIR, os.path.basename(f))\n",
    "        dst_filename = os.path.join(OUT_DIR, f\"cog_{os.path.basename(f)}\")\n",
    "\n",
    "        src_ds = gdal.Open(src_filename)\n",
    "        # scaleParams=[[the_min, the_max, 0, 255]]\n",
    "        \n",
    "        # doc: https://gdal.org/api/python/osgeo.gdal.html?highlight=translate#osgeo.gdal.Translate\n",
    "        dst_ds = gdal.Translate(\n",
    "            dst_filename, \n",
    "            src_ds, \n",
    "            outputType=gdal.GDT_Byte, \n",
    "            creationOptions=[\"TILED=YES\", \"COPY_SRC_OVERVIEWS=YES\", \"COMPRESS=DEFLATE\"], \n",
    "            scaleParams=[[nir_min, nir_max, 0, 65535], [rgb_min, rgb_max, 0, 255], [rgb_min, rgb_max, 0, 255], [rgb_min, rgb_max, 0, 255]]\n",
    "        )\n",
    "        \n",
    "        # Once we're done, close properly the dataset\n",
    "        dst_ds = None\n",
    "        src_ds = None\n",
    "        \n",
    "t2 = time.time()\n",
    "\n",
    "print(f\"Elapsed time = {t2-t1:.2f}\")"
   ]
  },
  {
   "cell_type": "code",
   "execution_count": 33,
   "id": "8e3b57c9-c669-4129-896b-fd56d936a974",
   "metadata": {},
   "outputs": [
    {
     "data": {
      "text/plain": [
       "dict_values([{1: [0.0, 7741.0, 2940.2143202157, 1506.1492688943], 2: [0.0, 1962.0, 595.70696969697, 275.86668587502], 3: [0.0, 2003.0, 921.57272727273, 320.7497493069], 4: [0.0, 1740.0, 730.18484848485, 216.88482856424]}, {1: [0.0, 5906.0, 2717.6092307692, 1225.725032752], 2: [0.0, 2125.0, 502.81507692308, 257.73647594825], 3: [0.0, 2393.0, 795.25323076923, 310.58024237079], 4: [0.0, 2583.0, 644.03169230769, 209.36104239452]}, {1: [0.0, 5424.0, 2604.6723076923, 1271.6775624236], 2: [0.0, 1957.0, 472.45630769231, 239.25174530073], 3: [0.0, 2077.0, 745.27353846154, 309.45149679557], 4: [0.0, 1771.0, 609.64892307692, 196.42664430048]}, {1: [0.0, 5688.0, 2141.2338709677, 1189.8216008108], 2: [0.0, 2311.0, 414.78741935484, 220.87138638945], 3: [0.0, 2862.0, 653.6864516129, 291.25425276196], 4: [0.0, 2230.0, 572.67677419355, 181.43756957728]}, {1: [0.0, 4890.0, 1969.1560606061, 1063.4750437483], 2: [0.0, 1800.0, 428.9896969697, 232.0351930267], 3: [0.0, 1943.0, 675.5903030303, 294.98024180864], 4: [0.0, 1675.0, 612.84393939394, 206.15966350673]}])"
      ]
     },
     "execution_count": 33,
     "metadata": {},
     "output_type": "execute_result"
    }
   ],
   "source": [
    "stats.values()"
   ]
  },
  {
   "cell_type": "code",
   "execution_count": 37,
   "id": "3dc4a851-cd11-4f4b-a166-5f000325b14c",
   "metadata": {},
   "outputs": [
    {
     "data": {
      "text/plain": [
       "{'20180427_1430_12504_0_32.tif': {1: [0.0,\n",
       "   7741.0,\n",
       "   2940.2143202157,\n",
       "   1506.1492688943],\n",
       "  2: [0.0, 1962.0, 595.70696969697, 275.86668587502],\n",
       "  3: [0.0, 2003.0, 921.57272727273, 320.7497493069],\n",
       "  4: [0.0, 1740.0, 730.18484848485, 216.88482856424]},\n",
       " '20180427_1430_12504_0_33.tif': {1: [0.0,\n",
       "   5906.0,\n",
       "   2717.6092307692,\n",
       "   1225.725032752],\n",
       "  2: [0.0, 2125.0, 502.81507692308, 257.73647594825],\n",
       "  3: [0.0, 2393.0, 795.25323076923, 310.58024237079],\n",
       "  4: [0.0, 2583.0, 644.03169230769, 209.36104239452]},\n",
       " '20180427_1430_12504_0_34.tif': {1: [0.0,\n",
       "   5424.0,\n",
       "   2604.6723076923,\n",
       "   1271.6775624236],\n",
       "  2: [0.0, 1957.0, 472.45630769231, 239.25174530073],\n",
       "  3: [0.0, 2077.0, 745.27353846154, 309.45149679557],\n",
       "  4: [0.0, 1771.0, 609.64892307692, 196.42664430048]},\n",
       " '20180427_1430_12504_0_35.tif': {1: [0.0,\n",
       "   5688.0,\n",
       "   2141.2338709677,\n",
       "   1189.8216008108],\n",
       "  2: [0.0, 2311.0, 414.78741935484, 220.87138638945],\n",
       "  3: [0.0, 2862.0, 653.6864516129, 291.25425276196],\n",
       "  4: [0.0, 2230.0, 572.67677419355, 181.43756957728]},\n",
       " '20180427_1430_12504_0_36.tif': {1: [0.0,\n",
       "   4890.0,\n",
       "   1969.1560606061,\n",
       "   1063.4750437483],\n",
       "  2: [0.0, 1800.0, 428.9896969697, 232.0351930267],\n",
       "  3: [0.0, 1943.0, 675.5903030303, 294.98024180864],\n",
       "  4: [0.0, 1675.0, 612.84393939394, 206.15966350673]}}"
      ]
     },
     "execution_count": 37,
     "metadata": {},
     "output_type": "execute_result"
    }
   ],
   "source": [
    "stats"
   ]
  },
  {
   "cell_type": "code",
   "execution_count": 40,
   "id": "974d251e-4627-4206-beb0-8ba9d4ed03f1",
   "metadata": {},
   "outputs": [
    {
     "data": {
      "text/plain": [
       "{'20180427_1430_12504_0_32.tif': {1: [0.0,\n",
       "   7741.0,\n",
       "   2940.2143202157,\n",
       "   1506.1492688943]},\n",
       " '20180427_1430_12504_0_33.tif': {1: [0.0,\n",
       "   5906.0,\n",
       "   2717.6092307692,\n",
       "   1225.725032752]},\n",
       " '20180427_1430_12504_0_34.tif': {1: [0.0,\n",
       "   5424.0,\n",
       "   2604.6723076923,\n",
       "   1271.6775624236]},\n",
       " '20180427_1430_12504_0_35.tif': {1: [0.0,\n",
       "   5688.0,\n",
       "   2141.2338709677,\n",
       "   1189.8216008108]},\n",
       " '20180427_1430_12504_0_36.tif': {1: [0.0,\n",
       "   4890.0,\n",
       "   1969.1560606061,\n",
       "   1063.4750437483]}}"
      ]
     },
     "execution_count": 40,
     "metadata": {},
     "output_type": "execute_result"
    }
   ],
   "source": [
    "rgb_stats = {k: {2: v[2], 3: v[3], 4: v[4]} for k, v in stats.items()}\n",
    "rgb_stats\n",
    "\n",
    "nir_stats = {k: {1: v[1]} for k, v in stats.items()}\n",
    "nir_stats"
   ]
  },
  {
   "cell_type": "code",
   "execution_count": 18,
   "id": "0d27988f-05dd-4544-b065-a5cd5ef69dc1",
   "metadata": {},
   "outputs": [
    {
     "data": {
      "text/plain": [
       "(0.0, 7741.0)"
      ]
     },
     "execution_count": 18,
     "metadata": {},
     "output_type": "execute_result"
    }
   ],
   "source": [
    "the_min, the_max"
   ]
  },
  {
   "cell_type": "code",
   "execution_count": null,
   "id": "41ef4ae7-c60d-4d5c-bc23-aae8a88bc4ea",
   "metadata": {},
   "outputs": [],
   "source": []
  },
  {
   "cell_type": "code",
   "execution_count": 19,
   "id": "875ddd66-a308-4499-b6b1-cc3b1f3c79e7",
   "metadata": {},
   "outputs": [
    {
     "name": "stdout",
     "output_type": "stream",
     "text": [
      "PROJCS[\"CH1903+ / LV95\",GEOGCS[\"CH1903+\",DATUM[\"CH1903+\",SPHEROID[\"Bessel 1841\",6377397.155,299.1528128,AUTHORITY[\"EPSG\",\"7004\"]],AUTHORITY[\"EPSG\",\"6150\"]],PRIMEM[\"Greenwich\",0,AUTHORITY[\"EPSG\",\"8901\"]],UNIT[\"degree\",0.0174532925199433,AUTHORITY[\"EPSG\",\"9122\"]],AUTHORITY[\"EPSG\",\"4150\"]],PROJECTION[\"Hotine_Oblique_Mercator_Azimuth_Center\"],PARAMETER[\"latitude_of_center\",46.9524055555556],PARAMETER[\"longitude_of_center\",7.43958333333333],PARAMETER[\"azimuth\",90],PARAMETER[\"rectified_grid_angle\",90],PARAMETER[\"scale_factor\",1],PARAMETER[\"false_easting\",2600000],PARAMETER[\"false_northing\",1200000],UNIT[\"metre\",1,AUTHORITY[\"EPSG\",\"9001\"]],AXIS[\"Easting\",EAST],AXIS[\"Northing\",NORTH],AUTHORITY[\"EPSG\",\"2056\"]]\n"
     ]
    },
    {
     "data": {
      "text/plain": [
       "(2624591.5, 0.1, 0.0, 1194193.9000000001, 0.0, -0.1)"
      ]
     },
     "execution_count": 19,
     "metadata": {},
     "output_type": "execute_result"
    }
   ],
   "source": [
    "ds = gdal.Open(dst_filename)\n",
    "print(ds.GetProjection())\n",
    "ds.GetGeoTransform()"
   ]
  },
  {
   "cell_type": "code",
   "execution_count": 58,
   "id": "0234ecb1-5b45-482b-93b1-5dfaf8bee1e1",
   "metadata": {},
   "outputs": [
    {
     "name": "stdout",
     "output_type": "stream",
     "text": [
      "20180427_1430_12504_0_33.tif\n",
      "20180427_1430_12504_0_32.tif.aux.xml\n",
      "20180427_1430_12504_0_36.tif\n",
      "cog_20180427_1430_12504_0_34.tif\n",
      "/mnt/data-01/acerioni/images_RS/cog_20180427_1430_12504_0_34.tif\n",
      "cog_20180427_1430_12504_0_35.tif\n",
      "/mnt/data-01/acerioni/images_RS/cog_20180427_1430_12504_0_35.tif\n",
      "cog_20180427_1430_12504_0_36.tif\n",
      "/mnt/data-01/acerioni/images_RS/cog_20180427_1430_12504_0_36.tif\n",
      "cog_20180427_1430_12504_0_32.tif\n",
      "/mnt/data-01/acerioni/images_RS/cog_20180427_1430_12504_0_32.tif\n",
      "20180427_1430_12504_0_35.tif.aux.xml\n",
      "20180427_1430_12504_0_32.tif\n",
      "20180427_1430_12504_0_35.tif\n",
      "20180427_1430_12504_0_33.tif.aux.xml\n",
      "mosaic.json\n",
      "cog_20180427_1430_12504_0_33.tif\n",
      "/mnt/data-01/acerioni/images_RS/cog_20180427_1430_12504_0_33.tif\n",
      "20180427_1430_12504_0_34.tif.aux.xml\n",
      "20180427_1430_12504_0_34.tif\n",
      "20180427_1430_12504_0_36.tif.aux.xml\n"
     ]
    },
    {
     "name": "stderr",
     "output_type": "stream",
     "text": [
      "/home/acerioni/venv/lib/python3.8/site-packages/mercantile/__init__.py:77: FutureWarning: Mercantile 2.0 will require tile x and y to be within the range (0, 2 ** zoom)\n",
      "  warnings.warn(\n"
     ]
    }
   ],
   "source": [
    "out_dataset = []\n",
    "\n",
    "for f in os.listdir(OUT_DIR):\n",
    "    print(f)\n",
    "    if f.startswith('cog_') and f.endswith('.tif'):\n",
    "        #_el = f\"http://localhost:3000/{f}\"\n",
    "        _el = os.path.join(OUT_DIR, f)\n",
    "        print(_el)\n",
    "        out_dataset.append(_el)\n",
    "\n",
    "try:\n",
    "    del mosaic_definition\n",
    "except:\n",
    "    pass\n",
    "\n",
    "\n",
    "mosaic_definition = MosaicJSON.from_urls(out_dataset, minzoom=0, maxzoom=24)"
   ]
  },
  {
   "cell_type": "code",
   "execution_count": 61,
   "id": "88c04341-3aa6-4d0b-9bae-95f7f3fa09df",
   "metadata": {},
   "outputs": [
    {
     "data": {
      "text/plain": [
       "'0.0.2'"
      ]
     },
     "execution_count": 61,
     "metadata": {},
     "output_type": "execute_result"
    }
   ],
   "source": [
    "mosaic_definition.mosaicjson"
   ]
  },
  {
   "cell_type": "code",
   "execution_count": 57,
   "id": "f79f0119-f7ba-4b79-8fc4-a79e0dc84861",
   "metadata": {},
   "outputs": [
    {
     "data": {
      "text/plain": [
       "MosaicJSON(mosaicjson='0.0.2', name=None, description=None, version='1.0.0', attribution=None, minzoom=1, maxzoom=24, quadkey_zoom=1, bounds=(7.6940925048526845, 46.88321481597479, 7.778152103876776, 46.89862634008234), center=(7.736122304364731, 46.89092057802856, 1), tiles={'1': ['/mnt/data-01/acerioni/images_RS/cog_20180427_1430_12504_0_34.tif', '/mnt/data-01/acerioni/images_RS/cog_20180427_1430_12504_0_35.tif', '/mnt/data-01/acerioni/images_RS/cog_20180427_1430_12504_0_36.tif', '/mnt/data-01/acerioni/images_RS/cog_20180427_1430_12504_0_32.tif', '/mnt/data-01/acerioni/images_RS/cog_20180427_1430_12504_0_33.tif']})"
      ]
     },
     "execution_count": 57,
     "metadata": {},
     "output_type": "execute_result"
    }
   ],
   "source": [
    "mosaic_definition"
   ]
  },
  {
   "cell_type": "code",
   "execution_count": 44,
   "id": "390a045e-6693-4723-85a6-e083fdfc1717",
   "metadata": {},
   "outputs": [
    {
     "data": {
      "text/plain": [
       "\u001b[0;31mSignature:\u001b[0m\n",
       " \u001b[0mMosaicJSON\u001b[0m\u001b[0;34m.\u001b[0m\u001b[0mfrom_urls\u001b[0m\u001b[0;34m(\u001b[0m\u001b[0;34m\u001b[0m\n",
       "\u001b[0;34m\u001b[0m    \u001b[0murls\u001b[0m\u001b[0;34m:\u001b[0m \u001b[0mSequence\u001b[0m\u001b[0;34m[\u001b[0m\u001b[0mstr\u001b[0m\u001b[0;34m]\u001b[0m\u001b[0;34m,\u001b[0m\u001b[0;34m\u001b[0m\n",
       "\u001b[0;34m\u001b[0m    \u001b[0mminzoom\u001b[0m\u001b[0;34m:\u001b[0m \u001b[0mUnion\u001b[0m\u001b[0;34m[\u001b[0m\u001b[0mint\u001b[0m\u001b[0;34m,\u001b[0m \u001b[0mNoneType\u001b[0m\u001b[0;34m]\u001b[0m \u001b[0;34m=\u001b[0m \u001b[0;32mNone\u001b[0m\u001b[0;34m,\u001b[0m\u001b[0;34m\u001b[0m\n",
       "\u001b[0;34m\u001b[0m    \u001b[0mmaxzoom\u001b[0m\u001b[0;34m:\u001b[0m \u001b[0mUnion\u001b[0m\u001b[0;34m[\u001b[0m\u001b[0mint\u001b[0m\u001b[0;34m,\u001b[0m \u001b[0mNoneType\u001b[0m\u001b[0;34m]\u001b[0m \u001b[0;34m=\u001b[0m \u001b[0;32mNone\u001b[0m\u001b[0;34m,\u001b[0m\u001b[0;34m\u001b[0m\n",
       "\u001b[0;34m\u001b[0m    \u001b[0mmax_threads\u001b[0m\u001b[0;34m:\u001b[0m \u001b[0mint\u001b[0m \u001b[0;34m=\u001b[0m \u001b[0;36m20\u001b[0m\u001b[0;34m,\u001b[0m\u001b[0;34m\u001b[0m\n",
       "\u001b[0;34m\u001b[0m    \u001b[0mquiet\u001b[0m\u001b[0;34m:\u001b[0m \u001b[0mbool\u001b[0m \u001b[0;34m=\u001b[0m \u001b[0;32mTrue\u001b[0m\u001b[0;34m,\u001b[0m\u001b[0;34m\u001b[0m\n",
       "\u001b[0;34m\u001b[0m    \u001b[0;34m**\u001b[0m\u001b[0mkwargs\u001b[0m\u001b[0;34m,\u001b[0m\u001b[0;34m\u001b[0m\n",
       "\u001b[0;34m\u001b[0m\u001b[0;34m)\u001b[0m\u001b[0;34m\u001b[0m\u001b[0;34m\u001b[0m\u001b[0m\n",
       "\u001b[0;31mDocstring:\u001b[0m\n",
       "Create mosaicjson from COG urls.\n",
       "\n",
       "Attributes:\n",
       "    urls (list): List of COGs.\n",
       "    minzoom (int): Force mosaic min-zoom.\n",
       "    maxzoom (int): Force mosaic max-zoom.\n",
       "    max_threads (int): Max threads to use (default: 20).\n",
       "    quiet (bool): Mask processing steps (default is True).\n",
       "    kwargs (any): Options forwarded to `MosaicJSON._create_mosaic`\n",
       "\n",
       "Returns:\n",
       "    mosaic_definition (MosaicJSON): Mosaic definition.\n",
       "\n",
       "\n",
       "Raises:\n",
       "    Exception: If COGs don't have the same datatype\n",
       "\n",
       "Examples:\n",
       "    >>> MosaicJSON.from_urls([\"1.tif\", \"2.tif\"])\n",
       "\u001b[0;31mFile:\u001b[0m      ~/venv/lib/python3.8/site-packages/cogeo_mosaic/mosaic.py\n",
       "\u001b[0;31mType:\u001b[0m      method\n"
      ]
     },
     "metadata": {},
     "output_type": "display_data"
    }
   ],
   "source": [
    "? MosaicJSON.from_urls"
   ]
  },
  {
   "cell_type": "code",
   "execution_count": 45,
   "id": "f36e51c7-a701-40f6-b900-f7a01680ca95",
   "metadata": {},
   "outputs": [],
   "source": [
    "with open('/mnt/data-01/acerioni/images_RS/mosaic.json', 'w') as fp:\n",
    "    \n",
    "    # \"hack\"\n",
    "    original_def = mosaic_definition.dict()\n",
    "    modified_def = json.loads(json.dumps(mosaic_definition.dict()).replace(\"/mnt/data-01/acerioni/images_RS\", \"/data\"))\n",
    "    \n",
    "    json.dump(modified_def, fp)"
   ]
  },
  {
   "cell_type": "code",
   "execution_count": 46,
   "id": "48437e12-7f01-4138-bc98-a6fd78720348",
   "metadata": {},
   "outputs": [
    {
     "data": {
      "text/plain": [
       "['/mnt/data-01/acerioni/images_RS/cog_20180427_1430_12504_0_34.tif',\n",
       " '/mnt/data-01/acerioni/images_RS/cog_20180427_1430_12504_0_35.tif',\n",
       " '/mnt/data-01/acerioni/images_RS/cog_20180427_1430_12504_0_36.tif',\n",
       " '/mnt/data-01/acerioni/images_RS/cog_20180427_1430_12504_0_32.tif',\n",
       " '/mnt/data-01/acerioni/images_RS/cog_20180427_1430_12504_0_33.tif']"
      ]
     },
     "execution_count": 46,
     "metadata": {},
     "output_type": "execute_result"
    }
   ],
   "source": [
    "out_dataset"
   ]
  },
  {
   "cell_type": "code",
   "execution_count": null,
   "id": "2d101022-95e5-4209-a303-032533111d19",
   "metadata": {},
   "outputs": [],
   "source": []
  }
 ],
 "metadata": {
  "kernelspec": {
   "display_name": "Python 3 (ipykernel)",
   "language": "python",
   "name": "python3"
  },
  "language_info": {
   "codemirror_mode": {
    "name": "ipython",
    "version": 3
   },
   "file_extension": ".py",
   "mimetype": "text/x-python",
   "name": "python",
   "nbconvert_exporter": "python",
   "pygments_lexer": "ipython3",
   "version": "3.8.10"
  }
 },
 "nbformat": 4,
 "nbformat_minor": 5
}
